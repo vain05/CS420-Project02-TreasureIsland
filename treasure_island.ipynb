{
 "cells": [
  {
   "attachments": {},
   "cell_type": "markdown",
   "metadata": {},
   "source": [
    "# Treasure Island"
   ]
  },
  {
   "attachments": {},
   "cell_type": "markdown",
   "metadata": {},
   "source": [
    "## Import packages"
   ]
  },
  {
   "cell_type": "code",
   "execution_count": 1,
   "metadata": {},
   "outputs": [],
   "source": [
    "import numpy as np\n",
    "from numpy import typing as npt\n",
    "\n",
    "from typing import List, Tuple"
   ]
  },
  {
   "cell_type": "code",
   "execution_count": 2,
   "metadata": {},
   "outputs": [],
   "source": [
    "h_func = lambda x, y: -x/y * np.log2(x/y)"
   ]
  },
  {
   "cell_type": "code",
   "execution_count": 3,
   "metadata": {},
   "outputs": [
    {
     "data": {
      "text/plain": [
       "0.5509775004326937"
      ]
     },
     "execution_count": 3,
     "metadata": {},
     "output_type": "execute_result"
    }
   ],
   "source": [
    "3 / 5 * (h_func(2, 3) + h_func(1, 3))"
   ]
  },
  {
   "cell_type": "code",
   "execution_count": 4,
   "metadata": {},
   "outputs": [
    {
     "data": {
      "text/plain": [
       "0.44899999999999995"
      ]
     },
     "execution_count": 4,
     "metadata": {},
     "output_type": "execute_result"
    }
   ],
   "source": [
    "1 - 0.551"
   ]
  },
  {
   "cell_type": "code",
   "execution_count": 5,
   "metadata": {},
   "outputs": [],
   "source": [
    "sigmoid = lambda x: 1 / (1 + np.exp(-x)) \n",
    "h1 = 1 / (1 + np.exp(4))\n",
    "h2 = 1 / (1 + np.exp(0))"
   ]
  },
  {
   "cell_type": "code",
   "execution_count": 6,
   "metadata": {},
   "outputs": [
    {
     "data": {
      "text/plain": [
       "0.5757610475392924"
      ]
     },
     "execution_count": 6,
     "metadata": {},
     "output_type": "execute_result"
    }
   ],
   "source": [
    "sigmoid(0.3 * h1 + 0.6 * h2)"
   ]
  },
  {
   "cell_type": "code",
   "execution_count": 32,
   "metadata": {},
   "outputs": [
    {
     "name": "stderr",
     "output_type": "stream",
     "text": [
      "/tmp/ipykernel_3066/2404730261.py:4: DeprecationWarning: elementwise comparison failed; this will raise an error in the future.\n",
      "  a in b\n"
     ]
    },
    {
     "data": {
      "text/plain": [
       "False"
      ]
     },
     "execution_count": 32,
     "metadata": {},
     "output_type": "execute_result"
    }
   ],
   "source": [
    "a = np.array([[0, 1, 1],\n",
    "              [1, 2, 2]])\n",
    "b = np.array([1, 2])\n",
    "b.astype()"
   ]
  },
  {
   "attachments": {},
   "cell_type": "markdown",
   "metadata": {},
   "source": [
    "### Set a Random Number Generator"
   ]
  },
  {
   "cell_type": "code",
   "execution_count": 6,
   "metadata": {},
   "outputs": [],
   "source": [
    "rng = np.random.RandomState(42)"
   ]
  },
  {
   "cell_type": "code",
   "execution_count": 5,
   "metadata": {},
   "outputs": [],
   "source": [
    "class UserInterface:\n",
    "    pass"
   ]
  },
  {
   "cell_type": "code",
   "execution_count": 6,
   "metadata": {},
   "outputs": [],
   "source": [
    "class MapGenerator:\n",
    "    def __init__(self) -> None:\n",
    "        pass"
   ]
  },
  {
   "cell_type": "code",
   "execution_count": 2,
   "metadata": {},
   "outputs": [
    {
     "ename": "SyntaxError",
     "evalue": "invalid syntax (777433636.py, line 95)",
     "output_type": "error",
     "traceback": [
      "\u001b[1;36m  Input \u001b[1;32mIn [2]\u001b[1;36m\u001b[0m\n\u001b[1;33m    overlaps = rand_regions ==\u001b[0m\n\u001b[1;37m                               ^\u001b[0m\n\u001b[1;31mSyntaxError\u001b[0m\u001b[1;31m:\u001b[0m invalid syntax\n"
     ]
    }
   ],
   "source": [
    "class Map:\n",
    "    def __init__(\n",
    "        self, \n",
    "        W: int, \n",
    "        H: int,\n",
    "        value: np.ndarray,                                  # matrix of tiles's value (string)\n",
    "        region: np.ndarray,                                 # matrix of tiles's region (int)\n",
    "        scanned: np.ndarray,                                # matrix of tiles that is scanned (bool)\n",
    "        potential: np.ndarray,                              # matrix of tiles potential (bool)\n",
    "        agent: Tuple[int, int],                             # agent's coordinate\n",
    "        pirate: Tuple[int, int],                            # pirate's coordinate\n",
    "        treasure: Tuple[int, int],                          # treasure's coordinate\n",
    "        total_region: int,                                  # maximum number of regions\n",
    "        regions: List[List[Tuple[int, int]]],               # tiles that categorize based on regions (1, 2, ..., max region)\n",
    "        beaches: List[List[Tuple[int, int]]],               # tiles that are at the seaside\n",
    "        boundaries: List[List[Tuple[int, int]]]             # tiles that are in boundary between two regions\n",
    "    ) -> None:\n",
    "        self.total_tile = W * H\n",
    "        self.shape = (W, H)\n",
    "        self.value = value \n",
    "        self.region = region\n",
    "        self.scanned = scanned\n",
    "        self.potential = potential\n",
    "        self.agent = agent\n",
    "        self.pirate = pirate\n",
    "        self.treasure = treasure\n",
    "        self.total_region = total_region\n",
    "        self.regions = regions\n",
    "        self.beaches = beaches\n",
    "        self.boundaries = boundaries\n",
    "\n",
    "        # Map generate hints function to string\n",
    "        self.hints = {\"1\": self.generate_hint_1, \"2\": self.generate_hint_2, \"3\": self.generate_hint_3, \"4\": self.generate_hint_4,\n",
    "                      \"5\": self.generate_hint_5, \"6\": self.generate_hint_6, \"7\": self.generate_hint_7, \"8\": self.generate_hint_8,\n",
    "                      \"9\": self.generate_hint_9, \"10\": self.generate_hint_10, \"11\": self.generate_hint_11, \"12\": self.generate_hint_12,\n",
    "                      \"13\": self.generate_hint_13, \"14\": self.generate_hint_14, \"15\": self.generate_hint_15, \"16\": self.generate_hint_16}\n",
    "\n",
    "    def hint_generator(self):\n",
    "        np.random.randint(16)\n",
    "\n",
    "    def ravel_index(self, index: Tuple[int, int]) -> int:\n",
    "        W, H = self.shape\n",
    "        return H * index[0] + index[1]\n",
    "\n",
    "    \n",
    "    def generate_hint(self) -> None:\n",
    "        self.hints[str(rng.randint(16))]()\n",
    "    \n",
    "    def generate_hint_1(self) -> Tuple[bool, List[Tuple[int, int]], str]:\n",
    "        # A list of random tiles that doesn't contain the treasure (1 to 12)\n",
    "\n",
    "        # trueness of this hint\n",
    "        trueness = True\n",
    "\n",
    "        # get random tiles doest not contain the treasure\n",
    "        no_tiles = rng.randint(1, 13)\n",
    "        rand_tiles = rng.choice(np.arange(self.total_tile), size=no_tiles, replace=False)\n",
    "\n",
    "        # get tile that overlaps with the treasure\n",
    "        overlap = rand_tiles == self.ravel_index(self.treasure)\n",
    "\n",
    "        # coordinate of these random tiles\n",
    "        tile_coords = np.unravel_index(rand_tiles, self.shape)\n",
    "\n",
    "        # if one of them contain the treasure\n",
    "        if overlap.any():\n",
    "            trueness = False\n",
    "            self.potential[tile_coords] = True\n",
    "            masked_tiles = np.ones(self.shape, dtype=bool)\n",
    "            masked_tiles[tile_coords] = False\n",
    "            self.scanned[masked_tiles] = True\n",
    "        \n",
    "        # if they are not contain the treasure\n",
    "        else:\n",
    "            self.scanned[tile_coords] = True\n",
    "\n",
    "        hinted_tiles = list(zip(tile_coords[0], tile_coords[1]))\n",
    "\n",
    "        log = f\"These tiles {hinted_tiles} do not contain the treasure\"\n",
    "                        \n",
    "        return trueness, hinted_tiles, log\n",
    "        \n",
    "    def generate_hint_2(self) -> Tuple[bool, List[int], str]:\n",
    "        # 2-5 regions that 1 of them has the treasure.\n",
    "\n",
    "        # trueness of this hint\n",
    "        trueness = False\n",
    "\n",
    "        # number of regions\n",
    "        no_reg = rng.randint(1, 5)\n",
    "        rand_regions = rng.choice(np.arange(1, self.total_region + 1), size=no_reg, replace=False)\n",
    "        \n",
    "        # get region that overlaps with the treasure's region\n",
    "        overlap = rand_regions == self.region[self.treasure]\n",
    "\n",
    "        # get mask of titles of those regions\n",
    "        masked_tiles = np.isin(self.region, rand_regions)\n",
    "\n",
    "        # if random region consist of a region that has the treasure\n",
    "        if overlap.any():\n",
    "            trueness = True\n",
    "            self.potential[masked_tiles] = True\n",
    "            self.scanned[~masked_tiles] = True\n",
    "\n",
    "        # if they are not contain the treasure\n",
    "        else:\n",
    "            self.scanned[masked_tiles] = True\n",
    "            \n",
    "        hinted_regions = list(rand_regions)\n",
    "        \n",
    "        log = f\"One of these regions contain the treasure: {hinted_regions}\"\n",
    "            \n",
    "        return trueness, hinted_regions, log\n",
    "\n",
    "    def generate_hint_3(self) -> Tuple[bool, List[int], str]:\n",
    "        # 1-3 regions that do not contain the treasure.\n",
    "\n",
    "        # trueness of this hint\n",
    "        trueness = True\n",
    "\n",
    "        # number of regions\n",
    "        no_reg = rng.randint(1, 3)\n",
    "        rand_regions = rng.choice(np.arange(1, self.total_region + 1), size=no_reg, replace=False)\n",
    "\n",
    "        # get region that overlaps with the treasure's region\n",
    "        overlap = rand_regions == self.region[self.treasure]\n",
    "\n",
    "        # get mask of titles of those regions\n",
    "        masked_tiles = np.isin(self.region, rand_regions)\n",
    "\n",
    "        # if random region consist of a region that has the treasure\n",
    "        if overlap.any():\n",
    "            trueness = False\n",
    "            self.potential[masked_tiles] = True\n",
    "            self.scanned[~masked_tiles] = True\n",
    "\n",
    "        # if they are not contain the treasure\n",
    "        else:\n",
    "            self.scanned[masked_tiles] = True\n",
    "            \n",
    "        hinted_regions = list(rand_regions)\n",
    "        \n",
    "        log = f\"These regions do not contain the treasure: {hinted_regions}\"\n",
    "\n",
    "        return trueness, list(hinted_regions), log\n",
    "\n",
    "\n",
    "    def generate_hint_4(self) -> Tuple[bool, Tuple[Tuple[int, int], Tuple[int, int]], str]:\n",
    "        # A large rectangle area that has the treasure\n",
    "\n",
    "        trueness = False\n",
    "        w_size = int(0.5*self.shape[0])\n",
    "        h_size = int(0.5*self.shape[1])\n",
    "        \n",
    "        start_point_x = rng.randint(0, self.shape[0] - w_size + 1)\n",
    "        start_point_y = rng.randint(0, self.shape[1] - h_size + 1)\n",
    "        \n",
    "        end_point_x = start_point_x + w_size - 1\n",
    "        end_point_y = start_point_y + h_size - 1\n",
    "        \n",
    "        if start_point_x <= self.treasure[1] <= end_point_x and start_point_y <= self.treasure[0] <= end_point_y:\n",
    "            trueness = True\n",
    "            self.potential[start_point_y:end_point_y+1][start_point_x:end_point_x+1] = True\n",
    "            masked_tiles = np.ones(self.shape, dtype=bool)\n",
    "            masked_tiles[start_point_y:end_point_y+1][start_point_x:end_point_x+1] = False\n",
    "            self.scanned = np.logical_or(self.scanned, masked_tiles)\n",
    "        else:\n",
    "            trueness = False\n",
    "            self.scanned[start_point_y:end_point_y+1][start_point_x:end_point_x+1] = True\n",
    "            \n",
    "        top_left = (start_point_y, start_point_x)\n",
    "        bottom_right = (end_point_y, end_point_x)\n",
    "        \n",
    "        hinted_coord = (top_left, bottom_right)\n",
    "        \n",
    "        log = f\"Large rectangle area has the treasure. Top-Left-Bottom-Right = [{start_point_y}, {start_point_x}, {end_point_y}, {end_point_x}]\"\n",
    "        \n",
    "        return trueness, hinted_coord, log\n",
    "\n",
    "    def generate_hint_5(self) -> Tuple[bool, Tuple[Tuple[int, int], Tuple[int, int]], str]:\n",
    "        # A small rectangle area that doesn't has the treasure.\n",
    "\n",
    "        trueness = False\n",
    "        w_size = int(0.2*self.shape[0]) ape[0] - w_size + 1)\n",
    "        start_point_y = rng.randint(0, self.shape[1] - h_size + 1)\n",
    "        \n",
    "        end_point_x = start_point_x + w_size - 1\n",
    "        end_point_y = start_point_y + h_size - 1\n",
    "        \n",
    "        if start_point_x <= self.treasure[1] <= end_point_x and start_point_y <= self.treasure[0] <= end_point_y:\n",
    "            trueness = False\n",
    "            self.potential[start_point_y:end_point_y+1][start_point_x:end_point_x+1] = True\n",
    "            masked_tiles = np.ones(self.shape, dtype=bool)\n",
    "            masked_tiles[start_point_y:end_point_y+1][start_point_x:end_point_x+1] = False\n",
    "            self.scanned = np.logical_or(self.scanned, masked_tiles)\n",
    "        else:\n",
    "            trueness = True\n",
    "            self.scanned[start_point_y:end_point_y+1][start_point_x:end_point_x+1] = True\n",
    "            \n",
    "        top_left = (start_point_y, start_point_x)\n",
    "        bottom_right = (end_point_y, end_point_x)\n",
    "        \n",
    "        hinted_coord = (top_left, bottom_right)\n",
    "        \n",
    "        log = f\"Small rectangle area doesn't the treasure. Top-Left-Bottom-Right = [{start_point_y}, {start_point_x}, {end_point_y}, {end_point_x}]\"\n",
    "        \n",
    "        return trueness, hinted_coord, log\n",
    "\n",
    "    def generate_hint_6(self) -> Tuple[bool, None, str]:\n",
    "        # You are the nearest person to the treasure\n",
    "\n",
    "        # calculate the distances\n",
    "        agent_treasure = abs(sum(self.agent) ** 2 - sum(self.treasure) ** 2)\n",
    "        pirate_treasure = abs(sum(self.pirate) ** 2 - sum(self.treasure) ** 2)\n",
    "\n",
    "        # trueness of this hint\n",
    "        trueness = agent_treasure > pirate_treasure\n",
    "\n",
    "        log = \"You are the nearest person to the treasure\"\n",
    "\n",
    "        return trueness, None, log\n",
    "\n",
    "    def generate_hint_7(self) -> List[Cell]:\n",
    "        # A column and/or a row that contain the treasure (rare)\n",
    "\n",
    "        pass\n",
    "\n",
    "    def generate_hint_8(self) -> List[Cell]:\n",
    "        # A column and/or a row that do not contain the treasure\n",
    "\n",
    "        pass\n",
    "\n",
    "    def generate_hint_9(self) -> List[Cell]:\n",
    "        # 2 regions that the treasure is somewhere in their boundary\n",
    "\n",
    "        pass\n",
    "\n",
    "    def generate_hint_10(self) -> List[Cell]:\n",
    "        # The treasure is somewhere in a boundary of 2 regions\n",
    "\n",
    "        pass\n",
    "\n",
    "    def generate_hint_11(self) -> List[Cell]:\n",
    "        # The treasure is somewhere in an area bounded by 2-3 tiles from sea\n",
    " \n",
    "        pass\n",
    "\n",
    "    def generate_hint_12(self) -> Tuple[bool, int, str]:\n",
    "        # A half of the map without treasure\n",
    "\n",
    "        # trueness of this hint\n",
    "        trueness = rng.randint(2, dtype=bool)\n",
    "\n",
    "        # random part of the map (0: left, 2: top, 3: bottom, 4: right)\n",
    "        parts = [\"left\", \"top\", \"bottom\", \"right\"]\n",
    "        part = rng.randint(4)\n",
    "\n",
    "        match part:\n",
    "            case 0:\n",
    "                vertical_middle_axis = (self.shape[1] - 1) // 2 + 1\n",
    "                if trueness:\n",
    "                    self.scanned[:, :vertical_middle_axis] = True\n",
    "                else:\n",
    "                    self.potential[:, :vertical_middle_axis] = True\n",
    "                    self.scanned[:, vertical_middle_axis:] = True\n",
    "\n",
    "            case 1:\n",
    "                horizontal_middle_axis = (self.shape[0] - 1) // 2 + 1\n",
    "                if trueness:\n",
    "                    self.scanned[:horizontal_middle_axis] = True\n",
    "                else:\n",
    "                    self.potential[:horizontal_middle_axis] = True\n",
    "                    self.scanned[horizontal_middle_axis:] = False\n",
    "\n",
    "            case 2:\n",
    "                horizontal_middle_axis = (self.shape[0] + 1) // 2\n",
    "                if trueness:\n",
    "                    self.scanned[horizontal_middle_axis:] = True\n",
    "                else:\n",
    "                    self.potential[horizontal_middle_axis] = True\n",
    "                    self.scanned[:horizontal_middle_axis] = False\n",
    "\n",
    "            case 3:\n",
    "                vertical_middle_axis = (self.shape[1] - 1) // 2\n",
    "                if trueness:\n",
    "                    self.scanned[:, vertical_middle_axis:] = True\n",
    "                else:\n",
    "                    self.potential[:, vertical_middle_axis:] = True\n",
    "                    self.scanned[:, :vertical_middle_axis] = True\n",
    "        \n",
    "        log = f\"{parts[part]} part of the map does not contain the treasure.\"\n",
    "\n",
    "        return trueness, part, log\n",
    "\n",
    "    def generate_hint_13(self) -> List[Cell]:\n",
    "        # From the center of the map/from the prison that he's staying, he tells\n",
    "        # you a direction that has the treasure (W, E, N, S or SE, SW, NE, NW)\n",
    "\n",
    "        pass\n",
    "\n",
    "    def generate_hint_14(self) -> List[Cell]:\n",
    "        # 2 squares that are different in size, the small one is placed inside the\n",
    "        # bigger one, the treasure is somewhere inside the gap between 2 squares\n",
    "        \n",
    "        pass\n",
    "\n",
    "    def generate_hint_15(self) -> List[Cell]:\n",
    "        # The treasure is in a region that has mountain\n",
    "\n",
    "        pass\n",
    "\n",
    "    def generate_hint_16(self) -> List[Cell]:\n",
    "        pass"
   ]
  },
  {
   "cell_type": "code",
   "execution_count": 7,
   "metadata": {},
   "outputs": [
    {
     "data": {
      "text/plain": [
       "3"
      ]
     },
     "execution_count": 7,
     "metadata": {},
     "output_type": "execute_result"
    }
   ],
   "source": [
    "7 // 2"
   ]
  },
  {
   "cell_type": "code",
   "execution_count": null,
   "metadata": {},
   "outputs": [],
   "source": [
    "class Agent:\n",
    "    def __init_(self) -> None:\n",
    "        self.position = Cell()\n",
    "        \n",
    "        pass"
   ]
  },
  {
   "cell_type": "code",
   "execution_count": null,
   "metadata": {},
   "outputs": [],
   "source": [
    "class JackSparrow(Agent):\n",
    "    def __init__(self) -> None:\n",
    "        pass\n",
    "    \n",
    "    def action(self):\n",
    "        pass\n",
    "\n",
    "    def move(self, step: int) -> None:\n",
    "        pass\n",
    "\n",
    "    def verifies_hint(self) -> bool:\n",
    "        pass\n",
    "\n",
    "    def small_scan(self) -> None:\n",
    "        pass\n",
    "\n",
    "    def large_scan(self) -> None:\n",
    "        pass\n",
    "\n",
    "    def teleport(self) -> None:\n",
    "        pass\n",
    "\n",
    "    def is_treasure(self) -> bool:\n",
    "        pass"
   ]
  },
  {
   "cell_type": "code",
   "execution_count": null,
   "metadata": {},
   "outputs": [],
   "source": [
    "class Hint:\n",
    "    def __init__(self, trueness: bool) -> None:\n",
    "        self.trueness = trueness\n",
    "\n",
    "        pass\n",
    "\n"
   ]
  },
  {
   "cell_type": "code",
   "execution_count": null,
   "metadata": {},
   "outputs": [],
   "source": [
    "class Pirate(Agent):\n",
    "    def __init__(self) -> None:\n",
    "        super().__init__()\n",
    "        path = self.shorted_path()\n",
    "        hints = []\n",
    "        pass\n",
    "\n",
    "    def shorted_path(self) -> List[Tuple[int, str]]:\n",
    "        pass\n",
    "\n",
    "    def gives_hint(self) -> None:\n",
    "        pass"
   ]
  },
  {
   "cell_type": "code",
   "execution_count": 103,
   "metadata": {},
   "outputs": [
    {
     "name": "stdout",
     "output_type": "stream",
     "text": [
      "[[1 0 0 1]\n",
      " [0 0 1 0]\n",
      " [1 1 0 1]\n",
      " [1 1 1 1]]\n",
      "[[ True False False  True]\n",
      " [ True False  True  True]\n",
      " [ True  True False  True]\n",
      " [ True  True  True  True]]\n"
     ]
    }
   ],
   "source": [
    "import numpy as np\n",
    "Y = np.random.randint(2, size=(4, 4))\n",
    "X = np.ones(Y.shape, dtype=int)\n",
    "print(Y)\n",
    "x_1, y_1 = 0, 1\n",
    "x_2, y_2 = 2, 2\n",
    "X[x_1:x_2+1, y_1:y_2+1] = 0\n",
    "Y = np.logical_or(Y, X)\n",
    "print(Y)"
   ]
  }
 ],
 "metadata": {
  "kernelspec": {
   "display_name": "Python 3.10.6 ('DS')",
   "language": "python",
   "name": "python3"
  },
  "language_info": {
   "codemirror_mode": {
    "name": "ipython",
    "version": 3
   },
   "file_extension": ".py",
   "mimetype": "text/x-python",
   "name": "python",
   "nbconvert_exporter": "python",
   "pygments_lexer": "ipython3",
   "version": "3.10.6"
  },
  "orig_nbformat": 4,
  "vscode": {
   "interpreter": {
    "hash": "1c5122af82361268f066867ad644eaf1c53f4d666331cce3687bbe30c75299c2"
   }
  }
 },
 "nbformat": 4,
 "nbformat_minor": 2
}

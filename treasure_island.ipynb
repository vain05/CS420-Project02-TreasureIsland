{
 "cells": [
  {
   "attachments": {},
   "cell_type": "markdown",
   "metadata": {},
   "source": [
    "# Treasure Island"
   ]
  },
  {
   "attachments": {},
   "cell_type": "markdown",
   "metadata": {},
   "source": [
    "## Import packages"
   ]
  },
  {
   "cell_type": "code",
   "execution_count": 3,
   "metadata": {},
   "outputs": [],
   "source": [
    "import numpy as np\n",
    "\n",
    "from typing import List, Tuple"
   ]
  },
  {
   "attachments": {},
   "cell_type": "markdown",
   "metadata": {},
   "source": [
    "### Set a Random Number Generator"
   ]
  },
  {
   "cell_type": "code",
   "execution_count": 4,
   "metadata": {},
   "outputs": [],
   "source": [
    "rng = np.random.RandomState(42)"
   ]
  },
  {
   "cell_type": "code",
   "execution_count": 5,
   "metadata": {},
   "outputs": [],
   "source": [
    "class UserInterface:\n",
    "    pass"
   ]
  },
  {
   "cell_type": "code",
   "execution_count": 6,
   "metadata": {},
   "outputs": [],
   "source": [
    "class MapGenerator:\n",
    "    pass"
   ]
  },
  {
   "cell_type": "code",
   "execution_count": 7,
   "metadata": {},
   "outputs": [],
   "source": [
    "class Cell:\n",
    "    def __init__(\n",
    "        self,\n",
    "        coord: tuple = (-1, -1),\n",
    "        type: str = '',\n",
    "        region: int = -1,\n",
    "        is_scanned: bool = False,\n",
    "        is_potential: bool = True\n",
    "    ) -> None:\n",
    "        self.coord = coord\n",
    "        self.type = type\n",
    "        self.region = region\n",
    "        self.is_scanned = is_scanned\n",
    "        self.is_potential = is_potential"
   ]
  },
  {
   "cell_type": "code",
   "execution_count": 23,
   "metadata": {},
   "outputs": [
    {
     "data": {
      "text/plain": [
       "[[0, 2], [0, 4]]"
      ]
     },
     "execution_count": 23,
     "metadata": {},
     "output_type": "execute_result"
    }
   ],
   "source": [
    "a = [[1, 2], [3, 4]]\n",
    "for i in a:\n",
    "    i[0] = 0\n",
    "a"
   ]
  },
  {
   "cell_type": "code",
   "execution_count": null,
   "metadata": {},
   "outputs": [],
   "source": [
    "class Map:\n",
    "    def __init__(self, W: int, H: int) -> None:\n",
    "        self.board: List[List[Cell]] = MapGenerator()\n",
    "        self.W = W\n",
    "        self.H = H\n",
    "        self.treasure = (-1, -1)\n",
    "\n",
    "        self.hints = {\"1\": self.generate_hint_1, \"2\": self.generate_hint_2, \"3\": self.generate_hint_3, \"4\": self.generate_hint_4,\n",
    "                      \"5\": self.generate_hint_5, \"6\": self.generate_hint_6, \"7\": self.generate_hint_7, \"8\": self.generate_hint_8,\n",
    "                      \"9\": self.generate_hint_9, \"10\": self.generate_hint_10, \"11\": self.generate_hint_11, \"12\": self.generate_hint_12,\n",
    "                      \"13\": self.generate_hint_13, \"14\": self.generate_hint_14, \"15\": self.generate_hint_15, \"16\": self.generate_hint_16}\n",
    "\n",
    "    def hint_generator(self):\n",
    "        np.random.randint(16)\n",
    "\n",
    "    \n",
    "    def generate_hint(self) -> None:\n",
    "        self.hints[str(rng.randint(16))]()\n",
    "    \n",
    "    def generate_hint_1(self) -> List[Tuple[int, int]]:\n",
    "        # A list of random tiles that doesn't contain the treasure (1 to 12)\n",
    "\n",
    "        # get random tiles doest not contain the treasure\n",
    "        no_title = rng.randint(12)\n",
    "        x_coords = rng.randint(self.W, size=no_title)\n",
    "        y_coords = rng.randint(self.H, size=no_title)\n",
    "\n",
    "        # get the tiles that overlap with the treasure\n",
    "        overlaps = []\n",
    "        for i, (x, y) in enumerate(zip(x_coords, y_coords)):\n",
    "            if (x, y) == self.treasure:\n",
    "                overlaps.append(i)\n",
    "\n",
    "        # remove overlap titles\n",
    "        x_coords = np.delete(x_coords, overlaps)\n",
    "        y_coords = np.delete(y_coords, overlaps)\n",
    "\n",
    "        # final coords\n",
    "        coords = list(zip(x_coords, y_coords))\n",
    "\n",
    "        # mark those cells that they are not contain the treasure\n",
    "        for row in self.board:\n",
    "            for cell in row:\n",
    "                for coord in coords:\n",
    "                    if cell.coord == coord:\n",
    "                        cell.is_potential = False\n",
    "                        cell.is_scanned = True\n",
    "        return coords\n",
    "        \n",
    "    def generate_hint_2(self) -> int:\n",
    "        # A list of random tiles that contain the treasure (5 - 20) (rare\n",
    "\n",
    "        \n",
    "\n",
    "        return []\n",
    "\n",
    "    def generate_hint_3(self) -> List[int]:\n",
    "        pass\n",
    "\n",
    "    def generate_hint_4(self) -> List[Cell]:\n",
    "        pass\n",
    "\n",
    "    def generate_hint_5(self) -> List[Cell]:\n",
    "        pass\n",
    "\n",
    "    def generate_hint_6(self) -> List[Cell]:\n",
    "        pass\n",
    "\n",
    "    def generate_hint_7(self) -> List[Cell]:\n",
    "        pass\n",
    "\n",
    "    def generate_hint_8(self) -> List[Cell]:\n",
    "        pass\n",
    "\n",
    "    def generate_hint_9(self) -> List[Cell]:\n",
    "        pass\n",
    "\n",
    "    def generate_hint_10(self) -> List[Cell]:\n",
    "        pass\n",
    "\n",
    "    def generate_hint_11(self) -> List[Cell]:\n",
    "        pass\n",
    "\n",
    "    def generate_hint_12(self) -> List[Cell]:\n",
    "        pass\n",
    "\n",
    "    def generate_hint_13(self) -> List[Cell]:\n",
    "        pass\n",
    "\n",
    "    def generate_hint_14(self) -> List[Cell]:\n",
    "        pass\n",
    "\n",
    "    def generate_hint_15(self) -> List[Cell]:\n",
    "        pass\n",
    "\n",
    "    def generate_hint_16(self) -> List[Cell]:\n",
    "        pass"
   ]
  },
  {
   "cell_type": "code",
   "execution_count": null,
   "metadata": {},
   "outputs": [],
   "source": [
    "class Agent:\n",
    "    def __init_(self) -> None:\n",
    "        self.position = Cell()\n",
    "        \n",
    "        pass"
   ]
  },
  {
   "cell_type": "code",
   "execution_count": null,
   "metadata": {},
   "outputs": [],
   "source": [
    "class JackSparrow(Agent):\n",
    "    def __init__(self) -> None:\n",
    "        pass\n",
    "    \n",
    "    def action(self):\n",
    "        pass\n",
    "\n",
    "    def move(self, step: int) -> None:\n",
    "        pass\n",
    "\n",
    "    def verifies_hint(self) -> bool:\n",
    "        pass\n",
    "\n",
    "    def small_scan(self) -> None:\n",
    "        pass\n",
    "\n",
    "    def large_scan(self) -> None:\n",
    "        pass\n",
    "\n",
    "    def teleport(self) -> None:\n",
    "        pass\n",
    "\n",
    "    def is_treasure(self) -> bool:\n",
    "        pass"
   ]
  },
  {
   "cell_type": "code",
   "execution_count": null,
   "metadata": {},
   "outputs": [],
   "source": [
    "class Hint:\n",
    "    def __init__(self, trueness: bool) -> None:\n",
    "        self.trueness = trueness\n",
    "\n",
    "        pass\n",
    "\n"
   ]
  },
  {
   "cell_type": "code",
   "execution_count": null,
   "metadata": {},
   "outputs": [],
   "source": [
    "class Pirate(Agent):\n",
    "    def __init__(self) -> None:\n",
    "        super().__init__()\n",
    "        path = self.shorted_path()\n",
    "        hints = []\n",
    "        pass\n",
    "\n",
    "    def shorted_path(self) -> List[Tuple[int, str]]:\n",
    "        pass\n",
    "\n",
    "    def gives_hint(self) -> None:\n",
    "        pass"
   ]
  }
 ],
 "metadata": {
  "kernelspec": {
   "display_name": "base",
   "language": "python",
   "name": "python3"
  },
  "language_info": {
   "codemirror_mode": {
    "name": "ipython",
    "version": 3
   },
   "file_extension": ".py",
   "mimetype": "text/x-python",
   "name": "python",
   "nbconvert_exporter": "python",
   "pygments_lexer": "ipython3",
   "version": "3.10.6"
  },
  "orig_nbformat": 4,
  "vscode": {
   "interpreter": {
    "hash": "49cb93f377a7abe7414b7b0f21fb3017538004a126cf690fb524202736b7fb92"
   }
  }
 },
 "nbformat": 4,
 "nbformat_minor": 2
}

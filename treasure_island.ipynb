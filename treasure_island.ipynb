{
 "cells": [
  {
   "attachments": {},
   "cell_type": "markdown",
   "metadata": {},
   "source": [
    "# Treasure Island"
   ]
  },
  {
   "attachments": {},
   "cell_type": "markdown",
   "metadata": {},
   "source": [
    "## Import packages"
   ]
  },
  {
   "cell_type": "code",
   "execution_count": 2,
   "metadata": {},
   "outputs": [],
   "source": [
    "import numpy as np\n",
    "from numpy import typing as npt\n",
    "\n",
    "from typing import List, Tuple"
   ]
  },
  {
   "cell_type": "code",
   "execution_count": 3,
   "metadata": {},
   "outputs": [],
   "source": [
    "a = np.array([[1, 2, 3],\n",
    "              [4, 5, 6]])"
   ]
  },
  {
   "attachments": {},
   "cell_type": "markdown",
   "metadata": {},
   "source": [
    "### Set a Random Number Generator"
   ]
  },
  {
   "cell_type": "code",
   "execution_count": 4,
   "metadata": {},
   "outputs": [],
   "source": [
    "rng = np.random.RandomState(42)"
   ]
  },
  {
   "cell_type": "code",
   "execution_count": 5,
   "metadata": {},
   "outputs": [],
   "source": [
    "class UserInterface:\n",
    "    pass"
   ]
  },
  {
   "cell_type": "code",
   "execution_count": 6,
   "metadata": {},
   "outputs": [],
   "source": [
    "class MapGenerator:\n",
    "    pass"
   ]
  },
  {
   "cell_type": "code",
   "execution_count": 9,
   "metadata": {},
   "outputs": [
    {
     "name": "stdout",
     "output_type": "stream",
     "text": [
      "(2, 3)\n",
      "(array([0, 1]), array([0, 2]))\n"
     ]
    },
    {
     "data": {
      "text/plain": [
       "[(0, 0), (1, 2)]"
      ]
     },
     "execution_count": 9,
     "metadata": {},
     "output_type": "execute_result"
    }
   ],
   "source": [
    "a = np.array([[0, 1, 2],\n",
    "              [3, 4, 5]])\n",
    "print(a.shape)\n",
    "b = np.unravel_index((0, 5), a.shape)\n",
    "print(b)\n",
    "c = list(zip(*b))\n",
    "c"
   ]
  },
  {
   "cell_type": "code",
   "execution_count": 10,
   "metadata": {},
   "outputs": [
    {
     "ename": "NameError",
     "evalue": "name 'Cell' is not defined",
     "output_type": "error",
     "traceback": [
      "\u001b[0;31m---------------------------------------------------------------------------\u001b[0m",
      "\u001b[0;31mNameError\u001b[0m                                 Traceback (most recent call last)",
      "\u001b[1;32m/home/dui/Windows/CS/APCS/Junior/Semester 1/CS420/Project 02/CS420-Project02-TreasureIsland/treasure_island.ipynb Cell 9\u001b[0m in \u001b[0;36m<cell line: 1>\u001b[0;34m()\u001b[0m\n\u001b[0;32m----> <a href='vscode-notebook-cell:/home/dui/Windows/CS/APCS/Junior/Semester%201/CS420/Project%2002/CS420-Project02-TreasureIsland/treasure_island.ipynb#X12sZmlsZQ%3D%3D?line=0'>1</a>\u001b[0m \u001b[39mclass\u001b[39;00m \u001b[39mMap\u001b[39;00m:\n\u001b[1;32m      <a href='vscode-notebook-cell:/home/dui/Windows/CS/APCS/Junior/Semester%201/CS420/Project%2002/CS420-Project02-TreasureIsland/treasure_island.ipynb#X12sZmlsZQ%3D%3D?line=1'>2</a>\u001b[0m     \u001b[39mdef\u001b[39;00m \u001b[39m__init__\u001b[39m(\n\u001b[1;32m      <a href='vscode-notebook-cell:/home/dui/Windows/CS/APCS/Junior/Semester%201/CS420/Project%2002/CS420-Project02-TreasureIsland/treasure_island.ipynb#X12sZmlsZQ%3D%3D?line=2'>3</a>\u001b[0m         \u001b[39mself\u001b[39m, \n\u001b[1;32m      <a href='vscode-notebook-cell:/home/dui/Windows/CS/APCS/Junior/Semester%201/CS420/Project%2002/CS420-Project02-TreasureIsland/treasure_island.ipynb#X12sZmlsZQ%3D%3D?line=3'>4</a>\u001b[0m         W: \u001b[39mint\u001b[39m, \n\u001b[0;32m   (...)\u001b[0m\n\u001b[1;32m      <a href='vscode-notebook-cell:/home/dui/Windows/CS/APCS/Junior/Semester%201/CS420/Project%2002/CS420-Project02-TreasureIsland/treasure_island.ipynb#X12sZmlsZQ%3D%3D?line=8'>9</a>\u001b[0m         regions: List[List[Cell]]\n\u001b[1;32m     <a href='vscode-notebook-cell:/home/dui/Windows/CS/APCS/Junior/Semester%201/CS420/Project%2002/CS420-Project02-TreasureIsland/treasure_island.ipynb#X12sZmlsZQ%3D%3D?line=9'>10</a>\u001b[0m     ) \u001b[39m-\u001b[39m\u001b[39m>\u001b[39m \u001b[39mNone\u001b[39;00m:\n\u001b[1;32m     <a href='vscode-notebook-cell:/home/dui/Windows/CS/APCS/Junior/Semester%201/CS420/Project%2002/CS420-Project02-TreasureIsland/treasure_island.ipynb#X12sZmlsZQ%3D%3D?line=10'>11</a>\u001b[0m         \u001b[39mself\u001b[39m\u001b[39m.\u001b[39mboard: List[List[Cell]] \u001b[39m=\u001b[39m MapGenerator()\n",
      "\u001b[1;32m/home/dui/Windows/CS/APCS/Junior/Semester 1/CS420/Project 02/CS420-Project02-TreasureIsland/treasure_island.ipynb Cell 9\u001b[0m in \u001b[0;36mMap\u001b[0;34m()\u001b[0m\n\u001b[1;32m      <a href='vscode-notebook-cell:/home/dui/Windows/CS/APCS/Junior/Semester%201/CS420/Project%2002/CS420-Project02-TreasureIsland/treasure_island.ipynb#X12sZmlsZQ%3D%3D?line=0'>1</a>\u001b[0m \u001b[39mclass\u001b[39;00m \u001b[39mMap\u001b[39;00m:\n\u001b[1;32m      <a href='vscode-notebook-cell:/home/dui/Windows/CS/APCS/Junior/Semester%201/CS420/Project%2002/CS420-Project02-TreasureIsland/treasure_island.ipynb#X12sZmlsZQ%3D%3D?line=1'>2</a>\u001b[0m     \u001b[39mdef\u001b[39;00m \u001b[39m__init__\u001b[39m(\n\u001b[1;32m      <a href='vscode-notebook-cell:/home/dui/Windows/CS/APCS/Junior/Semester%201/CS420/Project%2002/CS420-Project02-TreasureIsland/treasure_island.ipynb#X12sZmlsZQ%3D%3D?line=2'>3</a>\u001b[0m         \u001b[39mself\u001b[39m, \n\u001b[1;32m      <a href='vscode-notebook-cell:/home/dui/Windows/CS/APCS/Junior/Semester%201/CS420/Project%2002/CS420-Project02-TreasureIsland/treasure_island.ipynb#X12sZmlsZQ%3D%3D?line=3'>4</a>\u001b[0m         W: \u001b[39mint\u001b[39m, \n\u001b[1;32m      <a href='vscode-notebook-cell:/home/dui/Windows/CS/APCS/Junior/Semester%201/CS420/Project%2002/CS420-Project02-TreasureIsland/treasure_island.ipynb#X12sZmlsZQ%3D%3D?line=4'>5</a>\u001b[0m         H: \u001b[39mint\u001b[39m,\n\u001b[0;32m----> <a href='vscode-notebook-cell:/home/dui/Windows/CS/APCS/Junior/Semester%201/CS420/Project%2002/CS420-Project02-TreasureIsland/treasure_island.ipynb#X12sZmlsZQ%3D%3D?line=5'>6</a>\u001b[0m         board: List[List[Cell]],\n\u001b[1;32m      <a href='vscode-notebook-cell:/home/dui/Windows/CS/APCS/Junior/Semester%201/CS420/Project%2002/CS420-Project02-TreasureIsland/treasure_island.ipynb#X12sZmlsZQ%3D%3D?line=6'>7</a>\u001b[0m         treasure: Cell,\n\u001b[1;32m      <a href='vscode-notebook-cell:/home/dui/Windows/CS/APCS/Junior/Semester%201/CS420/Project%2002/CS420-Project02-TreasureIsland/treasure_island.ipynb#X12sZmlsZQ%3D%3D?line=7'>8</a>\u001b[0m         no_region: \u001b[39mint\u001b[39m,\n\u001b[1;32m      <a href='vscode-notebook-cell:/home/dui/Windows/CS/APCS/Junior/Semester%201/CS420/Project%2002/CS420-Project02-TreasureIsland/treasure_island.ipynb#X12sZmlsZQ%3D%3D?line=8'>9</a>\u001b[0m         regions: List[List[Cell]]\n\u001b[1;32m     <a href='vscode-notebook-cell:/home/dui/Windows/CS/APCS/Junior/Semester%201/CS420/Project%2002/CS420-Project02-TreasureIsland/treasure_island.ipynb#X12sZmlsZQ%3D%3D?line=9'>10</a>\u001b[0m     ) \u001b[39m-\u001b[39m\u001b[39m>\u001b[39m \u001b[39mNone\u001b[39;00m:\n\u001b[1;32m     <a href='vscode-notebook-cell:/home/dui/Windows/CS/APCS/Junior/Semester%201/CS420/Project%2002/CS420-Project02-TreasureIsland/treasure_island.ipynb#X12sZmlsZQ%3D%3D?line=10'>11</a>\u001b[0m         \u001b[39mself\u001b[39m\u001b[39m.\u001b[39mboard: List[List[Cell]] \u001b[39m=\u001b[39m MapGenerator()\n\u001b[1;32m     <a href='vscode-notebook-cell:/home/dui/Windows/CS/APCS/Junior/Semester%201/CS420/Project%2002/CS420-Project02-TreasureIsland/treasure_island.ipynb#X12sZmlsZQ%3D%3D?line=11'>12</a>\u001b[0m         \u001b[39mself\u001b[39m\u001b[39m.\u001b[39mW \u001b[39m=\u001b[39m W\n",
      "\u001b[0;31mNameError\u001b[0m: name 'Cell' is not defined"
     ]
    }
   ],
   "source": [
    "class Map:\n",
    "    def __init__(\n",
    "        self, \n",
    "        W: int, \n",
    "        H: int,\n",
    "        value: np.ndarray,                          # matrix of titles's value (string)\n",
    "        region: np.ndarray,                         # matrix of titles's region (int)\n",
    "        scanned: np.ndarray,                        # matrix of titles that is scanned (bool)\n",
    "        potential: np.ndarray,                      # matrix of titles potential (bool)\n",
    "        agent: int,                                 # agent's coordinate (flattened index)\n",
    "        pirate: int,                                # pirate's coordinate (flattened index)\n",
    "        treasure: int,                              # treasure's coordinate (flattened index)\n",
    "        total_region: int,                          # maximum number of regions\n",
    "        regions: List[List[int]],                   # titles that categorize based on regions (1, 2, ..., max region)\n",
    "        beaches: List[List[int]],                   # titles that are at the seaside\n",
    "        boundaries: List[List[int]]                 # titles that are in boundary between two regions\n",
    "    ) -> None:\n",
    "        self.total_title = W * H\n",
    "        self.shape = (W, H)\n",
    "        self.value = value \n",
    "        self.region = region\n",
    "        self.scanned = scanned\n",
    "        self.potential = potential\n",
    "        self.agent = agent\n",
    "        self.pirate = pirate\n",
    "        self.treasure = treasure\n",
    "        self.total_region = total_region\n",
    "        self.regions = regions\n",
    "        self.beaches = beaches\n",
    "        self.boundaries = boundaries\n",
    "\n",
    "        # Map generate hints function to string\n",
    "        self.hints = {\"1\": self.generate_hint_1, \"2\": self.generate_hint_2, \"3\": self.generate_hint_3, \"4\": self.generate_hint_4,\n",
    "                      \"5\": self.generate_hint_5, \"6\": self.generate_hint_6, \"7\": self.generate_hint_7, \"8\": self.generate_hint_8,\n",
    "                      \"9\": self.generate_hint_9, \"10\": self.generate_hint_10, \"11\": self.generate_hint_11, \"12\": self.generate_hint_12,\n",
    "                      \"13\": self.generate_hint_13, \"14\": self.generate_hint_14, \"15\": self.generate_hint_15, \"16\": self.generate_hint_16}\n",
    "\n",
    "    def hint_generator(self):\n",
    "        np.random.randint(16)\n",
    "\n",
    "    \n",
    "    def generate_hint(self) -> None:\n",
    "        self.hints[str(rng.randint(16))]()\n",
    "    \n",
    "    def generate_hint_1(self) -> Tuple[bool, List[Tuple[int, int]], str]:\n",
    "        # A list of random tiles that doesn't contain the treasure (1 to 12)\n",
    "\n",
    "        # trueness of this hint\n",
    "        trueness = True\n",
    "\n",
    "        # get random tiles doest not contain the treasure\n",
    "        no_titles = rng.randint(1, 13)\n",
    "        rand_titles = rng.choice(np.arange(self.total_title), size=no_titles, replace=False)\n",
    "\n",
    "        # get the list of tiles that overlap with the treasure\n",
    "        overlaps = rand_titles == self.treasure\n",
    "        if overlaps.any():\n",
    "            trueness = False\n",
    "\n",
    "        # mark those cells that they are not contain the treasure\n",
    "        title_coords = np.unravel_index(rand_titles, self.shape)\n",
    "        if trueness:\n",
    "            self.scanned[title_coords] = True\n",
    "        else:\n",
    "            self.potential[title_coords] = True\n",
    "            masked_titles = np.zeros(self.shape, dtype=bool)\n",
    "            masked_titles[title_coords] = True\n",
    "            self.scanned[masked_titles] = True\n",
    "\n",
    "        hinted_titles = list(zip(*title_coords))\n",
    "\n",
    "        log = f\"These tiles {hinted_titles} do not contain the treasure\"\n",
    "                        \n",
    "        return trueness, hinted_titles, log\n",
    "        \n",
    "    def generate_hint_2(self) -> Tuple[bool, List[int], str]:\n",
    "        # 2-5 regions that 1 of them has the treasure.\n",
    "\n",
    "        # trueness of this hint\n",
    "        trueness = rng.randint(2, dtype=bool)\n",
    "\n",
    "        # number of regions\n",
    "        no_reg = rng.randint(1, 5)\n",
    "        regions = rng.choice(np.arange(1, self.total_region + 1), size=no_reg, replace=False)\n",
    " \n",
    "        # if the hint is true then at least one of these regions contains the treasure\n",
    "        if trueness:\n",
    "            treasure_coord = np.unravel_index(self.treasure, self.shape)\n",
    "            regions[0] = self.region[treasure_coord]\n",
    "\n",
    "        for i in regions:\n",
    "            for cell in self.regions[i]:\n",
    "                if trueness:\n",
    "                    cell.is_potential = True\n",
    "                else:\n",
    "                    cell.is_scanned = True\n",
    "\n",
    "        if trueness:\n",
    "            \n",
    "\n",
    "\n",
    "\n",
    "        regions = list(regions)\n",
    "        \n",
    "        log = f\"One of these regions contain the treasure: {regions}\"\n",
    "            \n",
    "        return trueness, regions, log\n",
    "\n",
    "    def generate_hint_3(self) -> Tuple[bool, List[int], str]:\n",
    "        # 1-3 regions that do not contain the treasure.\n",
    "\n",
    "        # trueness of this hint\n",
    "        trueness = rng.randint(2, dtype=bool)\n",
    "\n",
    "        # number of regions\n",
    "        no_reg = rng.randint(1, 3)\n",
    "        regions = rng.choice(np.arange(1, self.max_region + 1), size=no_reg, replace=False)\n",
    "\n",
    "        # number of regions\n",
    "        if not trueness:\n",
    "            regions[0] = self.treasure.region\n",
    "\n",
    "        for i in regions:\n",
    "            for cell in self.regions[i]:\n",
    "                if not trueness:\n",
    "                    cell.is_potential = True\n",
    "                else:\n",
    "                    cell.is_scanned = True\n",
    "        \n",
    "        log = f\"These regions do not contain the treasure: {regions}\"\n",
    "\n",
    "        return trueness, list(regions), log\n",
    "\n",
    "    def generate_hint_4(self) -> List[Cell]:\n",
    "        pass\n",
    "\n",
    "    def generate_hint_5(self) -> List[Cell]:\n",
    "        pass\n",
    "\n",
    "    def generate_hint_6(self) -> Tuple[bool, None, str]:\n",
    "        # You are the nearest person to the treasure\n",
    "\n",
    "        agent_treasure = abs(sum(self.agent.coord) ** 2 - sum(self.treasure.coord) ** 2)\n",
    "        pirate_treasure = abs(sum(self.pirate.coord) ** 2 - sum(self.treasure.coord) ** 2)\n",
    "\n",
    "        # trueness of this hint\n",
    "        trueness = agent_treasure > pirate_treasure\n",
    "\n",
    "        log = \"You are the nearest person to the treasure\"\n",
    "\n",
    "        return trueness, None, log\n",
    "\n",
    "    def generate_hint_7(self) -> List[Cell]:\n",
    "        pass\n",
    "\n",
    "    def generate_hint_8(self) -> List[Cell]:\n",
    "        pass\n",
    "\n",
    "    def generate_hint_9(self) -> List[Cell]:\n",
    "        pass\n",
    "\n",
    "    def generate_hint_10(self) -> List[Cell]:\n",
    "        pass\n",
    "\n",
    "    def generate_hint_11(self) -> List[Cell]:\n",
    "        pass\n",
    "\n",
    "    def generate_hint_12(self) -> List[Cell]:\n",
    "        pass\n",
    "\n",
    "    def generate_hint_13(self) -> List[Cell]:\n",
    "        pass\n",
    "\n",
    "    def generate_hint_14(self) -> List[Cell]:\n",
    "        # From the center of the map/from the prison that he's staying, he tells you a direction that has the treasure\n",
    "\n",
    "        # center of the map\n",
    "\n",
    "        center_point = \n",
    "\n",
    "        pass\n",
    "\n",
    "    def generate_hint_15(self) -> List[Cell]:\n",
    "        pass\n",
    "\n",
    "    def generate_hint_16(self) -> List[Cell]:\n",
    "        pass"
   ]
  },
  {
   "cell_type": "code",
   "execution_count": null,
   "metadata": {},
   "outputs": [],
   "source": [
    "class Agent:\n",
    "    def __init_(self) -> None:\n",
    "        self.position = Cell()\n",
    "        \n",
    "        pass"
   ]
  },
  {
   "cell_type": "code",
   "execution_count": null,
   "metadata": {},
   "outputs": [],
   "source": [
    "class JackSparrow(Agent):\n",
    "    def __init__(self) -> None:\n",
    "        pass\n",
    "    \n",
    "    def action(self):\n",
    "        pass\n",
    "\n",
    "    def move(self, step: int) -> None:\n",
    "        pass\n",
    "\n",
    "    def verifies_hint(self) -> bool:\n",
    "        pass\n",
    "\n",
    "    def small_scan(self) -> None:\n",
    "        pass\n",
    "\n",
    "    def large_scan(self) -> None:\n",
    "        pass\n",
    "\n",
    "    def teleport(self) -> None:\n",
    "        pass\n",
    "\n",
    "    def is_treasure(self) -> bool:\n",
    "        pass"
   ]
  },
  {
   "cell_type": "code",
   "execution_count": null,
   "metadata": {},
   "outputs": [],
   "source": [
    "class Hint:\n",
    "    def __init__(self, trueness: bool) -> None:\n",
    "        self.trueness = trueness\n",
    "\n",
    "        pass\n",
    "\n"
   ]
  },
  {
   "cell_type": "code",
   "execution_count": null,
   "metadata": {},
   "outputs": [],
   "source": [
    "class Pirate(Agent):\n",
    "    def __init__(self) -> None:\n",
    "        super().__init__()\n",
    "        path = self.shorted_path()\n",
    "        hints = []\n",
    "        pass\n",
    "\n",
    "    def shorted_path(self) -> List[Tuple[int, str]]:\n",
    "        pass\n",
    "\n",
    "    def gives_hint(self) -> None:\n",
    "        pass"
   ]
  }
 ],
 "metadata": {
  "kernelspec": {
   "display_name": "Python 3.10.6 ('DS')",
   "language": "python",
   "name": "python3"
  },
  "language_info": {
   "codemirror_mode": {
    "name": "ipython",
    "version": 3
   },
   "file_extension": ".py",
   "mimetype": "text/x-python",
   "name": "python",
   "nbconvert_exporter": "python",
   "pygments_lexer": "ipython3",
   "version": "3.10.6"
  },
  "orig_nbformat": 4,
  "vscode": {
   "interpreter": {
    "hash": "1c5122af82361268f066867ad644eaf1c53f4d666331cce3687bbe30c75299c2"
   }
  }
 },
 "nbformat": 4,
 "nbformat_minor": 2
}

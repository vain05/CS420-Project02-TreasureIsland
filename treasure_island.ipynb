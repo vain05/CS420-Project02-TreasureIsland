{
 "cells": [
  {
   "cell_type": "code",
   "execution_count": null,
   "metadata": {},
   "outputs": [],
   "source": [
    "import numpy as np\n",
    "from typing import List, Tuple"
   ]
  },
  {
   "cell_type": "code",
   "execution_count": null,
   "metadata": {},
   "outputs": [],
   "source": [
    "class UserInterface:\n",
    "    pass"
   ]
  },
  {
   "cell_type": "code",
   "execution_count": null,
   "metadata": {},
   "outputs": [],
   "source": [
    "class MapGenerator:\n",
    "    pass"
   ]
  },
  {
   "cell_type": "code",
   "execution_count": null,
   "metadata": {},
   "outputs": [],
   "source": [
    "class Cell:\n",
    "    def __init__(\n",
    "        self,\n",
    "        x: int = -1, \n",
    "        y: int = -1,\n",
    "        is_scanned: bool = False,\n",
    "        type: str = '',\n",
    "        region: int = 0 \n",
    "    ) -> None:\n",
    "        self.x = x\n",
    "        self.y = y\n",
    "        self.is_scanned = is_scanned\n",
    "        self.type = type\n",
    "        self.region = region"
   ]
  },
  {
   "cell_type": "code",
   "execution_count": null,
   "metadata": {},
   "outputs": [],
   "source": [
    "class Island:\n",
    "    def __init__(self, W: int, H: int) -> None:\n",
    "        self.board = MapGenerator()\n",
    "        self.W = W\n",
    "        self.H = H"
   ]
  },
  {
   "cell_type": "code",
   "execution_count": null,
   "metadata": {},
   "outputs": [],
   "source": [
    "class Agent:\n",
    "    def __init_(self) -> None:\n",
    "        self.position = Cell()\n",
    "        \n",
    "        pass"
   ]
  },
  {
   "cell_type": "code",
   "execution_count": null,
   "metadata": {},
   "outputs": [],
   "source": [
    "class JackSparrow(Agent):\n",
    "    def __init__(self) -> None:\n",
    "        pass\n",
    "    \n",
    "    def action(self):\n",
    "        pass\n",
    "\n",
    "    def move(self, step: int) -> None:\n",
    "        pass\n",
    "\n",
    "    def verifies_hint(self) -> bool:\n",
    "        pass\n",
    "\n",
    "    def small_scan(self) -> None:\n",
    "        pass\n",
    "\n",
    "    def large_scan(self) -> None:\n",
    "        pass\n",
    "\n",
    "    def teleport(self) -> None:\n",
    "        pass\n",
    "\n",
    "    def is_treasure(self) -> bool:\n",
    "        pass"
   ]
  },
  {
   "cell_type": "code",
   "execution_count": null,
   "metadata": {},
   "outputs": [],
   "source": [
    "class Hint:\n",
    "    def __init__(self, trueness: bool) -> None:\n",
    "        self.trueness = trueness\n",
    "\n",
    "        pass\n",
    "\n",
    "    def generate_hint(self) -> None:\n",
    "        pass\n",
    "    \n",
    "    def reveal_hint_1(self) -> List[Cell]:\n",
    "        pass\n",
    "        \n",
    "    def reveal_hint_2(self) -> int:\n",
    "        pass\n",
    "\n",
    "    def reveal_hint_3(self) -> List[int]:\n",
    "        pass\n",
    "\n",
    "    def reveal_hint_4(self) -> List[Cell]:\n",
    "        pass\n",
    "\n",
    "    def reveal_hint_5(self) -> List[Cell]:\n",
    "        pass"
   ]
  },
  {
   "cell_type": "code",
   "execution_count": null,
   "metadata": {},
   "outputs": [],
   "source": [
    "class Pirate(Agent):\n",
    "    def __init__(self) -> None:\n",
    "        super().__init__()\n",
    "        path = self.shorted_path()\n",
    "        hints = []\n",
    "        pass\n",
    "\n",
    "    def shorted_path(self) -> List[Tuple[int, str]]:\n",
    "        pass\n",
    "\n",
    "    def gives_hint(self) -> None:\n",
    "        pass"
   ]
  }
 ],
 "metadata": {
  "kernelspec": {
   "display_name": "Python 3.10.6 ('DS')",
   "language": "python",
   "name": "python3"
  },
  "language_info": {
   "name": "python",
   "version": "3.10.6"
  },
  "orig_nbformat": 4,
  "vscode": {
   "interpreter": {
    "hash": "1c5122af82361268f066867ad644eaf1c53f4d666331cce3687bbe30c75299c2"
   }
  }
 },
 "nbformat": 4,
 "nbformat_minor": 2
}

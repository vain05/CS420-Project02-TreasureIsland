{
 "cells": [
  {
   "attachments": {},
   "cell_type": "markdown",
   "metadata": {},
   "source": [
    "# Treasure Island"
   ]
  },
  {
   "attachments": {},
   "cell_type": "markdown",
   "metadata": {},
   "source": [
    "## Import packages"
   ]
  },
  {
   "cell_type": "code",
   "execution_count": 2,
   "metadata": {},
   "outputs": [],
   "source": [
    "import numpy as np\n",
    "\n",
    "from typing import List, Tuple"
   ]
  },
  {
   "attachments": {},
   "cell_type": "markdown",
   "metadata": {},
   "source": [
    "### Set a Random Number Generator"
   ]
  },
  {
   "cell_type": "code",
   "execution_count": 4,
   "metadata": {},
   "outputs": [
    {
     "data": {
      "text/plain": [
       "False"
      ]
     },
     "execution_count": 4,
     "metadata": {},
     "output_type": "execute_result"
    }
   ],
   "source": [
    "rng = np.random.RandomState(42)"
   ]
  },
  {
   "cell_type": "code",
   "execution_count": 5,
   "metadata": {},
   "outputs": [],
   "source": [
    "class UserInterface:\n",
    "    pass"
   ]
  },
  {
   "cell_type": "code",
   "execution_count": 6,
   "metadata": {},
   "outputs": [],
   "source": [
    "class MapGenerator:\n",
    "    pass"
   ]
  },
  {
   "cell_type": "code",
   "execution_count": 7,
   "metadata": {},
   "outputs": [],
   "source": [
    "class Cell:\n",
    "    def __init__(\n",
    "        self,\n",
    "        coord: tuple = (-1, -1),\n",
    "        type: str = '',\n",
    "        region: int = -1,\n",
    "        is_scanned: bool = False,\n",
    "        is_potential: bool = False\n",
    "    ) -> None:\n",
    "        self.coord = coord\n",
    "        self.type = type\n",
    "        self.region = region\n",
    "        self.is_scanned = is_scanned\n",
    "        self.is_potential = is_potential"
   ]
  },
  {
   "cell_type": "code",
   "execution_count": 10,
   "metadata": {},
   "outputs": [
    {
     "ename": "NameError",
     "evalue": "name 'Cell' is not defined",
     "output_type": "error",
     "traceback": [
      "\u001b[0;31m---------------------------------------------------------------------------\u001b[0m",
      "\u001b[0;31mNameError\u001b[0m                                 Traceback (most recent call last)",
      "\u001b[1;32m/home/dui/Windows/CS/APCS/Junior/Semester 1/CS420/Project 02/CS420-Project02-TreasureIsland/treasure_island.ipynb Cell 9\u001b[0m in \u001b[0;36m<cell line: 1>\u001b[0;34m()\u001b[0m\n\u001b[0;32m----> <a href='vscode-notebook-cell:/home/dui/Windows/CS/APCS/Junior/Semester%201/CS420/Project%2002/CS420-Project02-TreasureIsland/treasure_island.ipynb#X12sZmlsZQ%3D%3D?line=0'>1</a>\u001b[0m \u001b[39mclass\u001b[39;00m \u001b[39mMap\u001b[39;00m:\n\u001b[1;32m      <a href='vscode-notebook-cell:/home/dui/Windows/CS/APCS/Junior/Semester%201/CS420/Project%2002/CS420-Project02-TreasureIsland/treasure_island.ipynb#X12sZmlsZQ%3D%3D?line=1'>2</a>\u001b[0m     \u001b[39mdef\u001b[39;00m \u001b[39m__init__\u001b[39m(\n\u001b[1;32m      <a href='vscode-notebook-cell:/home/dui/Windows/CS/APCS/Junior/Semester%201/CS420/Project%2002/CS420-Project02-TreasureIsland/treasure_island.ipynb#X12sZmlsZQ%3D%3D?line=2'>3</a>\u001b[0m         \u001b[39mself\u001b[39m, \n\u001b[1;32m      <a href='vscode-notebook-cell:/home/dui/Windows/CS/APCS/Junior/Semester%201/CS420/Project%2002/CS420-Project02-TreasureIsland/treasure_island.ipynb#X12sZmlsZQ%3D%3D?line=3'>4</a>\u001b[0m         W: \u001b[39mint\u001b[39m, \n\u001b[0;32m   (...)\u001b[0m\n\u001b[1;32m      <a href='vscode-notebook-cell:/home/dui/Windows/CS/APCS/Junior/Semester%201/CS420/Project%2002/CS420-Project02-TreasureIsland/treasure_island.ipynb#X12sZmlsZQ%3D%3D?line=8'>9</a>\u001b[0m         regions: List[List[Cell]]\n\u001b[1;32m     <a href='vscode-notebook-cell:/home/dui/Windows/CS/APCS/Junior/Semester%201/CS420/Project%2002/CS420-Project02-TreasureIsland/treasure_island.ipynb#X12sZmlsZQ%3D%3D?line=9'>10</a>\u001b[0m     ) \u001b[39m-\u001b[39m\u001b[39m>\u001b[39m \u001b[39mNone\u001b[39;00m:\n\u001b[1;32m     <a href='vscode-notebook-cell:/home/dui/Windows/CS/APCS/Junior/Semester%201/CS420/Project%2002/CS420-Project02-TreasureIsland/treasure_island.ipynb#X12sZmlsZQ%3D%3D?line=10'>11</a>\u001b[0m         \u001b[39mself\u001b[39m\u001b[39m.\u001b[39mboard: List[List[Cell]] \u001b[39m=\u001b[39m MapGenerator()\n",
      "\u001b[1;32m/home/dui/Windows/CS/APCS/Junior/Semester 1/CS420/Project 02/CS420-Project02-TreasureIsland/treasure_island.ipynb Cell 9\u001b[0m in \u001b[0;36mMap\u001b[0;34m()\u001b[0m\n\u001b[1;32m      <a href='vscode-notebook-cell:/home/dui/Windows/CS/APCS/Junior/Semester%201/CS420/Project%2002/CS420-Project02-TreasureIsland/treasure_island.ipynb#X12sZmlsZQ%3D%3D?line=0'>1</a>\u001b[0m \u001b[39mclass\u001b[39;00m \u001b[39mMap\u001b[39;00m:\n\u001b[1;32m      <a href='vscode-notebook-cell:/home/dui/Windows/CS/APCS/Junior/Semester%201/CS420/Project%2002/CS420-Project02-TreasureIsland/treasure_island.ipynb#X12sZmlsZQ%3D%3D?line=1'>2</a>\u001b[0m     \u001b[39mdef\u001b[39;00m \u001b[39m__init__\u001b[39m(\n\u001b[1;32m      <a href='vscode-notebook-cell:/home/dui/Windows/CS/APCS/Junior/Semester%201/CS420/Project%2002/CS420-Project02-TreasureIsland/treasure_island.ipynb#X12sZmlsZQ%3D%3D?line=2'>3</a>\u001b[0m         \u001b[39mself\u001b[39m, \n\u001b[1;32m      <a href='vscode-notebook-cell:/home/dui/Windows/CS/APCS/Junior/Semester%201/CS420/Project%2002/CS420-Project02-TreasureIsland/treasure_island.ipynb#X12sZmlsZQ%3D%3D?line=3'>4</a>\u001b[0m         W: \u001b[39mint\u001b[39m, \n\u001b[1;32m      <a href='vscode-notebook-cell:/home/dui/Windows/CS/APCS/Junior/Semester%201/CS420/Project%2002/CS420-Project02-TreasureIsland/treasure_island.ipynb#X12sZmlsZQ%3D%3D?line=4'>5</a>\u001b[0m         H: \u001b[39mint\u001b[39m,\n\u001b[0;32m----> <a href='vscode-notebook-cell:/home/dui/Windows/CS/APCS/Junior/Semester%201/CS420/Project%2002/CS420-Project02-TreasureIsland/treasure_island.ipynb#X12sZmlsZQ%3D%3D?line=5'>6</a>\u001b[0m         board: List[List[Cell]],\n\u001b[1;32m      <a href='vscode-notebook-cell:/home/dui/Windows/CS/APCS/Junior/Semester%201/CS420/Project%2002/CS420-Project02-TreasureIsland/treasure_island.ipynb#X12sZmlsZQ%3D%3D?line=6'>7</a>\u001b[0m         treasure: Cell,\n\u001b[1;32m      <a href='vscode-notebook-cell:/home/dui/Windows/CS/APCS/Junior/Semester%201/CS420/Project%2002/CS420-Project02-TreasureIsland/treasure_island.ipynb#X12sZmlsZQ%3D%3D?line=7'>8</a>\u001b[0m         no_region: \u001b[39mint\u001b[39m,\n\u001b[1;32m      <a href='vscode-notebook-cell:/home/dui/Windows/CS/APCS/Junior/Semester%201/CS420/Project%2002/CS420-Project02-TreasureIsland/treasure_island.ipynb#X12sZmlsZQ%3D%3D?line=8'>9</a>\u001b[0m         regions: List[List[Cell]]\n\u001b[1;32m     <a href='vscode-notebook-cell:/home/dui/Windows/CS/APCS/Junior/Semester%201/CS420/Project%2002/CS420-Project02-TreasureIsland/treasure_island.ipynb#X12sZmlsZQ%3D%3D?line=9'>10</a>\u001b[0m     ) \u001b[39m-\u001b[39m\u001b[39m>\u001b[39m \u001b[39mNone\u001b[39;00m:\n\u001b[1;32m     <a href='vscode-notebook-cell:/home/dui/Windows/CS/APCS/Junior/Semester%201/CS420/Project%2002/CS420-Project02-TreasureIsland/treasure_island.ipynb#X12sZmlsZQ%3D%3D?line=10'>11</a>\u001b[0m         \u001b[39mself\u001b[39m\u001b[39m.\u001b[39mboard: List[List[Cell]] \u001b[39m=\u001b[39m MapGenerator()\n\u001b[1;32m     <a href='vscode-notebook-cell:/home/dui/Windows/CS/APCS/Junior/Semester%201/CS420/Project%2002/CS420-Project02-TreasureIsland/treasure_island.ipynb#X12sZmlsZQ%3D%3D?line=11'>12</a>\u001b[0m         \u001b[39mself\u001b[39m\u001b[39m.\u001b[39mW \u001b[39m=\u001b[39m W\n",
      "\u001b[0;31mNameError\u001b[0m: name 'Cell' is not defined"
     ]
    }
   ],
   "source": [
    "class Map:\n",
    "    def __init__(\n",
    "        self, \n",
    "        W: int, \n",
    "        H: int,\n",
    "        board: List[List[Cell]],\n",
    "        treasure: Cell,\n",
    "        max_region: int,\n",
    "        regions: List[List[Cell]]\n",
    "    ) -> None:\n",
    "        self.board: List[List[Cell]] = MapGenerator()\n",
    "        self.W = W\n",
    "        self.H = H\n",
    "        self.treasure = treasure\n",
    "        self.max_region = max_region\n",
    "        self.regions = regions\n",
    "\n",
    "        self.hints = {\"1\": self.generate_hint_1, \"2\": self.generate_hint_2, \"3\": self.generate_hint_3, \"4\": self.generate_hint_4,\n",
    "                      \"5\": self.generate_hint_5, \"6\": self.generate_hint_6, \"7\": self.generate_hint_7, \"8\": self.generate_hint_8,\n",
    "                      \"9\": self.generate_hint_9, \"10\": self.generate_hint_10, \"11\": self.generate_hint_11, \"12\": self.generate_hint_12,\n",
    "                      \"13\": self.generate_hint_13, \"14\": self.generate_hint_14, \"15\": self.generate_hint_15, \"16\": self.generate_hint_16}\n",
    "\n",
    "    def hint_generator(self):\n",
    "        np.random.randint(16)\n",
    "\n",
    "    \n",
    "    def generate_hint(self) -> None:\n",
    "        self.hints[str(rng.randint(16))]()\n",
    "    \n",
    "    def generate_hint_1(self) -> Tuple[bool, List[Cell], str]:\n",
    "        # A list of random tiles that doesn't contain the treasure (1 to 12)\n",
    "\n",
    "        # trueness of this hint\n",
    "        trueness = True\n",
    "\n",
    "        # get random tiles doest not contain the treasure\n",
    "        no_title = rng.randint(1, 13)\n",
    "        x_coords = rng.choice(np.arange(self.H), size=no_title, replace=False)\n",
    "        y_coords = rng.choice(np.arange(self.W), size=no_title, replace=False)\n",
    "\n",
    "        # coords from x and y coords\n",
    "        coords = list(zip(x_coords, y_coords))\n",
    "\n",
    "        # get the tiles that overlap with the treasure\n",
    "        for coord in coords:\n",
    "            if coord == self.treasure.coord:\n",
    "                trueness = False\n",
    "\n",
    "        # final coords\n",
    "        hinted_cells = []\n",
    "\n",
    "        # mark those cells that they are not contain the treasure\n",
    "        for row in self.board:\n",
    "            for cell in row:\n",
    "                for coord in coords:\n",
    "                    if cell.coord == coord:\n",
    "                        if trueness:\n",
    "                            cell.is_scanned = True\n",
    "                        else:\n",
    "                            cell.is_potential = True\n",
    "                        hinted_cells.append(cell)\n",
    "                    elif not trueness:\n",
    "                        cell.is_scanned = True\n",
    "\n",
    "        log = f\"These tiles {coords} do not contain the treasure\"\n",
    "                        \n",
    "        return trueness, hinted_cells, log\n",
    "        \n",
    "    def generate_hint_2(self) -> Tuple[bool, List[int], str]:\n",
    "        # 2-5 regions that 1 of them has the treasure.\n",
    "\n",
    "        # trueness of this hint\n",
    "        trueness = rng.randint(2, dtype=bool)\n",
    "\n",
    "        # number of regions\n",
    "        no_reg = rng.randint(1, 5)\n",
    "        regions = rng.choice(np.arange(1, self.max_region + 1), size=no_reg, replace=False)\n",
    "\n",
    "        # number of regions\n",
    "        if trueness:\n",
    "            regions[0] = self.treasure.region\n",
    "\n",
    "        for i in regions:\n",
    "            for cell in self.regions[i]:\n",
    "                if trueness:\n",
    "                    cell.is_potential = True\n",
    "                else:\n",
    "                    cell.is_scanned = True\n",
    "        \n",
    "        log = f\"One of these regions contain the treasure: {regions}\"\n",
    "            \n",
    "        return trueness, list(regions), log\n",
    "\n",
    "    def generate_hint_3(self) -> Tuple[bool, List[int], str]:\n",
    "        # 1-3 regions that do not contain the treasure.\n",
    "\n",
    "        # trueness of this hint\n",
    "        trueness = rng.randint(2, dtype=bool)\n",
    "\n",
    "        # number of regions\n",
    "        no_reg = rng.randint(1, 3)\n",
    "        regions = rng.choice(np.arange(1, self.max_region + 1), size=no_reg, replace=False)\n",
    "\n",
    "        # number of regions\n",
    "        if not trueness:\n",
    "            regions[0] = self.treasure.region\n",
    "\n",
    "        for i in regions:\n",
    "            for cell in self.regions[i]:\n",
    "                if not trueness:\n",
    "                    cell.is_potential = True\n",
    "                else:\n",
    "                    cell.is_scanned = True\n",
    "        \n",
    "        log = f\"These regions do not contain the treasure: {regions}\"\n",
    "\n",
    "        return trueness, list(regions), log\n",
    "\n",
    "    def generate_hint_4(self) -> List[Cell]:\n",
    "        pass\n",
    "\n",
    "    def generate_hint_5(self) -> List[Cell]:\n",
    "        pass\n",
    "\n",
    "    def generate_hint_6(self) -> List[Cell]:\n",
    "        pass\n",
    "\n",
    "    def generate_hint_7(self) -> List[Cell]:\n",
    "        pass\n",
    "\n",
    "    def generate_hint_8(self) -> List[Cell]:\n",
    "        pass\n",
    "\n",
    "    def generate_hint_9(self) -> List[Cell]:\n",
    "        pass\n",
    "\n",
    "    def generate_hint_10(self) -> List[Cell]:\n",
    "        pass\n",
    "\n",
    "    def generate_hint_11(self) -> List[Cell]:\n",
    "        pass\n",
    "\n",
    "    def generate_hint_12(self) -> List[Cell]:\n",
    "        pass\n",
    "\n",
    "    def generate_hint_13(self) -> List[Cell]:\n",
    "        pass\n",
    "\n",
    "    def generate_hint_14(self) -> List[Cell]:\n",
    "        pass\n",
    "\n",
    "    def generate_hint_15(self) -> List[Cell]:\n",
    "        pass\n",
    "\n",
    "    def generate_hint_16(self) -> List[Cell]:\n",
    "        pass"
   ]
  },
  {
   "cell_type": "code",
   "execution_count": null,
   "metadata": {},
   "outputs": [],
   "source": []
  },
  {
   "cell_type": "code",
   "execution_count": null,
   "metadata": {},
   "outputs": [],
   "source": [
    "class Agent:\n",
    "    def __init_(self) -> None:\n",
    "        self.position = Cell()\n",
    "        \n",
    "        pass"
   ]
  },
  {
   "cell_type": "code",
   "execution_count": null,
   "metadata": {},
   "outputs": [],
   "source": [
    "class JackSparrow(Agent):\n",
    "    def __init__(self) -> None:\n",
    "        pass\n",
    "    \n",
    "    def action(self):\n",
    "        pass\n",
    "\n",
    "    def move(self, step: int) -> None:\n",
    "        pass\n",
    "\n",
    "    def verifies_hint(self) -> bool:\n",
    "        pass\n",
    "\n",
    "    def small_scan(self) -> None:\n",
    "        pass\n",
    "\n",
    "    def large_scan(self) -> None:\n",
    "        pass\n",
    "\n",
    "    def teleport(self) -> None:\n",
    "        pass\n",
    "\n",
    "    def is_treasure(self) -> bool:\n",
    "        pass"
   ]
  },
  {
   "cell_type": "code",
   "execution_count": null,
   "metadata": {},
   "outputs": [],
   "source": [
    "class Hint:\n",
    "    def __init__(self, trueness: bool) -> None:\n",
    "        self.trueness = trueness\n",
    "\n",
    "        pass\n",
    "\n"
   ]
  },
  {
   "cell_type": "code",
   "execution_count": null,
   "metadata": {},
   "outputs": [],
   "source": [
    "class Pirate(Agent):\n",
    "    def __init__(self) -> None:\n",
    "        super().__init__()\n",
    "        path = self.shorted_path()\n",
    "        hints = []\n",
    "        pass\n",
    "\n",
    "    def shorted_path(self) -> List[Tuple[int, str]]:\n",
    "        pass\n",
    "\n",
    "    def gives_hint(self) -> None:\n",
    "        pass"
   ]
  }
 ],
 "metadata": {
  "kernelspec": {
   "display_name": "Python 3.10.6 ('DS')",
   "language": "python",
   "name": "python3"
  },
  "language_info": {
   "codemirror_mode": {
    "name": "ipython",
    "version": 3
   },
   "file_extension": ".py",
   "mimetype": "text/x-python",
   "name": "python",
   "nbconvert_exporter": "python",
   "pygments_lexer": "ipython3",
   "version": "3.10.6"
  },
  "orig_nbformat": 4,
  "vscode": {
   "interpreter": {
    "hash": "1c5122af82361268f066867ad644eaf1c53f4d666331cce3687bbe30c75299c2"
   }
  }
 },
 "nbformat": 4,
 "nbformat_minor": 2
}

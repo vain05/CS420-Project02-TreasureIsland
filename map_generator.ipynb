{
 "cells": [
  {
   "cell_type": "code",
   "execution_count": 1140,
   "metadata": {},
   "outputs": [],
   "source": [
    "from typing import List, Tuple\n",
    "import random\n",
    "import math\n",
    "from termcolor import colored\n",
    "import time"
   ]
  },
  {
   "attachments": {},
   "cell_type": "markdown",
   "metadata": {},
   "source": [
    "## Parameters"
   ]
  },
  {
   "cell_type": "code",
   "execution_count": 1141,
   "metadata": {},
   "outputs": [],
   "source": [
    "rows = 32                       \n",
    "cols = 32\n",
    "number_of_region = 8\n",
    "\n",
    "init_land_chance = 0.1          #Probability of cells to be seeded as 'land terrain', range 0 to 1\n",
    "init_sea_chance = 0.04          #Probability of cells to be seeded as 'sea terrain', range 0 to 1\n",
    "init_mountain_chance = 0.04     #Probability of 'land terrain' cells to be seeded as 'mountain terrain', range 0 to 1\n",
    "init_region_chance = 0.0007\n",
    "\n",
    "land_chance = 0.055             #Probability of cells to become 'land terrain' for each adjacent 'land terrain' cell, range 0 to 1\n",
    "sea_chance = 0.022              #Probability of cells to become 'sea terrain' for each adjacent 'sea terrain' cell, range 0 to 1\n",
    "border_sea_chance = 0.08        #Probability of cells on the edges of the map to become 'sea terrain', range -1 to 1\n",
    "mountain_chance = 0.01          #Probability of 'land terrain' cells to become 'mountain terrain' for each adjacent 'mountain terrain' cell, range 0 to 1\n",
    "sea_mountain_chance = -0.01     #Probability of 'land terrain' cells to become 'mountain terrain' for each adjacent 'sea terrain' cell, range -1 to 1\n",
    "\n",
    "\n",
    "mountain_amplifier = 12         #Increase to have larger mountain ranges, range >= 0\n"
   ]
  },
  {
   "attachments": {},
   "cell_type": "markdown",
   "metadata": {},
   "source": [
    "## Helper Functions"
   ]
  },
  {
   "cell_type": "code",
   "execution_count": 1142,
   "metadata": {},
   "outputs": [],
   "source": [
    "def neighbors(a, radius, row_number, column_number):\n",
    "     return [[a[i][j] if  i >= 0 and i < len(a) and j >= 0 and j < len(a[0]) else '|'\n",
    "                for j in range(column_number-radius, column_number+radius+1)]\n",
    "                    for i in range(row_number-radius, row_number+radius+1)]"
   ]
  },
  {
   "cell_type": "code",
   "execution_count": 1143,
   "metadata": {},
   "outputs": [],
   "source": [
    "def map_print(Map):\n",
    "    for coord_x, row in enumerate(Map):\n",
    "        for coord_y, terrain in enumerate(row):\n",
    "            cur = Map[coord_x][coord_y]\n",
    "            if cur == '_' or cur in range(1, number_of_region + 1):                \n",
    "                print('\\033[92m', cur, end = '  ')\n",
    "            elif cur == '~':                \n",
    "                print('\\033[96m', cur, end = '  ')\n",
    "            elif cur == 'M':                \n",
    "                print('\\033[91m', cur, end = '  ')\n",
    "            else:\n",
    "                print('\\033[97m', cur, end = '  ')\n",
    "        print()"
   ]
  },
  {
   "cell_type": "code",
   "execution_count": 1144,
   "metadata": {},
   "outputs": [],
   "source": [
    "def get_neighbour_terrain(area):\n",
    "    land = 0\n",
    "    sea = 0\n",
    "    for coord_x, row in enumerate(area):\n",
    "        for coord_y, terrain in enumerate(row):\n",
    "            if area[coord_x][coord_y] == '_':\n",
    "                land += land_chance\n",
    "            elif area[coord_x][coord_y] == '~':\n",
    "                sea += sea_chance\n",
    "            elif(area[coord_x][coord_y] == '|'):\n",
    "                sea += border_sea_chance\n",
    "    \n",
    "    chance = random.uniform(0,1)\n",
    "    if chance <= land:\n",
    "        return '_'\n",
    "    elif chance >= 1 - sea:\n",
    "        return '~'\n",
    "    else:\n",
    "        return '.'"
   ]
  },
  {
   "cell_type": "code",
   "execution_count": 1145,
   "metadata": {},
   "outputs": [],
   "source": [
    "def get_neighbour_mountain(area):\n",
    "    mountain = 0\n",
    "    for coord_x, row in enumerate(area):\n",
    "        for coord_y, terrain in enumerate(row):\n",
    "            if area[coord_x][coord_y] == 'M':\n",
    "                mountain += mountain_chance\n",
    "            if area[coord_x][coord_y] == '~':\n",
    "                mountain += sea_mountain_chance\n",
    "    \n",
    "    chance = random.uniform(0,1)\n",
    "    if chance <= mountain:\n",
    "        return 'M'\n",
    "    else:\n",
    "        return '_'"
   ]
  },
  {
   "cell_type": "code",
   "execution_count": 1146,
   "metadata": {},
   "outputs": [],
   "source": [
    "def get_neighbour_region(area):\n",
    "    region = [0 for i in range(number_of_region)]\n",
    "    for coord_x, row in enumerate(area):\n",
    "        for coord_y, terrain in enumerate(row):\n",
    "            if area[coord_x][coord_y] in range(1, number_of_region + 1):\n",
    "                num = area[coord_x][coord_y]\n",
    "                region[num - 1] += 0.1\n",
    "            \n",
    "    \n",
    "    chance = random.uniform(0,1)\n",
    "    for r, c in enumerate(region):\n",
    "        chance -= c\n",
    "        if(chance <= 0):\n",
    "            return r + 1\n",
    "\n",
    "    return '_'\n",
    "    "
   ]
  },
  {
   "cell_type": "code",
   "execution_count": 1147,
   "metadata": {},
   "outputs": [
    {
     "name": "stdout",
     "output_type": "stream",
     "text": [
      "[0, 0, 0, 0.1, 0.1, 0.2, 0.3]\n"
     ]
    }
   ],
   "source": [
    "a = [0, 0, 0.1, 0.3, 0.1, 0, 0.2]\n",
    "print(sorted(a, key=float))"
   ]
  },
  {
   "attachments": {},
   "cell_type": "markdown",
   "metadata": {},
   "source": [
    "## Terrain Seeding"
   ]
  },
  {
   "cell_type": "code",
   "execution_count": 1148,
   "metadata": {},
   "outputs": [],
   "source": [
    "Map = [['.']*rows for _ in range(cols)]\n",
    "\n",
    "for coord_x, row in enumerate(Map):\n",
    "    for coord_y, terrain in enumerate(row):\n",
    "        chance = random.uniform(0,1)\n",
    "        if chance <= init_land_chance:\n",
    "            Map[coord_x][coord_y] = '_'\n",
    "        elif random.uniform(0,1) >= 1 - init_sea_chance:\n",
    "            Map[coord_x][coord_y] = '~'"
   ]
  },
  {
   "cell_type": "code",
   "execution_count": 1149,
   "metadata": {},
   "outputs": [
    {
     "name": "stdout",
     "output_type": "stream",
     "text": [
      "\u001b[97m .  \u001b[97m .  \u001b[97m .  \u001b[97m .  \u001b[97m .  \u001b[97m .  \u001b[97m .  \u001b[97m .  \u001b[92m _  \u001b[97m .  \u001b[97m .  \u001b[92m _  \u001b[97m .  \u001b[92m _  \u001b[97m .  \u001b[97m .  \u001b[97m .  \u001b[97m .  \u001b[97m .  \u001b[97m .  \u001b[97m .  \u001b[97m .  \u001b[97m .  \u001b[97m .  \u001b[97m .  \u001b[97m .  \u001b[97m .  \u001b[97m .  \u001b[97m .  \u001b[97m .  \u001b[97m .  \u001b[97m .  \n",
      "\u001b[97m .  \u001b[97m .  \u001b[97m .  \u001b[97m .  \u001b[97m .  \u001b[97m .  \u001b[97m .  \u001b[97m .  \u001b[97m .  \u001b[97m .  \u001b[97m .  \u001b[97m .  \u001b[92m _  \u001b[97m .  \u001b[97m .  \u001b[97m .  \u001b[97m .  \u001b[97m .  \u001b[97m .  \u001b[97m .  \u001b[97m .  \u001b[97m .  \u001b[97m .  \u001b[97m .  \u001b[97m .  \u001b[97m .  \u001b[97m .  \u001b[97m .  \u001b[97m .  \u001b[97m .  \u001b[97m .  \u001b[97m .  \n",
      "\u001b[97m .  \u001b[97m .  \u001b[97m .  \u001b[97m .  \u001b[97m .  \u001b[97m .  \u001b[97m .  \u001b[97m .  \u001b[97m .  \u001b[96m ~  \u001b[97m .  \u001b[92m _  \u001b[97m .  \u001b[97m .  \u001b[97m .  \u001b[97m .  \u001b[97m .  \u001b[97m .  \u001b[92m _  \u001b[97m .  \u001b[97m .  \u001b[97m .  \u001b[97m .  \u001b[97m .  \u001b[97m .  \u001b[97m .  \u001b[97m .  \u001b[97m .  \u001b[97m .  \u001b[97m .  \u001b[97m .  \u001b[97m .  \n",
      "\u001b[97m .  \u001b[96m ~  \u001b[97m .  \u001b[97m .  \u001b[97m .  \u001b[97m .  \u001b[97m .  \u001b[92m _  \u001b[97m .  \u001b[97m .  \u001b[92m _  \u001b[97m .  \u001b[97m .  \u001b[97m .  \u001b[97m .  \u001b[97m .  \u001b[92m _  \u001b[97m .  \u001b[97m .  \u001b[97m .  \u001b[97m .  \u001b[97m .  \u001b[97m .  \u001b[97m .  \u001b[97m .  \u001b[97m .  \u001b[97m .  \u001b[97m .  \u001b[97m .  \u001b[97m .  \u001b[97m .  \u001b[96m ~  \n",
      "\u001b[97m .  \u001b[97m .  \u001b[97m .  \u001b[92m _  \u001b[97m .  \u001b[97m .  \u001b[97m .  \u001b[97m .  \u001b[97m .  \u001b[97m .  \u001b[97m .  \u001b[97m .  \u001b[97m .  \u001b[97m .  \u001b[92m _  \u001b[97m .  \u001b[97m .  \u001b[97m .  \u001b[97m .  \u001b[97m .  \u001b[97m .  \u001b[97m .  \u001b[97m .  \u001b[97m .  \u001b[97m .  \u001b[97m .  \u001b[97m .  \u001b[97m .  \u001b[97m .  \u001b[92m _  \u001b[97m .  \u001b[97m .  \n",
      "\u001b[97m .  \u001b[97m .  \u001b[97m .  \u001b[97m .  \u001b[97m .  \u001b[97m .  \u001b[97m .  \u001b[97m .  \u001b[97m .  \u001b[96m ~  \u001b[97m .  \u001b[97m .  \u001b[97m .  \u001b[97m .  \u001b[92m _  \u001b[92m _  \u001b[97m .  \u001b[97m .  \u001b[97m .  \u001b[96m ~  \u001b[97m .  \u001b[97m .  \u001b[97m .  \u001b[97m .  \u001b[97m .  \u001b[97m .  \u001b[97m .  \u001b[97m .  \u001b[97m .  \u001b[97m .  \u001b[97m .  \u001b[97m .  \n",
      "\u001b[97m .  \u001b[97m .  \u001b[97m .  \u001b[92m _  \u001b[96m ~  \u001b[97m .  \u001b[97m .  \u001b[97m .  \u001b[97m .  \u001b[96m ~  \u001b[97m .  \u001b[92m _  \u001b[97m .  \u001b[97m .  \u001b[97m .  \u001b[97m .  \u001b[97m .  \u001b[97m .  \u001b[97m .  \u001b[97m .  \u001b[97m .  \u001b[97m .  \u001b[96m ~  \u001b[97m .  \u001b[97m .  \u001b[97m .  \u001b[97m .  \u001b[97m .  \u001b[92m _  \u001b[97m .  \u001b[92m _  \u001b[97m .  \n",
      "\u001b[97m .  \u001b[97m .  \u001b[97m .  \u001b[97m .  \u001b[97m .  \u001b[97m .  \u001b[97m .  \u001b[97m .  \u001b[97m .  \u001b[97m .  \u001b[96m ~  \u001b[97m .  \u001b[97m .  \u001b[92m _  \u001b[97m .  \u001b[97m .  \u001b[97m .  \u001b[97m .  \u001b[92m _  \u001b[97m .  \u001b[97m .  \u001b[97m .  \u001b[96m ~  \u001b[97m .  \u001b[97m .  \u001b[97m .  \u001b[97m .  \u001b[97m .  \u001b[97m .  \u001b[97m .  \u001b[97m .  \u001b[97m .  \n",
      "\u001b[97m .  \u001b[97m .  \u001b[92m _  \u001b[96m ~  \u001b[97m .  \u001b[96m ~  \u001b[97m .  \u001b[97m .  \u001b[97m .  \u001b[97m .  \u001b[97m .  \u001b[97m .  \u001b[97m .  \u001b[92m _  \u001b[97m .  \u001b[97m .  \u001b[97m .  \u001b[97m .  \u001b[97m .  \u001b[92m _  \u001b[97m .  \u001b[92m _  \u001b[97m .  \u001b[97m .  \u001b[97m .  \u001b[97m .  \u001b[97m .  \u001b[97m .  \u001b[97m .  \u001b[97m .  \u001b[97m .  \u001b[97m .  \n",
      "\u001b[97m .  \u001b[97m .  \u001b[97m .  \u001b[97m .  \u001b[92m _  \u001b[97m .  \u001b[97m .  \u001b[97m .  \u001b[97m .  \u001b[97m .  \u001b[92m _  \u001b[97m .  \u001b[97m .  \u001b[92m _  \u001b[97m .  \u001b[97m .  \u001b[97m .  \u001b[97m .  \u001b[97m .  \u001b[96m ~  \u001b[97m .  \u001b[97m .  \u001b[97m .  \u001b[97m .  \u001b[97m .  \u001b[97m .  \u001b[97m .  \u001b[92m _  \u001b[97m .  \u001b[97m .  \u001b[97m .  \u001b[97m .  \n",
      "\u001b[97m .  \u001b[97m .  \u001b[97m .  \u001b[97m .  \u001b[97m .  \u001b[97m .  \u001b[97m .  \u001b[97m .  \u001b[97m .  \u001b[97m .  \u001b[97m .  \u001b[97m .  \u001b[96m ~  \u001b[97m .  \u001b[97m .  \u001b[97m .  \u001b[97m .  \u001b[97m .  \u001b[97m .  \u001b[97m .  \u001b[97m .  \u001b[97m .  \u001b[97m .  \u001b[97m .  \u001b[97m .  \u001b[97m .  \u001b[97m .  \u001b[97m .  \u001b[92m _  \u001b[97m .  \u001b[97m .  \u001b[97m .  \n",
      "\u001b[97m .  \u001b[97m .  \u001b[97m .  \u001b[97m .  \u001b[97m .  \u001b[97m .  \u001b[97m .  \u001b[97m .  \u001b[97m .  \u001b[97m .  \u001b[97m .  \u001b[97m .  \u001b[97m .  \u001b[97m .  \u001b[97m .  \u001b[97m .  \u001b[97m .  \u001b[97m .  \u001b[97m .  \u001b[97m .  \u001b[97m .  \u001b[97m .  \u001b[97m .  \u001b[97m .  \u001b[97m .  \u001b[97m .  \u001b[92m _  \u001b[97m .  \u001b[92m _  \u001b[97m .  \u001b[92m _  \u001b[97m .  \n",
      "\u001b[97m .  \u001b[97m .  \u001b[97m .  \u001b[97m .  \u001b[97m .  \u001b[97m .  \u001b[92m _  \u001b[97m .  \u001b[92m _  \u001b[97m .  \u001b[97m .  \u001b[97m .  \u001b[97m .  \u001b[92m _  \u001b[97m .  \u001b[97m .  \u001b[96m ~  \u001b[97m .  \u001b[97m .  \u001b[92m _  \u001b[97m .  \u001b[97m .  \u001b[97m .  \u001b[97m .  \u001b[97m .  \u001b[97m .  \u001b[97m .  \u001b[97m .  \u001b[97m .  \u001b[97m .  \u001b[97m .  \u001b[97m .  \n",
      "\u001b[96m ~  \u001b[97m .  \u001b[97m .  \u001b[97m .  \u001b[97m .  \u001b[97m .  \u001b[97m .  \u001b[97m .  \u001b[97m .  \u001b[97m .  \u001b[97m .  \u001b[97m .  \u001b[97m .  \u001b[97m .  \u001b[97m .  \u001b[97m .  \u001b[97m .  \u001b[97m .  \u001b[97m .  \u001b[97m .  \u001b[92m _  \u001b[96m ~  \u001b[97m .  \u001b[97m .  \u001b[97m .  \u001b[97m .  \u001b[97m .  \u001b[97m .  \u001b[97m .  \u001b[97m .  \u001b[92m _  \u001b[97m .  \n",
      "\u001b[97m .  \u001b[97m .  \u001b[97m .  \u001b[92m _  \u001b[97m .  \u001b[97m .  \u001b[97m .  \u001b[97m .  \u001b[97m .  \u001b[97m .  \u001b[97m .  \u001b[97m .  \u001b[97m .  \u001b[97m .  \u001b[92m _  \u001b[97m .  \u001b[97m .  \u001b[97m .  \u001b[97m .  \u001b[97m .  \u001b[97m .  \u001b[97m .  \u001b[97m .  \u001b[97m .  \u001b[97m .  \u001b[97m .  \u001b[97m .  \u001b[97m .  \u001b[97m .  \u001b[97m .  \u001b[97m .  \u001b[97m .  \n",
      "\u001b[97m .  \u001b[92m _  \u001b[92m _  \u001b[97m .  \u001b[97m .  \u001b[97m .  \u001b[97m .  \u001b[97m .  \u001b[97m .  \u001b[97m .  \u001b[97m .  \u001b[97m .  \u001b[97m .  \u001b[97m .  \u001b[97m .  \u001b[97m .  \u001b[97m .  \u001b[97m .  \u001b[97m .  \u001b[97m .  \u001b[97m .  \u001b[97m .  \u001b[97m .  \u001b[97m .  \u001b[97m .  \u001b[97m .  \u001b[97m .  \u001b[97m .  \u001b[97m .  \u001b[97m .  \u001b[97m .  \u001b[97m .  \n",
      "\u001b[97m .  \u001b[97m .  \u001b[97m .  \u001b[97m .  \u001b[97m .  \u001b[97m .  \u001b[97m .  \u001b[97m .  \u001b[97m .  \u001b[97m .  \u001b[97m .  \u001b[97m .  \u001b[97m .  \u001b[97m .  \u001b[97m .  \u001b[92m _  \u001b[97m .  \u001b[97m .  \u001b[97m .  \u001b[97m .  \u001b[97m .  \u001b[92m _  \u001b[97m .  \u001b[92m _  \u001b[97m .  \u001b[97m .  \u001b[97m .  \u001b[97m .  \u001b[97m .  \u001b[97m .  \u001b[96m ~  \u001b[97m .  \n",
      "\u001b[97m .  \u001b[97m .  \u001b[97m .  \u001b[97m .  \u001b[97m .  \u001b[97m .  \u001b[97m .  \u001b[97m .  \u001b[97m .  \u001b[97m .  \u001b[97m .  \u001b[97m .  \u001b[97m .  \u001b[92m _  \u001b[92m _  \u001b[97m .  \u001b[97m .  \u001b[97m .  \u001b[97m .  \u001b[97m .  \u001b[97m .  \u001b[97m .  \u001b[97m .  \u001b[97m .  \u001b[92m _  \u001b[97m .  \u001b[97m .  \u001b[97m .  \u001b[97m .  \u001b[92m _  \u001b[97m .  \u001b[97m .  \n",
      "\u001b[97m .  \u001b[97m .  \u001b[97m .  \u001b[92m _  \u001b[97m .  \u001b[97m .  \u001b[97m .  \u001b[97m .  \u001b[97m .  \u001b[97m .  \u001b[97m .  \u001b[97m .  \u001b[97m .  \u001b[97m .  \u001b[97m .  \u001b[97m .  \u001b[97m .  \u001b[97m .  \u001b[97m .  \u001b[97m .  \u001b[97m .  \u001b[97m .  \u001b[97m .  \u001b[97m .  \u001b[97m .  \u001b[97m .  \u001b[97m .  \u001b[97m .  \u001b[97m .  \u001b[97m .  \u001b[97m .  \u001b[97m .  \n",
      "\u001b[97m .  \u001b[97m .  \u001b[92m _  \u001b[97m .  \u001b[97m .  \u001b[92m _  \u001b[96m ~  \u001b[97m .  \u001b[97m .  \u001b[97m .  \u001b[97m .  \u001b[97m .  \u001b[97m .  \u001b[97m .  \u001b[97m .  \u001b[97m .  \u001b[97m .  \u001b[97m .  \u001b[97m .  \u001b[97m .  \u001b[97m .  \u001b[97m .  \u001b[97m .  \u001b[97m .  \u001b[97m .  \u001b[97m .  \u001b[97m .  \u001b[97m .  \u001b[97m .  \u001b[97m .  \u001b[97m .  \u001b[97m .  \n",
      "\u001b[97m .  \u001b[97m .  \u001b[97m .  \u001b[97m .  \u001b[97m .  \u001b[96m ~  \u001b[97m .  \u001b[97m .  \u001b[97m .  \u001b[97m .  \u001b[97m .  \u001b[97m .  \u001b[97m .  \u001b[97m .  \u001b[97m .  \u001b[97m .  \u001b[97m .  \u001b[97m .  \u001b[97m .  \u001b[97m .  \u001b[97m .  \u001b[97m .  \u001b[92m _  \u001b[97m .  \u001b[97m .  \u001b[97m .  \u001b[97m .  \u001b[97m .  \u001b[97m .  \u001b[97m .  \u001b[97m .  \u001b[97m .  \n",
      "\u001b[97m .  \u001b[97m .  \u001b[97m .  \u001b[92m _  \u001b[97m .  \u001b[92m _  \u001b[97m .  \u001b[92m _  \u001b[97m .  \u001b[97m .  \u001b[97m .  \u001b[97m .  \u001b[97m .  \u001b[96m ~  \u001b[97m .  \u001b[97m .  \u001b[97m .  \u001b[97m .  \u001b[97m .  \u001b[97m .  \u001b[97m .  \u001b[92m _  \u001b[97m .  \u001b[97m .  \u001b[97m .  \u001b[97m .  \u001b[97m .  \u001b[97m .  \u001b[97m .  \u001b[97m .  \u001b[97m .  \u001b[97m .  \n",
      "\u001b[97m .  \u001b[92m _  \u001b[97m .  \u001b[97m .  \u001b[96m ~  \u001b[97m .  \u001b[97m .  \u001b[97m .  \u001b[97m .  \u001b[97m .  \u001b[97m .  \u001b[97m .  \u001b[97m .  \u001b[97m .  \u001b[97m .  \u001b[97m .  \u001b[97m .  \u001b[97m .  \u001b[97m .  \u001b[97m .  \u001b[97m .  \u001b[97m .  \u001b[97m .  \u001b[97m .  \u001b[97m .  \u001b[97m .  \u001b[97m .  \u001b[97m .  \u001b[97m .  \u001b[97m .  \u001b[97m .  \u001b[97m .  \n",
      "\u001b[97m .  \u001b[97m .  \u001b[97m .  \u001b[97m .  \u001b[97m .  \u001b[97m .  \u001b[97m .  \u001b[97m .  \u001b[97m .  \u001b[97m .  \u001b[96m ~  \u001b[97m .  \u001b[92m _  \u001b[97m .  \u001b[97m .  \u001b[96m ~  \u001b[92m _  \u001b[97m .  \u001b[97m .  \u001b[97m .  \u001b[97m .  \u001b[97m .  \u001b[97m .  \u001b[97m .  \u001b[97m .  \u001b[97m .  \u001b[97m .  \u001b[97m .  \u001b[97m .  \u001b[97m .  \u001b[92m _  \u001b[97m .  \n",
      "\u001b[96m ~  \u001b[92m _  \u001b[97m .  \u001b[97m .  \u001b[97m .  \u001b[97m .  \u001b[97m .  \u001b[97m .  \u001b[97m .  \u001b[97m .  \u001b[97m .  \u001b[97m .  \u001b[97m .  \u001b[97m .  \u001b[96m ~  \u001b[97m .  \u001b[97m .  \u001b[97m .  \u001b[97m .  \u001b[97m .  \u001b[97m .  \u001b[97m .  \u001b[92m _  \u001b[97m .  \u001b[97m .  \u001b[97m .  \u001b[97m .  \u001b[97m .  \u001b[97m .  \u001b[92m _  \u001b[97m .  \u001b[97m .  \n",
      "\u001b[97m .  \u001b[97m .  \u001b[97m .  \u001b[97m .  \u001b[92m _  \u001b[97m .  \u001b[97m .  \u001b[97m .  \u001b[97m .  \u001b[97m .  \u001b[97m .  \u001b[97m .  \u001b[97m .  \u001b[97m .  \u001b[97m .  \u001b[97m .  \u001b[97m .  \u001b[97m .  \u001b[97m .  \u001b[97m .  \u001b[97m .  \u001b[92m _  \u001b[97m .  \u001b[97m .  \u001b[97m .  \u001b[97m .  \u001b[97m .  \u001b[97m .  \u001b[97m .  \u001b[92m _  \u001b[97m .  \u001b[97m .  \n",
      "\u001b[97m .  \u001b[97m .  \u001b[97m .  \u001b[97m .  \u001b[97m .  \u001b[97m .  \u001b[97m .  \u001b[97m .  \u001b[97m .  \u001b[97m .  \u001b[97m .  \u001b[97m .  \u001b[97m .  \u001b[97m .  \u001b[97m .  \u001b[97m .  \u001b[97m .  \u001b[97m .  \u001b[96m ~  \u001b[97m .  \u001b[97m .  \u001b[97m .  \u001b[97m .  \u001b[97m .  \u001b[92m _  \u001b[97m .  \u001b[97m .  \u001b[97m .  \u001b[92m _  \u001b[97m .  \u001b[97m .  \u001b[92m _  \n",
      "\u001b[97m .  \u001b[92m _  \u001b[97m .  \u001b[97m .  \u001b[97m .  \u001b[97m .  \u001b[97m .  \u001b[97m .  \u001b[96m ~  \u001b[97m .  \u001b[97m .  \u001b[97m .  \u001b[92m _  \u001b[97m .  \u001b[97m .  \u001b[97m .  \u001b[97m .  \u001b[97m .  \u001b[92m _  \u001b[97m .  \u001b[97m .  \u001b[97m .  \u001b[92m _  \u001b[96m ~  \u001b[97m .  \u001b[97m .  \u001b[97m .  \u001b[97m .  \u001b[97m .  \u001b[97m .  \u001b[97m .  \u001b[97m .  \n",
      "\u001b[97m .  \u001b[97m .  \u001b[92m _  \u001b[97m .  \u001b[97m .  \u001b[92m _  \u001b[97m .  \u001b[97m .  \u001b[97m .  \u001b[97m .  \u001b[97m .  \u001b[97m .  \u001b[97m .  \u001b[97m .  \u001b[97m .  \u001b[97m .  \u001b[97m .  \u001b[97m .  \u001b[97m .  \u001b[97m .  \u001b[97m .  \u001b[97m .  \u001b[97m .  \u001b[97m .  \u001b[97m .  \u001b[97m .  \u001b[97m .  \u001b[97m .  \u001b[92m _  \u001b[97m .  \u001b[97m .  \u001b[92m _  \n",
      "\u001b[97m .  \u001b[96m ~  \u001b[97m .  \u001b[97m .  \u001b[97m .  \u001b[92m _  \u001b[97m .  \u001b[97m .  \u001b[92m _  \u001b[97m .  \u001b[97m .  \u001b[97m .  \u001b[97m .  \u001b[97m .  \u001b[97m .  \u001b[97m .  \u001b[96m ~  \u001b[97m .  \u001b[97m .  \u001b[97m .  \u001b[92m _  \u001b[97m .  \u001b[97m .  \u001b[97m .  \u001b[97m .  \u001b[97m .  \u001b[97m .  \u001b[97m .  \u001b[97m .  \u001b[97m .  \u001b[97m .  \u001b[97m .  \n",
      "\u001b[97m .  \u001b[97m .  \u001b[97m .  \u001b[97m .  \u001b[97m .  \u001b[97m .  \u001b[97m .  \u001b[97m .  \u001b[97m .  \u001b[92m _  \u001b[97m .  \u001b[97m .  \u001b[97m .  \u001b[97m .  \u001b[97m .  \u001b[97m .  \u001b[92m _  \u001b[96m ~  \u001b[97m .  \u001b[92m _  \u001b[97m .  \u001b[97m .  \u001b[97m .  \u001b[97m .  \u001b[97m .  \u001b[97m .  \u001b[92m _  \u001b[97m .  \u001b[96m ~  \u001b[97m .  \u001b[97m .  \u001b[92m _  \n",
      "\u001b[97m .  \u001b[97m .  \u001b[97m .  \u001b[97m .  \u001b[97m .  \u001b[92m _  \u001b[92m _  \u001b[97m .  \u001b[97m .  \u001b[97m .  \u001b[97m .  \u001b[97m .  \u001b[97m .  \u001b[92m _  \u001b[97m .  \u001b[92m _  \u001b[97m .  \u001b[97m .  \u001b[97m .  \u001b[97m .  \u001b[97m .  \u001b[97m .  \u001b[97m .  \u001b[97m .  \u001b[97m .  \u001b[97m .  \u001b[97m .  \u001b[97m .  \u001b[97m .  \u001b[97m .  \u001b[97m .  \u001b[97m .  \n"
     ]
    }
   ],
   "source": [
    "map_print(Map)"
   ]
  },
  {
   "attachments": {},
   "cell_type": "markdown",
   "metadata": {},
   "source": [
    "## Land and Sea Filling"
   ]
  },
  {
   "cell_type": "code",
   "execution_count": 1150,
   "metadata": {},
   "outputs": [],
   "source": [
    "isFull = False\n",
    "\n",
    "while(isFull == False):\n",
    "    isFull = True\n",
    "    for coord_x, row in enumerate(Map):\n",
    "        for coord_y, terrain in enumerate(row):\n",
    "            if Map[coord_x][coord_y] == '.':          \n",
    "                isFull = False\n",
    "                area = neighbors(Map, 1, coord_x, coord_y).copy()\n",
    "                Map[coord_x][coord_y] = get_neighbour_terrain(area)            "
   ]
  },
  {
   "cell_type": "code",
   "execution_count": 1151,
   "metadata": {},
   "outputs": [
    {
     "name": "stdout",
     "output_type": "stream",
     "text": [
      "\u001b[96m ~  \u001b[96m ~  \u001b[96m ~  \u001b[96m ~  \u001b[96m ~  \u001b[96m ~  \u001b[96m ~  \u001b[96m ~  \u001b[92m _  \u001b[96m ~  \u001b[96m ~  \u001b[92m _  \u001b[96m ~  \u001b[92m _  \u001b[96m ~  \u001b[96m ~  \u001b[96m ~  \u001b[96m ~  \u001b[96m ~  \u001b[96m ~  \u001b[96m ~  \u001b[96m ~  \u001b[96m ~  \u001b[96m ~  \u001b[96m ~  \u001b[96m ~  \u001b[96m ~  \u001b[96m ~  \u001b[96m ~  \u001b[96m ~  \u001b[96m ~  \u001b[96m ~  \n",
      "\u001b[96m ~  \u001b[96m ~  \u001b[92m _  \u001b[92m _  \u001b[92m _  \u001b[96m ~  \u001b[96m ~  \u001b[92m _  \u001b[92m _  \u001b[92m _  \u001b[92m _  \u001b[92m _  \u001b[92m _  \u001b[96m ~  \u001b[96m ~  \u001b[96m ~  \u001b[96m ~  \u001b[96m ~  \u001b[92m _  \u001b[92m _  \u001b[92m _  \u001b[92m _  \u001b[92m _  \u001b[96m ~  \u001b[96m ~  \u001b[92m _  \u001b[92m _  \u001b[96m ~  \u001b[92m _  \u001b[92m _  \u001b[96m ~  \u001b[96m ~  \n",
      "\u001b[96m ~  \u001b[96m ~  \u001b[96m ~  \u001b[92m _  \u001b[92m _  \u001b[92m _  \u001b[96m ~  \u001b[92m _  \u001b[92m _  \u001b[96m ~  \u001b[92m _  \u001b[92m _  \u001b[92m _  \u001b[92m _  \u001b[92m _  \u001b[96m ~  \u001b[92m _  \u001b[92m _  \u001b[92m _  \u001b[92m _  \u001b[92m _  \u001b[92m _  \u001b[92m _  \u001b[92m _  \u001b[92m _  \u001b[92m _  \u001b[92m _  \u001b[92m _  \u001b[92m _  \u001b[92m _  \u001b[92m _  \u001b[96m ~  \n",
      "\u001b[96m ~  \u001b[96m ~  \u001b[96m ~  \u001b[92m _  \u001b[92m _  \u001b[92m _  \u001b[92m _  \u001b[92m _  \u001b[92m _  \u001b[92m _  \u001b[92m _  \u001b[92m _  \u001b[92m _  \u001b[92m _  \u001b[92m _  \u001b[92m _  \u001b[92m _  \u001b[92m _  \u001b[92m _  \u001b[92m _  \u001b[92m _  \u001b[92m _  \u001b[92m _  \u001b[92m _  \u001b[92m _  \u001b[92m _  \u001b[92m _  \u001b[92m _  \u001b[92m _  \u001b[92m _  \u001b[96m ~  \u001b[96m ~  \n",
      "\u001b[96m ~  \u001b[96m ~  \u001b[92m _  \u001b[92m _  \u001b[92m _  \u001b[92m _  \u001b[92m _  \u001b[92m _  \u001b[96m ~  \u001b[92m _  \u001b[92m _  \u001b[92m _  \u001b[92m _  \u001b[92m _  \u001b[92m _  \u001b[92m _  \u001b[92m _  \u001b[92m _  \u001b[92m _  \u001b[92m _  \u001b[92m _  \u001b[92m _  \u001b[92m _  \u001b[92m _  \u001b[92m _  \u001b[92m _  \u001b[92m _  \u001b[92m _  \u001b[92m _  \u001b[92m _  \u001b[96m ~  \u001b[96m ~  \n",
      "\u001b[96m ~  \u001b[96m ~  \u001b[92m _  \u001b[92m _  \u001b[92m _  \u001b[92m _  \u001b[92m _  \u001b[92m _  \u001b[92m _  \u001b[96m ~  \u001b[96m ~  \u001b[92m _  \u001b[92m _  \u001b[92m _  \u001b[92m _  \u001b[92m _  \u001b[92m _  \u001b[92m _  \u001b[92m _  \u001b[96m ~  \u001b[92m _  \u001b[92m _  \u001b[92m _  \u001b[92m _  \u001b[92m _  \u001b[92m _  \u001b[92m _  \u001b[92m _  \u001b[92m _  \u001b[92m _  \u001b[92m _  \u001b[96m ~  \n",
      "\u001b[96m ~  \u001b[96m ~  \u001b[92m _  \u001b[92m _  \u001b[96m ~  \u001b[92m _  \u001b[92m _  \u001b[92m _  \u001b[92m _  \u001b[96m ~  \u001b[92m _  \u001b[92m _  \u001b[92m _  \u001b[92m _  \u001b[92m _  \u001b[92m _  \u001b[92m _  \u001b[92m _  \u001b[92m _  \u001b[92m _  \u001b[92m _  \u001b[92m _  \u001b[96m ~  \u001b[92m _  \u001b[92m _  \u001b[92m _  \u001b[92m _  \u001b[92m _  \u001b[92m _  \u001b[92m _  \u001b[92m _  \u001b[92m _  \n",
      "\u001b[96m ~  \u001b[92m _  \u001b[92m _  \u001b[96m ~  \u001b[96m ~  \u001b[96m ~  \u001b[92m _  \u001b[92m _  \u001b[96m ~  \u001b[92m _  \u001b[96m ~  \u001b[92m _  \u001b[92m _  \u001b[92m _  \u001b[92m _  \u001b[92m _  \u001b[92m _  \u001b[92m _  \u001b[92m _  \u001b[92m _  \u001b[92m _  \u001b[92m _  \u001b[96m ~  \u001b[96m ~  \u001b[96m ~  \u001b[92m _  \u001b[92m _  \u001b[92m _  \u001b[92m _  \u001b[92m _  \u001b[92m _  \u001b[92m _  \n",
      "\u001b[96m ~  \u001b[92m _  \u001b[92m _  \u001b[96m ~  \u001b[92m _  \u001b[96m ~  \u001b[96m ~  \u001b[92m _  \u001b[92m _  \u001b[92m _  \u001b[96m ~  \u001b[92m _  \u001b[92m _  \u001b[92m _  \u001b[92m _  \u001b[92m _  \u001b[92m _  \u001b[92m _  \u001b[92m _  \u001b[92m _  \u001b[92m _  \u001b[92m _  \u001b[92m _  \u001b[92m _  \u001b[92m _  \u001b[92m _  \u001b[92m _  \u001b[92m _  \u001b[92m _  \u001b[92m _  \u001b[92m _  \u001b[96m ~  \n",
      "\u001b[96m ~  \u001b[92m _  \u001b[92m _  \u001b[92m _  \u001b[92m _  \u001b[92m _  \u001b[96m ~  \u001b[92m _  \u001b[92m _  \u001b[92m _  \u001b[92m _  \u001b[92m _  \u001b[92m _  \u001b[92m _  \u001b[92m _  \u001b[92m _  \u001b[92m _  \u001b[92m _  \u001b[92m _  \u001b[96m ~  \u001b[92m _  \u001b[92m _  \u001b[92m _  \u001b[92m _  \u001b[92m _  \u001b[92m _  \u001b[92m _  \u001b[92m _  \u001b[92m _  \u001b[92m _  \u001b[92m _  \u001b[96m ~  \n",
      "\u001b[96m ~  \u001b[96m ~  \u001b[92m _  \u001b[92m _  \u001b[92m _  \u001b[92m _  \u001b[92m _  \u001b[92m _  \u001b[92m _  \u001b[92m _  \u001b[92m _  \u001b[92m _  \u001b[96m ~  \u001b[92m _  \u001b[92m _  \u001b[92m _  \u001b[92m _  \u001b[92m _  \u001b[92m _  \u001b[92m _  \u001b[92m _  \u001b[92m _  \u001b[92m _  \u001b[92m _  \u001b[92m _  \u001b[92m _  \u001b[92m _  \u001b[92m _  \u001b[92m _  \u001b[92m _  \u001b[92m _  \u001b[92m _  \n",
      "\u001b[96m ~  \u001b[96m ~  \u001b[92m _  \u001b[92m _  \u001b[92m _  \u001b[92m _  \u001b[92m _  \u001b[92m _  \u001b[92m _  \u001b[92m _  \u001b[92m _  \u001b[92m _  \u001b[92m _  \u001b[92m _  \u001b[92m _  \u001b[92m _  \u001b[92m _  \u001b[92m _  \u001b[92m _  \u001b[92m _  \u001b[92m _  \u001b[92m _  \u001b[92m _  \u001b[92m _  \u001b[92m _  \u001b[92m _  \u001b[92m _  \u001b[92m _  \u001b[92m _  \u001b[92m _  \u001b[92m _  \u001b[92m _  \n",
      "\u001b[96m ~  \u001b[96m ~  \u001b[92m _  \u001b[92m _  \u001b[92m _  \u001b[92m _  \u001b[92m _  \u001b[92m _  \u001b[92m _  \u001b[92m _  \u001b[92m _  \u001b[92m _  \u001b[92m _  \u001b[92m _  \u001b[92m _  \u001b[92m _  \u001b[96m ~  \u001b[92m _  \u001b[92m _  \u001b[92m _  \u001b[96m ~  \u001b[92m _  \u001b[92m _  \u001b[92m _  \u001b[92m _  \u001b[92m _  \u001b[92m _  \u001b[92m _  \u001b[92m _  \u001b[92m _  \u001b[92m _  \u001b[92m _  \n",
      "\u001b[96m ~  \u001b[96m ~  \u001b[92m _  \u001b[92m _  \u001b[92m _  \u001b[92m _  \u001b[92m _  \u001b[92m _  \u001b[92m _  \u001b[92m _  \u001b[92m _  \u001b[92m _  \u001b[92m _  \u001b[92m _  \u001b[92m _  \u001b[92m _  \u001b[96m ~  \u001b[96m ~  \u001b[92m _  \u001b[92m _  \u001b[92m _  \u001b[96m ~  \u001b[92m _  \u001b[92m _  \u001b[92m _  \u001b[92m _  \u001b[92m _  \u001b[92m _  \u001b[92m _  \u001b[92m _  \u001b[92m _  \u001b[96m ~  \n",
      "\u001b[96m ~  \u001b[96m ~  \u001b[92m _  \u001b[92m _  \u001b[92m _  \u001b[92m _  \u001b[92m _  \u001b[92m _  \u001b[92m _  \u001b[92m _  \u001b[92m _  \u001b[92m _  \u001b[92m _  \u001b[92m _  \u001b[92m _  \u001b[92m _  \u001b[92m _  \u001b[96m ~  \u001b[92m _  \u001b[92m _  \u001b[92m _  \u001b[92m _  \u001b[92m _  \u001b[92m _  \u001b[92m _  \u001b[92m _  \u001b[92m _  \u001b[92m _  \u001b[92m _  \u001b[92m _  \u001b[96m ~  \u001b[96m ~  \n",
      "\u001b[96m ~  \u001b[92m _  \u001b[92m _  \u001b[92m _  \u001b[92m _  \u001b[92m _  \u001b[92m _  \u001b[92m _  \u001b[92m _  \u001b[92m _  \u001b[92m _  \u001b[92m _  \u001b[92m _  \u001b[92m _  \u001b[92m _  \u001b[92m _  \u001b[92m _  \u001b[92m _  \u001b[92m _  \u001b[92m _  \u001b[92m _  \u001b[92m _  \u001b[92m _  \u001b[92m _  \u001b[92m _  \u001b[92m _  \u001b[92m _  \u001b[92m _  \u001b[92m _  \u001b[96m ~  \u001b[96m ~  \u001b[96m ~  \n",
      "\u001b[92m _  \u001b[92m _  \u001b[92m _  \u001b[92m _  \u001b[92m _  \u001b[92m _  \u001b[92m _  \u001b[92m _  \u001b[92m _  \u001b[92m _  \u001b[92m _  \u001b[92m _  \u001b[92m _  \u001b[92m _  \u001b[92m _  \u001b[92m _  \u001b[92m _  \u001b[92m _  \u001b[92m _  \u001b[92m _  \u001b[92m _  \u001b[92m _  \u001b[92m _  \u001b[92m _  \u001b[92m _  \u001b[92m _  \u001b[92m _  \u001b[92m _  \u001b[92m _  \u001b[92m _  \u001b[96m ~  \u001b[96m ~  \n",
      "\u001b[92m _  \u001b[92m _  \u001b[92m _  \u001b[92m _  \u001b[92m _  \u001b[92m _  \u001b[92m _  \u001b[92m _  \u001b[92m _  \u001b[92m _  \u001b[92m _  \u001b[92m _  \u001b[92m _  \u001b[92m _  \u001b[92m _  \u001b[92m _  \u001b[92m _  \u001b[92m _  \u001b[92m _  \u001b[92m _  \u001b[92m _  \u001b[92m _  \u001b[92m _  \u001b[92m _  \u001b[92m _  \u001b[92m _  \u001b[92m _  \u001b[92m _  \u001b[92m _  \u001b[92m _  \u001b[92m _  \u001b[96m ~  \n",
      "\u001b[92m _  \u001b[92m _  \u001b[92m _  \u001b[92m _  \u001b[92m _  \u001b[92m _  \u001b[96m ~  \u001b[92m _  \u001b[92m _  \u001b[92m _  \u001b[92m _  \u001b[92m _  \u001b[92m _  \u001b[92m _  \u001b[92m _  \u001b[92m _  \u001b[92m _  \u001b[92m _  \u001b[92m _  \u001b[92m _  \u001b[92m _  \u001b[92m _  \u001b[92m _  \u001b[92m _  \u001b[92m _  \u001b[92m _  \u001b[92m _  \u001b[92m _  \u001b[92m _  \u001b[92m _  \u001b[92m _  \u001b[96m ~  \n",
      "\u001b[92m _  \u001b[92m _  \u001b[92m _  \u001b[92m _  \u001b[92m _  \u001b[92m _  \u001b[96m ~  \u001b[96m ~  \u001b[92m _  \u001b[92m _  \u001b[92m _  \u001b[92m _  \u001b[92m _  \u001b[92m _  \u001b[92m _  \u001b[92m _  \u001b[92m _  \u001b[92m _  \u001b[92m _  \u001b[92m _  \u001b[92m _  \u001b[92m _  \u001b[92m _  \u001b[92m _  \u001b[92m _  \u001b[92m _  \u001b[92m _  \u001b[92m _  \u001b[92m _  \u001b[92m _  \u001b[96m ~  \u001b[96m ~  \n",
      "\u001b[96m ~  \u001b[96m ~  \u001b[92m _  \u001b[92m _  \u001b[92m _  \u001b[96m ~  \u001b[92m _  \u001b[96m ~  \u001b[96m ~  \u001b[92m _  \u001b[92m _  \u001b[92m _  \u001b[96m ~  \u001b[92m _  \u001b[92m _  \u001b[92m _  \u001b[92m _  \u001b[92m _  \u001b[92m _  \u001b[92m _  \u001b[92m _  \u001b[92m _  \u001b[92m _  \u001b[92m _  \u001b[92m _  \u001b[92m _  \u001b[92m _  \u001b[92m _  \u001b[92m _  \u001b[92m _  \u001b[92m _  \u001b[96m ~  \n",
      "\u001b[96m ~  \u001b[96m ~  \u001b[92m _  \u001b[92m _  \u001b[92m _  \u001b[92m _  \u001b[92m _  \u001b[92m _  \u001b[92m _  \u001b[92m _  \u001b[92m _  \u001b[92m _  \u001b[92m _  \u001b[96m ~  \u001b[92m _  \u001b[92m _  \u001b[92m _  \u001b[92m _  \u001b[92m _  \u001b[92m _  \u001b[92m _  \u001b[92m _  \u001b[92m _  \u001b[92m _  \u001b[92m _  \u001b[92m _  \u001b[92m _  \u001b[92m _  \u001b[92m _  \u001b[92m _  \u001b[92m _  \u001b[96m ~  \n",
      "\u001b[96m ~  \u001b[92m _  \u001b[92m _  \u001b[92m _  \u001b[96m ~  \u001b[92m _  \u001b[92m _  \u001b[92m _  \u001b[92m _  \u001b[92m _  \u001b[96m ~  \u001b[92m _  \u001b[92m _  \u001b[92m _  \u001b[92m _  \u001b[96m ~  \u001b[92m _  \u001b[92m _  \u001b[92m _  \u001b[92m _  \u001b[92m _  \u001b[92m _  \u001b[92m _  \u001b[92m _  \u001b[92m _  \u001b[92m _  \u001b[92m _  \u001b[92m _  \u001b[92m _  \u001b[92m _  \u001b[92m _  \u001b[96m ~  \n",
      "\u001b[96m ~  \u001b[92m _  \u001b[92m _  \u001b[92m _  \u001b[92m _  \u001b[92m _  \u001b[92m _  \u001b[92m _  \u001b[92m _  \u001b[92m _  \u001b[96m ~  \u001b[92m _  \u001b[92m _  \u001b[92m _  \u001b[92m _  \u001b[96m ~  \u001b[92m _  \u001b[92m _  \u001b[92m _  \u001b[92m _  \u001b[92m _  \u001b[92m _  \u001b[92m _  \u001b[92m _  \u001b[92m _  \u001b[92m _  \u001b[92m _  \u001b[92m _  \u001b[92m _  \u001b[92m _  \u001b[92m _  \u001b[96m ~  \n",
      "\u001b[96m ~  \u001b[92m _  \u001b[92m _  \u001b[92m _  \u001b[92m _  \u001b[92m _  \u001b[92m _  \u001b[92m _  \u001b[92m _  \u001b[96m ~  \u001b[96m ~  \u001b[92m _  \u001b[92m _  \u001b[92m _  \u001b[96m ~  \u001b[92m _  \u001b[92m _  \u001b[92m _  \u001b[92m _  \u001b[92m _  \u001b[92m _  \u001b[92m _  \u001b[92m _  \u001b[92m _  \u001b[92m _  \u001b[92m _  \u001b[92m _  \u001b[92m _  \u001b[92m _  \u001b[92m _  \u001b[92m _  \u001b[92m _  \n",
      "\u001b[96m ~  \u001b[92m _  \u001b[92m _  \u001b[92m _  \u001b[92m _  \u001b[92m _  \u001b[92m _  \u001b[92m _  \u001b[92m _  \u001b[92m _  \u001b[92m _  \u001b[96m ~  \u001b[92m _  \u001b[96m ~  \u001b[92m _  \u001b[92m _  \u001b[92m _  \u001b[92m _  \u001b[96m ~  \u001b[96m ~  \u001b[92m _  \u001b[92m _  \u001b[92m _  \u001b[92m _  \u001b[92m _  \u001b[92m _  \u001b[92m _  \u001b[92m _  \u001b[92m _  \u001b[92m _  \u001b[92m _  \u001b[96m ~  \n",
      "\u001b[96m ~  \u001b[92m _  \u001b[92m _  \u001b[92m _  \u001b[92m _  \u001b[92m _  \u001b[92m _  \u001b[92m _  \u001b[96m ~  \u001b[92m _  \u001b[92m _  \u001b[92m _  \u001b[92m _  \u001b[92m _  \u001b[92m _  \u001b[92m _  \u001b[92m _  \u001b[92m _  \u001b[96m ~  \u001b[96m ~  \u001b[92m _  \u001b[92m _  \u001b[92m _  \u001b[92m _  \u001b[92m _  \u001b[92m _  \u001b[92m _  \u001b[92m _  \u001b[92m _  \u001b[92m _  \u001b[92m _  \u001b[92m _  \n",
      "\u001b[96m ~  \u001b[92m _  \u001b[92m _  \u001b[92m _  \u001b[92m _  \u001b[92m _  \u001b[92m _  \u001b[92m _  \u001b[96m ~  \u001b[92m _  \u001b[92m _  \u001b[92m _  \u001b[92m _  \u001b[92m _  \u001b[92m _  \u001b[92m _  \u001b[92m _  \u001b[92m _  \u001b[92m _  \u001b[92m _  \u001b[92m _  \u001b[92m _  \u001b[92m _  \u001b[96m ~  \u001b[92m _  \u001b[92m _  \u001b[92m _  \u001b[92m _  \u001b[92m _  \u001b[92m _  \u001b[92m _  \u001b[96m ~  \n",
      "\u001b[96m ~  \u001b[96m ~  \u001b[92m _  \u001b[92m _  \u001b[92m _  \u001b[92m _  \u001b[92m _  \u001b[92m _  \u001b[92m _  \u001b[92m _  \u001b[92m _  \u001b[92m _  \u001b[92m _  \u001b[92m _  \u001b[92m _  \u001b[92m _  \u001b[92m _  \u001b[92m _  \u001b[92m _  \u001b[92m _  \u001b[92m _  \u001b[92m _  \u001b[92m _  \u001b[96m ~  \u001b[92m _  \u001b[92m _  \u001b[92m _  \u001b[92m _  \u001b[92m _  \u001b[92m _  \u001b[92m _  \u001b[92m _  \n",
      "\u001b[96m ~  \u001b[96m ~  \u001b[92m _  \u001b[92m _  \u001b[92m _  \u001b[92m _  \u001b[92m _  \u001b[92m _  \u001b[92m _  \u001b[92m _  \u001b[92m _  \u001b[92m _  \u001b[92m _  \u001b[92m _  \u001b[92m _  \u001b[92m _  \u001b[96m ~  \u001b[96m ~  \u001b[92m _  \u001b[92m _  \u001b[92m _  \u001b[92m _  \u001b[96m ~  \u001b[96m ~  \u001b[92m _  \u001b[92m _  \u001b[92m _  \u001b[92m _  \u001b[92m _  \u001b[92m _  \u001b[92m _  \u001b[96m ~  \n",
      "\u001b[96m ~  \u001b[92m _  \u001b[92m _  \u001b[92m _  \u001b[96m ~  \u001b[92m _  \u001b[92m _  \u001b[92m _  \u001b[92m _  \u001b[92m _  \u001b[92m _  \u001b[92m _  \u001b[92m _  \u001b[92m _  \u001b[92m _  \u001b[96m ~  \u001b[92m _  \u001b[96m ~  \u001b[92m _  \u001b[92m _  \u001b[96m ~  \u001b[92m _  \u001b[96m ~  \u001b[96m ~  \u001b[92m _  \u001b[92m _  \u001b[92m _  \u001b[92m _  \u001b[96m ~  \u001b[92m _  \u001b[92m _  \u001b[92m _  \n",
      "\u001b[96m ~  \u001b[96m ~  \u001b[96m ~  \u001b[96m ~  \u001b[96m ~  \u001b[92m _  \u001b[92m _  \u001b[96m ~  \u001b[96m ~  \u001b[96m ~  \u001b[96m ~  \u001b[92m _  \u001b[92m _  \u001b[92m _  \u001b[96m ~  \u001b[92m _  \u001b[92m _  \u001b[92m _  \u001b[96m ~  \u001b[96m ~  \u001b[92m _  \u001b[96m ~  \u001b[96m ~  \u001b[96m ~  \u001b[96m ~  \u001b[96m ~  \u001b[96m ~  \u001b[96m ~  \u001b[96m ~  \u001b[96m ~  \u001b[96m ~  \u001b[96m ~  \n"
     ]
    }
   ],
   "source": [
    "map_print(Map)"
   ]
  },
  {
   "attachments": {},
   "cell_type": "markdown",
   "metadata": {},
   "source": [
    "## Mountain Seeding"
   ]
  },
  {
   "cell_type": "code",
   "execution_count": 1152,
   "metadata": {},
   "outputs": [],
   "source": [
    "for coord_x, row in enumerate(Map):\n",
    "    for coord_y, terrain in enumerate(row):\n",
    "        chance = random.uniform(0,1)\n",
    "        if Map[coord_x][coord_y] == '_' and chance <= init_mountain_chance:\n",
    "            Map[coord_x][coord_y] = 'M'"
   ]
  },
  {
   "cell_type": "code",
   "execution_count": 1153,
   "metadata": {},
   "outputs": [
    {
     "name": "stdout",
     "output_type": "stream",
     "text": [
      "\u001b[96m ~  \u001b[96m ~  \u001b[96m ~  \u001b[96m ~  \u001b[96m ~  \u001b[96m ~  \u001b[96m ~  \u001b[96m ~  \u001b[92m _  \u001b[96m ~  \u001b[96m ~  \u001b[92m _  \u001b[96m ~  \u001b[92m _  \u001b[96m ~  \u001b[96m ~  \u001b[96m ~  \u001b[96m ~  \u001b[96m ~  \u001b[96m ~  \u001b[96m ~  \u001b[96m ~  \u001b[96m ~  \u001b[96m ~  \u001b[96m ~  \u001b[96m ~  \u001b[96m ~  \u001b[96m ~  \u001b[96m ~  \u001b[96m ~  \u001b[96m ~  \u001b[96m ~  \n",
      "\u001b[96m ~  \u001b[96m ~  \u001b[92m _  \u001b[91m M  \u001b[92m _  \u001b[96m ~  \u001b[96m ~  \u001b[92m _  \u001b[92m _  \u001b[92m _  \u001b[92m _  \u001b[92m _  \u001b[92m _  \u001b[96m ~  \u001b[96m ~  \u001b[96m ~  \u001b[96m ~  \u001b[96m ~  \u001b[92m _  \u001b[92m _  \u001b[92m _  \u001b[92m _  \u001b[92m _  \u001b[96m ~  \u001b[96m ~  \u001b[92m _  \u001b[92m _  \u001b[96m ~  \u001b[91m M  \u001b[91m M  \u001b[96m ~  \u001b[96m ~  \n",
      "\u001b[96m ~  \u001b[96m ~  \u001b[96m ~  \u001b[92m _  \u001b[92m _  \u001b[92m _  \u001b[96m ~  \u001b[92m _  \u001b[92m _  \u001b[96m ~  \u001b[92m _  \u001b[92m _  \u001b[92m _  \u001b[92m _  \u001b[92m _  \u001b[96m ~  \u001b[92m _  \u001b[92m _  \u001b[92m _  \u001b[92m _  \u001b[92m _  \u001b[92m _  \u001b[92m _  \u001b[92m _  \u001b[92m _  \u001b[92m _  \u001b[92m _  \u001b[92m _  \u001b[92m _  \u001b[92m _  \u001b[91m M  \u001b[96m ~  \n",
      "\u001b[96m ~  \u001b[96m ~  \u001b[96m ~  \u001b[92m _  \u001b[92m _  \u001b[92m _  \u001b[92m _  \u001b[92m _  \u001b[92m _  \u001b[92m _  \u001b[92m _  \u001b[92m _  \u001b[92m _  \u001b[92m _  \u001b[92m _  \u001b[91m M  \u001b[92m _  \u001b[92m _  \u001b[92m _  \u001b[92m _  \u001b[92m _  \u001b[92m _  \u001b[92m _  \u001b[92m _  \u001b[92m _  \u001b[92m _  \u001b[92m _  \u001b[91m M  \u001b[92m _  \u001b[92m _  \u001b[96m ~  \u001b[96m ~  \n",
      "\u001b[96m ~  \u001b[96m ~  \u001b[92m _  \u001b[92m _  \u001b[92m _  \u001b[92m _  \u001b[92m _  \u001b[92m _  \u001b[96m ~  \u001b[92m _  \u001b[92m _  \u001b[92m _  \u001b[92m _  \u001b[92m _  \u001b[92m _  \u001b[92m _  \u001b[92m _  \u001b[92m _  \u001b[92m _  \u001b[92m _  \u001b[92m _  \u001b[92m _  \u001b[92m _  \u001b[92m _  \u001b[92m _  \u001b[92m _  \u001b[92m _  \u001b[92m _  \u001b[92m _  \u001b[91m M  \u001b[96m ~  \u001b[96m ~  \n",
      "\u001b[96m ~  \u001b[96m ~  \u001b[92m _  \u001b[92m _  \u001b[92m _  \u001b[91m M  \u001b[92m _  \u001b[92m _  \u001b[92m _  \u001b[96m ~  \u001b[96m ~  \u001b[92m _  \u001b[92m _  \u001b[92m _  \u001b[92m _  \u001b[92m _  \u001b[92m _  \u001b[92m _  \u001b[92m _  \u001b[96m ~  \u001b[92m _  \u001b[92m _  \u001b[92m _  \u001b[92m _  \u001b[92m _  \u001b[92m _  \u001b[92m _  \u001b[92m _  \u001b[91m M  \u001b[92m _  \u001b[92m _  \u001b[96m ~  \n",
      "\u001b[96m ~  \u001b[96m ~  \u001b[92m _  \u001b[92m _  \u001b[96m ~  \u001b[92m _  \u001b[92m _  \u001b[92m _  \u001b[91m M  \u001b[96m ~  \u001b[92m _  \u001b[92m _  \u001b[92m _  \u001b[92m _  \u001b[92m _  \u001b[92m _  \u001b[92m _  \u001b[92m _  \u001b[92m _  \u001b[92m _  \u001b[92m _  \u001b[92m _  \u001b[96m ~  \u001b[92m _  \u001b[92m _  \u001b[92m _  \u001b[92m _  \u001b[92m _  \u001b[92m _  \u001b[92m _  \u001b[92m _  \u001b[92m _  \n",
      "\u001b[96m ~  \u001b[92m _  \u001b[92m _  \u001b[96m ~  \u001b[96m ~  \u001b[96m ~  \u001b[92m _  \u001b[92m _  \u001b[96m ~  \u001b[92m _  \u001b[96m ~  \u001b[92m _  \u001b[92m _  \u001b[92m _  \u001b[92m _  \u001b[91m M  \u001b[92m _  \u001b[92m _  \u001b[92m _  \u001b[92m _  \u001b[92m _  \u001b[92m _  \u001b[96m ~  \u001b[96m ~  \u001b[96m ~  \u001b[92m _  \u001b[92m _  \u001b[92m _  \u001b[92m _  \u001b[92m _  \u001b[92m _  \u001b[92m _  \n",
      "\u001b[96m ~  \u001b[92m _  \u001b[92m _  \u001b[96m ~  \u001b[92m _  \u001b[96m ~  \u001b[96m ~  \u001b[92m _  \u001b[92m _  \u001b[92m _  \u001b[96m ~  \u001b[92m _  \u001b[92m _  \u001b[92m _  \u001b[92m _  \u001b[92m _  \u001b[92m _  \u001b[92m _  \u001b[92m _  \u001b[92m _  \u001b[92m _  \u001b[92m _  \u001b[92m _  \u001b[92m _  \u001b[92m _  \u001b[92m _  \u001b[92m _  \u001b[92m _  \u001b[91m M  \u001b[92m _  \u001b[92m _  \u001b[96m ~  \n",
      "\u001b[96m ~  \u001b[92m _  \u001b[92m _  \u001b[92m _  \u001b[91m M  \u001b[92m _  \u001b[96m ~  \u001b[92m _  \u001b[92m _  \u001b[92m _  \u001b[92m _  \u001b[91m M  \u001b[92m _  \u001b[92m _  \u001b[92m _  \u001b[92m _  \u001b[92m _  \u001b[92m _  \u001b[92m _  \u001b[96m ~  \u001b[92m _  \u001b[92m _  \u001b[92m _  \u001b[92m _  \u001b[92m _  \u001b[92m _  \u001b[92m _  \u001b[92m _  \u001b[92m _  \u001b[92m _  \u001b[92m _  \u001b[96m ~  \n",
      "\u001b[96m ~  \u001b[96m ~  \u001b[92m _  \u001b[92m _  \u001b[92m _  \u001b[92m _  \u001b[92m _  \u001b[92m _  \u001b[92m _  \u001b[92m _  \u001b[92m _  \u001b[92m _  \u001b[96m ~  \u001b[92m _  \u001b[92m _  \u001b[92m _  \u001b[92m _  \u001b[92m _  \u001b[92m _  \u001b[91m M  \u001b[92m _  \u001b[92m _  \u001b[92m _  \u001b[92m _  \u001b[91m M  \u001b[92m _  \u001b[92m _  \u001b[92m _  \u001b[92m _  \u001b[92m _  \u001b[92m _  \u001b[92m _  \n",
      "\u001b[96m ~  \u001b[96m ~  \u001b[92m _  \u001b[92m _  \u001b[92m _  \u001b[92m _  \u001b[92m _  \u001b[92m _  \u001b[92m _  \u001b[92m _  \u001b[92m _  \u001b[92m _  \u001b[92m _  \u001b[92m _  \u001b[92m _  \u001b[92m _  \u001b[92m _  \u001b[92m _  \u001b[92m _  \u001b[92m _  \u001b[92m _  \u001b[92m _  \u001b[92m _  \u001b[92m _  \u001b[92m _  \u001b[92m _  \u001b[92m _  \u001b[92m _  \u001b[92m _  \u001b[92m _  \u001b[92m _  \u001b[92m _  \n",
      "\u001b[96m ~  \u001b[96m ~  \u001b[92m _  \u001b[92m _  \u001b[92m _  \u001b[91m M  \u001b[92m _  \u001b[92m _  \u001b[92m _  \u001b[92m _  \u001b[92m _  \u001b[92m _  \u001b[92m _  \u001b[92m _  \u001b[92m _  \u001b[92m _  \u001b[96m ~  \u001b[92m _  \u001b[92m _  \u001b[92m _  \u001b[96m ~  \u001b[92m _  \u001b[92m _  \u001b[92m _  \u001b[92m _  \u001b[92m _  \u001b[92m _  \u001b[92m _  \u001b[92m _  \u001b[92m _  \u001b[92m _  \u001b[92m _  \n",
      "\u001b[96m ~  \u001b[96m ~  \u001b[92m _  \u001b[92m _  \u001b[92m _  \u001b[92m _  \u001b[92m _  \u001b[92m _  \u001b[92m _  \u001b[92m _  \u001b[92m _  \u001b[92m _  \u001b[92m _  \u001b[92m _  \u001b[92m _  \u001b[92m _  \u001b[96m ~  \u001b[96m ~  \u001b[92m _  \u001b[92m _  \u001b[92m _  \u001b[96m ~  \u001b[92m _  \u001b[92m _  \u001b[92m _  \u001b[92m _  \u001b[92m _  \u001b[92m _  \u001b[92m _  \u001b[92m _  \u001b[92m _  \u001b[96m ~  \n",
      "\u001b[96m ~  \u001b[96m ~  \u001b[92m _  \u001b[92m _  \u001b[92m _  \u001b[92m _  \u001b[92m _  \u001b[92m _  \u001b[92m _  \u001b[92m _  \u001b[92m _  \u001b[92m _  \u001b[92m _  \u001b[92m _  \u001b[92m _  \u001b[92m _  \u001b[92m _  \u001b[96m ~  \u001b[92m _  \u001b[92m _  \u001b[92m _  \u001b[92m _  \u001b[92m _  \u001b[91m M  \u001b[92m _  \u001b[92m _  \u001b[92m _  \u001b[92m _  \u001b[92m _  \u001b[92m _  \u001b[96m ~  \u001b[96m ~  \n",
      "\u001b[96m ~  \u001b[92m _  \u001b[92m _  \u001b[92m _  \u001b[92m _  \u001b[92m _  \u001b[92m _  \u001b[92m _  \u001b[92m _  \u001b[92m _  \u001b[92m _  \u001b[92m _  \u001b[92m _  \u001b[92m _  \u001b[92m _  \u001b[92m _  \u001b[92m _  \u001b[92m _  \u001b[92m _  \u001b[92m _  \u001b[92m _  \u001b[92m _  \u001b[92m _  \u001b[92m _  \u001b[92m _  \u001b[92m _  \u001b[92m _  \u001b[92m _  \u001b[91m M  \u001b[96m ~  \u001b[96m ~  \u001b[96m ~  \n",
      "\u001b[92m _  \u001b[92m _  \u001b[92m _  \u001b[92m _  \u001b[92m _  \u001b[92m _  \u001b[92m _  \u001b[92m _  \u001b[92m _  \u001b[92m _  \u001b[92m _  \u001b[92m _  \u001b[92m _  \u001b[91m M  \u001b[92m _  \u001b[92m _  \u001b[92m _  \u001b[92m _  \u001b[92m _  \u001b[92m _  \u001b[92m _  \u001b[92m _  \u001b[92m _  \u001b[92m _  \u001b[92m _  \u001b[91m M  \u001b[92m _  \u001b[92m _  \u001b[92m _  \u001b[92m _  \u001b[96m ~  \u001b[96m ~  \n",
      "\u001b[92m _  \u001b[92m _  \u001b[92m _  \u001b[92m _  \u001b[92m _  \u001b[92m _  \u001b[92m _  \u001b[92m _  \u001b[92m _  \u001b[92m _  \u001b[92m _  \u001b[92m _  \u001b[92m _  \u001b[92m _  \u001b[92m _  \u001b[92m _  \u001b[92m _  \u001b[92m _  \u001b[92m _  \u001b[92m _  \u001b[92m _  \u001b[92m _  \u001b[92m _  \u001b[92m _  \u001b[92m _  \u001b[92m _  \u001b[92m _  \u001b[92m _  \u001b[92m _  \u001b[91m M  \u001b[92m _  \u001b[96m ~  \n",
      "\u001b[92m _  \u001b[92m _  \u001b[92m _  \u001b[92m _  \u001b[92m _  \u001b[92m _  \u001b[96m ~  \u001b[92m _  \u001b[92m _  \u001b[92m _  \u001b[92m _  \u001b[92m _  \u001b[92m _  \u001b[92m _  \u001b[92m _  \u001b[92m _  \u001b[92m _  \u001b[92m _  \u001b[92m _  \u001b[92m _  \u001b[92m _  \u001b[92m _  \u001b[92m _  \u001b[92m _  \u001b[92m _  \u001b[92m _  \u001b[92m _  \u001b[91m M  \u001b[92m _  \u001b[92m _  \u001b[92m _  \u001b[96m ~  \n",
      "\u001b[92m _  \u001b[92m _  \u001b[92m _  \u001b[92m _  \u001b[92m _  \u001b[92m _  \u001b[96m ~  \u001b[96m ~  \u001b[91m M  \u001b[92m _  \u001b[92m _  \u001b[92m _  \u001b[92m _  \u001b[92m _  \u001b[92m _  \u001b[92m _  \u001b[92m _  \u001b[92m _  \u001b[92m _  \u001b[92m _  \u001b[92m _  \u001b[92m _  \u001b[92m _  \u001b[92m _  \u001b[92m _  \u001b[92m _  \u001b[92m _  \u001b[92m _  \u001b[92m _  \u001b[92m _  \u001b[96m ~  \u001b[96m ~  \n",
      "\u001b[96m ~  \u001b[96m ~  \u001b[92m _  \u001b[92m _  \u001b[92m _  \u001b[96m ~  \u001b[92m _  \u001b[96m ~  \u001b[96m ~  \u001b[92m _  \u001b[92m _  \u001b[92m _  \u001b[96m ~  \u001b[92m _  \u001b[92m _  \u001b[92m _  \u001b[92m _  \u001b[92m _  \u001b[92m _  \u001b[92m _  \u001b[92m _  \u001b[92m _  \u001b[92m _  \u001b[92m _  \u001b[92m _  \u001b[92m _  \u001b[92m _  \u001b[92m _  \u001b[92m _  \u001b[92m _  \u001b[92m _  \u001b[96m ~  \n",
      "\u001b[96m ~  \u001b[96m ~  \u001b[92m _  \u001b[92m _  \u001b[92m _  \u001b[92m _  \u001b[92m _  \u001b[92m _  \u001b[92m _  \u001b[91m M  \u001b[92m _  \u001b[92m _  \u001b[92m _  \u001b[96m ~  \u001b[92m _  \u001b[92m _  \u001b[92m _  \u001b[92m _  \u001b[92m _  \u001b[92m _  \u001b[92m _  \u001b[91m M  \u001b[92m _  \u001b[92m _  \u001b[92m _  \u001b[92m _  \u001b[92m _  \u001b[92m _  \u001b[92m _  \u001b[92m _  \u001b[92m _  \u001b[96m ~  \n",
      "\u001b[96m ~  \u001b[92m _  \u001b[92m _  \u001b[92m _  \u001b[96m ~  \u001b[92m _  \u001b[92m _  \u001b[92m _  \u001b[92m _  \u001b[92m _  \u001b[96m ~  \u001b[92m _  \u001b[92m _  \u001b[92m _  \u001b[92m _  \u001b[96m ~  \u001b[92m _  \u001b[92m _  \u001b[92m _  \u001b[92m _  \u001b[92m _  \u001b[92m _  \u001b[91m M  \u001b[91m M  \u001b[92m _  \u001b[91m M  \u001b[92m _  \u001b[92m _  \u001b[92m _  \u001b[92m _  \u001b[92m _  \u001b[96m ~  \n",
      "\u001b[96m ~  \u001b[92m _  \u001b[92m _  \u001b[92m _  \u001b[92m _  \u001b[92m _  \u001b[92m _  \u001b[92m _  \u001b[92m _  \u001b[92m _  \u001b[96m ~  \u001b[92m _  \u001b[92m _  \u001b[92m _  \u001b[92m _  \u001b[96m ~  \u001b[92m _  \u001b[92m _  \u001b[92m _  \u001b[92m _  \u001b[92m _  \u001b[92m _  \u001b[92m _  \u001b[92m _  \u001b[92m _  \u001b[92m _  \u001b[92m _  \u001b[92m _  \u001b[92m _  \u001b[92m _  \u001b[92m _  \u001b[96m ~  \n",
      "\u001b[96m ~  \u001b[92m _  \u001b[92m _  \u001b[92m _  \u001b[92m _  \u001b[92m _  \u001b[92m _  \u001b[92m _  \u001b[91m M  \u001b[96m ~  \u001b[96m ~  \u001b[92m _  \u001b[92m _  \u001b[92m _  \u001b[96m ~  \u001b[92m _  \u001b[92m _  \u001b[92m _  \u001b[92m _  \u001b[92m _  \u001b[92m _  \u001b[92m _  \u001b[92m _  \u001b[92m _  \u001b[92m _  \u001b[92m _  \u001b[92m _  \u001b[92m _  \u001b[92m _  \u001b[92m _  \u001b[91m M  \u001b[92m _  \n",
      "\u001b[96m ~  \u001b[92m _  \u001b[91m M  \u001b[92m _  \u001b[92m _  \u001b[92m _  \u001b[92m _  \u001b[92m _  \u001b[92m _  \u001b[92m _  \u001b[92m _  \u001b[96m ~  \u001b[92m _  \u001b[96m ~  \u001b[92m _  \u001b[92m _  \u001b[92m _  \u001b[92m _  \u001b[96m ~  \u001b[96m ~  \u001b[92m _  \u001b[92m _  \u001b[92m _  \u001b[92m _  \u001b[92m _  \u001b[92m _  \u001b[92m _  \u001b[92m _  \u001b[92m _  \u001b[92m _  \u001b[92m _  \u001b[96m ~  \n",
      "\u001b[96m ~  \u001b[92m _  \u001b[92m _  \u001b[92m _  \u001b[92m _  \u001b[92m _  \u001b[92m _  \u001b[92m _  \u001b[96m ~  \u001b[92m _  \u001b[92m _  \u001b[92m _  \u001b[92m _  \u001b[92m _  \u001b[92m _  \u001b[92m _  \u001b[92m _  \u001b[92m _  \u001b[96m ~  \u001b[96m ~  \u001b[92m _  \u001b[92m _  \u001b[92m _  \u001b[92m _  \u001b[92m _  \u001b[92m _  \u001b[92m _  \u001b[92m _  \u001b[92m _  \u001b[92m _  \u001b[92m _  \u001b[92m _  \n",
      "\u001b[96m ~  \u001b[92m _  \u001b[92m _  \u001b[92m _  \u001b[92m _  \u001b[92m _  \u001b[92m _  \u001b[92m _  \u001b[96m ~  \u001b[92m _  \u001b[92m _  \u001b[91m M  \u001b[92m _  \u001b[92m _  \u001b[92m _  \u001b[92m _  \u001b[92m _  \u001b[92m _  \u001b[92m _  \u001b[92m _  \u001b[92m _  \u001b[92m _  \u001b[92m _  \u001b[96m ~  \u001b[92m _  \u001b[92m _  \u001b[92m _  \u001b[92m _  \u001b[92m _  \u001b[92m _  \u001b[92m _  \u001b[96m ~  \n",
      "\u001b[96m ~  \u001b[96m ~  \u001b[92m _  \u001b[92m _  \u001b[92m _  \u001b[92m _  \u001b[92m _  \u001b[92m _  \u001b[92m _  \u001b[92m _  \u001b[92m _  \u001b[92m _  \u001b[92m _  \u001b[92m _  \u001b[92m _  \u001b[92m _  \u001b[92m _  \u001b[92m _  \u001b[92m _  \u001b[92m _  \u001b[92m _  \u001b[91m M  \u001b[92m _  \u001b[96m ~  \u001b[92m _  \u001b[92m _  \u001b[92m _  \u001b[92m _  \u001b[92m _  \u001b[92m _  \u001b[92m _  \u001b[92m _  \n",
      "\u001b[96m ~  \u001b[96m ~  \u001b[92m _  \u001b[92m _  \u001b[92m _  \u001b[91m M  \u001b[91m M  \u001b[92m _  \u001b[92m _  \u001b[92m _  \u001b[92m _  \u001b[92m _  \u001b[92m _  \u001b[92m _  \u001b[92m _  \u001b[92m _  \u001b[96m ~  \u001b[96m ~  \u001b[92m _  \u001b[92m _  \u001b[92m _  \u001b[92m _  \u001b[96m ~  \u001b[96m ~  \u001b[92m _  \u001b[92m _  \u001b[91m M  \u001b[92m _  \u001b[92m _  \u001b[92m _  \u001b[92m _  \u001b[96m ~  \n",
      "\u001b[96m ~  \u001b[92m _  \u001b[92m _  \u001b[92m _  \u001b[96m ~  \u001b[92m _  \u001b[92m _  \u001b[92m _  \u001b[92m _  \u001b[92m _  \u001b[92m _  \u001b[92m _  \u001b[92m _  \u001b[92m _  \u001b[92m _  \u001b[96m ~  \u001b[92m _  \u001b[96m ~  \u001b[92m _  \u001b[92m _  \u001b[96m ~  \u001b[92m _  \u001b[96m ~  \u001b[96m ~  \u001b[92m _  \u001b[92m _  \u001b[92m _  \u001b[92m _  \u001b[96m ~  \u001b[91m M  \u001b[92m _  \u001b[92m _  \n",
      "\u001b[96m ~  \u001b[96m ~  \u001b[96m ~  \u001b[96m ~  \u001b[96m ~  \u001b[92m _  \u001b[92m _  \u001b[96m ~  \u001b[96m ~  \u001b[96m ~  \u001b[96m ~  \u001b[92m _  \u001b[92m _  \u001b[92m _  \u001b[96m ~  \u001b[92m _  \u001b[92m _  \u001b[92m _  \u001b[96m ~  \u001b[96m ~  \u001b[92m _  \u001b[96m ~  \u001b[96m ~  \u001b[96m ~  \u001b[96m ~  \u001b[96m ~  \u001b[96m ~  \u001b[96m ~  \u001b[96m ~  \u001b[96m ~  \u001b[96m ~  \u001b[96m ~  \n"
     ]
    }
   ],
   "source": [
    "map_print(Map)"
   ]
  },
  {
   "attachments": {},
   "cell_type": "markdown",
   "metadata": {},
   "source": [
    "## Mountain Expanding"
   ]
  },
  {
   "cell_type": "code",
   "execution_count": 1154,
   "metadata": {},
   "outputs": [],
   "source": [
    "for i in range(0,mountain_amplifier):\n",
    "    for coord_x, row in enumerate(Map):\n",
    "        for coord_y, terrain in enumerate(row):     \n",
    "            if Map[coord_x][coord_y] == '_':\n",
    "                area = neighbors(Map, 1, coord_x, coord_y).copy()\n",
    "                Map[coord_x][coord_y] = get_neighbour_mountain(area)  "
   ]
  },
  {
   "cell_type": "code",
   "execution_count": 1155,
   "metadata": {},
   "outputs": [
    {
     "name": "stdout",
     "output_type": "stream",
     "text": [
      "\u001b[96m ~  \u001b[96m ~  \u001b[96m ~  \u001b[96m ~  \u001b[96m ~  \u001b[96m ~  \u001b[96m ~  \u001b[96m ~  \u001b[92m _  \u001b[96m ~  \u001b[96m ~  \u001b[92m _  \u001b[96m ~  \u001b[92m _  \u001b[96m ~  \u001b[96m ~  \u001b[96m ~  \u001b[96m ~  \u001b[96m ~  \u001b[96m ~  \u001b[96m ~  \u001b[96m ~  \u001b[96m ~  \u001b[96m ~  \u001b[96m ~  \u001b[96m ~  \u001b[96m ~  \u001b[96m ~  \u001b[96m ~  \u001b[96m ~  \u001b[96m ~  \u001b[96m ~  \n",
      "\u001b[96m ~  \u001b[96m ~  \u001b[92m _  \u001b[91m M  \u001b[92m _  \u001b[96m ~  \u001b[96m ~  \u001b[92m _  \u001b[92m _  \u001b[92m _  \u001b[92m _  \u001b[92m _  \u001b[92m _  \u001b[96m ~  \u001b[96m ~  \u001b[96m ~  \u001b[96m ~  \u001b[96m ~  \u001b[92m _  \u001b[92m _  \u001b[92m _  \u001b[92m _  \u001b[92m _  \u001b[96m ~  \u001b[96m ~  \u001b[92m _  \u001b[92m _  \u001b[96m ~  \u001b[91m M  \u001b[91m M  \u001b[96m ~  \u001b[96m ~  \n",
      "\u001b[96m ~  \u001b[96m ~  \u001b[96m ~  \u001b[92m _  \u001b[92m _  \u001b[92m _  \u001b[96m ~  \u001b[92m _  \u001b[92m _  \u001b[96m ~  \u001b[92m _  \u001b[92m _  \u001b[92m _  \u001b[92m _  \u001b[92m _  \u001b[96m ~  \u001b[92m _  \u001b[92m _  \u001b[92m _  \u001b[92m _  \u001b[92m _  \u001b[92m _  \u001b[92m _  \u001b[92m _  \u001b[92m _  \u001b[92m _  \u001b[92m _  \u001b[92m _  \u001b[91m M  \u001b[92m _  \u001b[91m M  \u001b[96m ~  \n",
      "\u001b[96m ~  \u001b[96m ~  \u001b[96m ~  \u001b[92m _  \u001b[92m _  \u001b[92m _  \u001b[92m _  \u001b[92m _  \u001b[92m _  \u001b[92m _  \u001b[92m _  \u001b[92m _  \u001b[92m _  \u001b[92m _  \u001b[92m _  \u001b[91m M  \u001b[92m _  \u001b[92m _  \u001b[92m _  \u001b[92m _  \u001b[92m _  \u001b[92m _  \u001b[92m _  \u001b[92m _  \u001b[92m _  \u001b[92m _  \u001b[92m _  \u001b[91m M  \u001b[92m _  \u001b[92m _  \u001b[96m ~  \u001b[96m ~  \n",
      "\u001b[96m ~  \u001b[96m ~  \u001b[92m _  \u001b[92m _  \u001b[92m _  \u001b[92m _  \u001b[92m _  \u001b[92m _  \u001b[96m ~  \u001b[92m _  \u001b[92m _  \u001b[92m _  \u001b[92m _  \u001b[92m _  \u001b[92m _  \u001b[92m _  \u001b[92m _  \u001b[92m _  \u001b[92m _  \u001b[92m _  \u001b[92m _  \u001b[92m _  \u001b[92m _  \u001b[92m _  \u001b[92m _  \u001b[92m _  \u001b[92m _  \u001b[92m _  \u001b[92m _  \u001b[91m M  \u001b[96m ~  \u001b[96m ~  \n",
      "\u001b[96m ~  \u001b[96m ~  \u001b[92m _  \u001b[92m _  \u001b[92m _  \u001b[91m M  \u001b[92m _  \u001b[92m _  \u001b[92m _  \u001b[96m ~  \u001b[96m ~  \u001b[92m _  \u001b[92m _  \u001b[92m _  \u001b[92m _  \u001b[92m _  \u001b[92m _  \u001b[92m _  \u001b[92m _  \u001b[96m ~  \u001b[92m _  \u001b[92m _  \u001b[92m _  \u001b[92m _  \u001b[92m _  \u001b[92m _  \u001b[92m _  \u001b[92m _  \u001b[91m M  \u001b[91m M  \u001b[92m _  \u001b[96m ~  \n",
      "\u001b[96m ~  \u001b[96m ~  \u001b[92m _  \u001b[92m _  \u001b[96m ~  \u001b[92m _  \u001b[92m _  \u001b[92m _  \u001b[91m M  \u001b[96m ~  \u001b[92m _  \u001b[92m _  \u001b[92m _  \u001b[92m _  \u001b[92m _  \u001b[91m M  \u001b[92m _  \u001b[92m _  \u001b[92m _  \u001b[92m _  \u001b[92m _  \u001b[92m _  \u001b[96m ~  \u001b[92m _  \u001b[92m _  \u001b[92m _  \u001b[92m _  \u001b[91m M  \u001b[92m _  \u001b[92m _  \u001b[92m _  \u001b[92m _  \n",
      "\u001b[96m ~  \u001b[92m _  \u001b[92m _  \u001b[96m ~  \u001b[96m ~  \u001b[96m ~  \u001b[92m _  \u001b[92m _  \u001b[96m ~  \u001b[92m _  \u001b[96m ~  \u001b[92m _  \u001b[92m _  \u001b[92m _  \u001b[91m M  \u001b[91m M  \u001b[92m _  \u001b[92m _  \u001b[92m _  \u001b[92m _  \u001b[92m _  \u001b[92m _  \u001b[96m ~  \u001b[96m ~  \u001b[96m ~  \u001b[92m _  \u001b[92m _  \u001b[92m _  \u001b[92m _  \u001b[92m _  \u001b[92m _  \u001b[92m _  \n",
      "\u001b[96m ~  \u001b[92m _  \u001b[92m _  \u001b[96m ~  \u001b[92m _  \u001b[96m ~  \u001b[96m ~  \u001b[92m _  \u001b[92m _  \u001b[92m _  \u001b[96m ~  \u001b[92m _  \u001b[92m _  \u001b[92m _  \u001b[92m _  \u001b[92m _  \u001b[91m M  \u001b[92m _  \u001b[92m _  \u001b[92m _  \u001b[92m _  \u001b[92m _  \u001b[92m _  \u001b[92m _  \u001b[92m _  \u001b[92m _  \u001b[92m _  \u001b[92m _  \u001b[91m M  \u001b[92m _  \u001b[92m _  \u001b[96m ~  \n",
      "\u001b[96m ~  \u001b[92m _  \u001b[92m _  \u001b[92m _  \u001b[91m M  \u001b[92m _  \u001b[96m ~  \u001b[92m _  \u001b[92m _  \u001b[92m _  \u001b[92m _  \u001b[91m M  \u001b[92m _  \u001b[92m _  \u001b[92m _  \u001b[92m _  \u001b[92m _  \u001b[92m _  \u001b[92m _  \u001b[96m ~  \u001b[92m _  \u001b[92m _  \u001b[92m _  \u001b[92m _  \u001b[92m _  \u001b[92m _  \u001b[92m _  \u001b[92m _  \u001b[92m _  \u001b[92m _  \u001b[92m _  \u001b[96m ~  \n",
      "\u001b[96m ~  \u001b[96m ~  \u001b[92m _  \u001b[92m _  \u001b[92m _  \u001b[92m _  \u001b[92m _  \u001b[92m _  \u001b[92m _  \u001b[92m _  \u001b[92m _  \u001b[92m _  \u001b[96m ~  \u001b[92m _  \u001b[92m _  \u001b[92m _  \u001b[92m _  \u001b[92m _  \u001b[92m _  \u001b[91m M  \u001b[92m _  \u001b[92m _  \u001b[92m _  \u001b[91m M  \u001b[91m M  \u001b[92m _  \u001b[92m _  \u001b[92m _  \u001b[92m _  \u001b[92m _  \u001b[92m _  \u001b[92m _  \n",
      "\u001b[96m ~  \u001b[96m ~  \u001b[92m _  \u001b[92m _  \u001b[92m _  \u001b[91m M  \u001b[92m _  \u001b[92m _  \u001b[92m _  \u001b[92m _  \u001b[92m _  \u001b[92m _  \u001b[92m _  \u001b[92m _  \u001b[92m _  \u001b[92m _  \u001b[92m _  \u001b[92m _  \u001b[92m _  \u001b[92m _  \u001b[92m _  \u001b[92m _  \u001b[92m _  \u001b[92m _  \u001b[92m _  \u001b[92m _  \u001b[92m _  \u001b[92m _  \u001b[92m _  \u001b[92m _  \u001b[92m _  \u001b[92m _  \n",
      "\u001b[96m ~  \u001b[96m ~  \u001b[92m _  \u001b[92m _  \u001b[92m _  \u001b[91m M  \u001b[92m _  \u001b[92m _  \u001b[92m _  \u001b[92m _  \u001b[92m _  \u001b[92m _  \u001b[92m _  \u001b[92m _  \u001b[92m _  \u001b[92m _  \u001b[96m ~  \u001b[92m _  \u001b[92m _  \u001b[92m _  \u001b[96m ~  \u001b[92m _  \u001b[92m _  \u001b[92m _  \u001b[92m _  \u001b[92m _  \u001b[92m _  \u001b[92m _  \u001b[92m _  \u001b[92m _  \u001b[92m _  \u001b[92m _  \n",
      "\u001b[96m ~  \u001b[96m ~  \u001b[92m _  \u001b[92m _  \u001b[92m _  \u001b[92m _  \u001b[92m _  \u001b[92m _  \u001b[92m _  \u001b[92m _  \u001b[92m _  \u001b[92m _  \u001b[92m _  \u001b[92m _  \u001b[92m _  \u001b[92m _  \u001b[96m ~  \u001b[96m ~  \u001b[92m _  \u001b[92m _  \u001b[92m _  \u001b[96m ~  \u001b[92m _  \u001b[92m _  \u001b[92m _  \u001b[92m _  \u001b[92m _  \u001b[92m _  \u001b[92m _  \u001b[92m _  \u001b[92m _  \u001b[96m ~  \n",
      "\u001b[96m ~  \u001b[96m ~  \u001b[92m _  \u001b[92m _  \u001b[92m _  \u001b[92m _  \u001b[92m _  \u001b[92m _  \u001b[92m _  \u001b[92m _  \u001b[92m _  \u001b[92m _  \u001b[92m _  \u001b[92m _  \u001b[92m _  \u001b[92m _  \u001b[92m _  \u001b[96m ~  \u001b[92m _  \u001b[92m _  \u001b[92m _  \u001b[92m _  \u001b[92m _  \u001b[91m M  \u001b[92m _  \u001b[92m _  \u001b[92m _  \u001b[92m _  \u001b[92m _  \u001b[92m _  \u001b[96m ~  \u001b[96m ~  \n",
      "\u001b[96m ~  \u001b[92m _  \u001b[92m _  \u001b[92m _  \u001b[92m _  \u001b[92m _  \u001b[92m _  \u001b[92m _  \u001b[92m _  \u001b[92m _  \u001b[92m _  \u001b[92m _  \u001b[92m _  \u001b[91m M  \u001b[92m _  \u001b[92m _  \u001b[92m _  \u001b[92m _  \u001b[92m _  \u001b[92m _  \u001b[92m _  \u001b[92m _  \u001b[91m M  \u001b[92m _  \u001b[92m _  \u001b[92m _  \u001b[91m M  \u001b[92m _  \u001b[91m M  \u001b[96m ~  \u001b[96m ~  \u001b[96m ~  \n",
      "\u001b[92m _  \u001b[92m _  \u001b[92m _  \u001b[92m _  \u001b[92m _  \u001b[92m _  \u001b[92m _  \u001b[92m _  \u001b[92m _  \u001b[92m _  \u001b[92m _  \u001b[92m _  \u001b[92m _  \u001b[91m M  \u001b[91m M  \u001b[92m _  \u001b[92m _  \u001b[92m _  \u001b[92m _  \u001b[92m _  \u001b[92m _  \u001b[92m _  \u001b[92m _  \u001b[92m _  \u001b[92m _  \u001b[91m M  \u001b[92m _  \u001b[92m _  \u001b[92m _  \u001b[92m _  \u001b[96m ~  \u001b[96m ~  \n",
      "\u001b[92m _  \u001b[92m _  \u001b[92m _  \u001b[92m _  \u001b[92m _  \u001b[92m _  \u001b[92m _  \u001b[92m _  \u001b[92m _  \u001b[92m _  \u001b[92m _  \u001b[92m _  \u001b[92m _  \u001b[92m _  \u001b[92m _  \u001b[92m _  \u001b[92m _  \u001b[92m _  \u001b[92m _  \u001b[92m _  \u001b[92m _  \u001b[92m _  \u001b[92m _  \u001b[92m _  \u001b[92m _  \u001b[92m _  \u001b[92m _  \u001b[92m _  \u001b[92m _  \u001b[91m M  \u001b[92m _  \u001b[96m ~  \n",
      "\u001b[92m _  \u001b[92m _  \u001b[92m _  \u001b[92m _  \u001b[92m _  \u001b[92m _  \u001b[96m ~  \u001b[92m _  \u001b[92m _  \u001b[92m _  \u001b[92m _  \u001b[92m _  \u001b[92m _  \u001b[92m _  \u001b[92m _  \u001b[92m _  \u001b[92m _  \u001b[92m _  \u001b[92m _  \u001b[92m _  \u001b[92m _  \u001b[92m _  \u001b[92m _  \u001b[92m _  \u001b[92m _  \u001b[92m _  \u001b[92m _  \u001b[91m M  \u001b[92m _  \u001b[92m _  \u001b[92m _  \u001b[96m ~  \n",
      "\u001b[92m _  \u001b[92m _  \u001b[92m _  \u001b[92m _  \u001b[92m _  \u001b[92m _  \u001b[96m ~  \u001b[96m ~  \u001b[91m M  \u001b[92m _  \u001b[92m _  \u001b[92m _  \u001b[92m _  \u001b[92m _  \u001b[92m _  \u001b[92m _  \u001b[92m _  \u001b[92m _  \u001b[92m _  \u001b[92m _  \u001b[92m _  \u001b[92m _  \u001b[92m _  \u001b[92m _  \u001b[92m _  \u001b[92m _  \u001b[92m _  \u001b[92m _  \u001b[92m _  \u001b[92m _  \u001b[96m ~  \u001b[96m ~  \n",
      "\u001b[96m ~  \u001b[96m ~  \u001b[92m _  \u001b[92m _  \u001b[92m _  \u001b[96m ~  \u001b[92m _  \u001b[96m ~  \u001b[96m ~  \u001b[92m _  \u001b[92m _  \u001b[92m _  \u001b[96m ~  \u001b[92m _  \u001b[92m _  \u001b[92m _  \u001b[92m _  \u001b[92m _  \u001b[92m _  \u001b[92m _  \u001b[92m _  \u001b[92m _  \u001b[92m _  \u001b[92m _  \u001b[92m _  \u001b[92m _  \u001b[92m _  \u001b[92m _  \u001b[92m _  \u001b[92m _  \u001b[92m _  \u001b[96m ~  \n",
      "\u001b[96m ~  \u001b[96m ~  \u001b[92m _  \u001b[92m _  \u001b[92m _  \u001b[92m _  \u001b[92m _  \u001b[92m _  \u001b[92m _  \u001b[91m M  \u001b[92m _  \u001b[92m _  \u001b[92m _  \u001b[96m ~  \u001b[92m _  \u001b[92m _  \u001b[92m _  \u001b[92m _  \u001b[92m _  \u001b[92m _  \u001b[92m _  \u001b[91m M  \u001b[91m M  \u001b[91m M  \u001b[92m _  \u001b[92m _  \u001b[92m _  \u001b[92m _  \u001b[92m _  \u001b[92m _  \u001b[92m _  \u001b[96m ~  \n",
      "\u001b[96m ~  \u001b[92m _  \u001b[92m _  \u001b[92m _  \u001b[96m ~  \u001b[92m _  \u001b[92m _  \u001b[92m _  \u001b[92m _  \u001b[92m _  \u001b[96m ~  \u001b[92m _  \u001b[92m _  \u001b[92m _  \u001b[92m _  \u001b[96m ~  \u001b[92m _  \u001b[92m _  \u001b[92m _  \u001b[92m _  \u001b[92m _  \u001b[91m M  \u001b[91m M  \u001b[91m M  \u001b[92m _  \u001b[91m M  \u001b[92m _  \u001b[92m _  \u001b[92m _  \u001b[92m _  \u001b[92m _  \u001b[96m ~  \n",
      "\u001b[96m ~  \u001b[92m _  \u001b[92m _  \u001b[92m _  \u001b[92m _  \u001b[92m _  \u001b[92m _  \u001b[92m _  \u001b[92m _  \u001b[92m _  \u001b[96m ~  \u001b[92m _  \u001b[92m _  \u001b[92m _  \u001b[92m _  \u001b[96m ~  \u001b[92m _  \u001b[92m _  \u001b[92m _  \u001b[92m _  \u001b[92m _  \u001b[92m _  \u001b[91m M  \u001b[91m M  \u001b[91m M  \u001b[92m _  \u001b[92m _  \u001b[92m _  \u001b[92m _  \u001b[92m _  \u001b[92m _  \u001b[96m ~  \n",
      "\u001b[96m ~  \u001b[92m _  \u001b[92m _  \u001b[92m _  \u001b[92m _  \u001b[92m _  \u001b[92m _  \u001b[92m _  \u001b[91m M  \u001b[96m ~  \u001b[96m ~  \u001b[92m _  \u001b[92m _  \u001b[92m _  \u001b[96m ~  \u001b[92m _  \u001b[92m _  \u001b[92m _  \u001b[92m _  \u001b[92m _  \u001b[92m _  \u001b[92m _  \u001b[92m _  \u001b[91m M  \u001b[92m _  \u001b[92m _  \u001b[92m _  \u001b[92m _  \u001b[92m _  \u001b[92m _  \u001b[91m M  \u001b[92m _  \n",
      "\u001b[96m ~  \u001b[92m _  \u001b[91m M  \u001b[92m _  \u001b[92m _  \u001b[92m _  \u001b[92m _  \u001b[92m _  \u001b[92m _  \u001b[92m _  \u001b[92m _  \u001b[96m ~  \u001b[92m _  \u001b[96m ~  \u001b[92m _  \u001b[92m _  \u001b[92m _  \u001b[92m _  \u001b[96m ~  \u001b[96m ~  \u001b[92m _  \u001b[92m _  \u001b[92m _  \u001b[92m _  \u001b[91m M  \u001b[92m _  \u001b[92m _  \u001b[92m _  \u001b[92m _  \u001b[92m _  \u001b[92m _  \u001b[96m ~  \n",
      "\u001b[96m ~  \u001b[92m _  \u001b[92m _  \u001b[92m _  \u001b[92m _  \u001b[92m _  \u001b[92m _  \u001b[92m _  \u001b[96m ~  \u001b[92m _  \u001b[92m _  \u001b[92m _  \u001b[92m _  \u001b[92m _  \u001b[92m _  \u001b[92m _  \u001b[92m _  \u001b[92m _  \u001b[96m ~  \u001b[96m ~  \u001b[92m _  \u001b[92m _  \u001b[92m _  \u001b[92m _  \u001b[92m _  \u001b[92m _  \u001b[92m _  \u001b[92m _  \u001b[92m _  \u001b[92m _  \u001b[92m _  \u001b[92m _  \n",
      "\u001b[96m ~  \u001b[92m _  \u001b[92m _  \u001b[92m _  \u001b[92m _  \u001b[92m _  \u001b[92m _  \u001b[92m _  \u001b[96m ~  \u001b[92m _  \u001b[92m _  \u001b[91m M  \u001b[92m _  \u001b[92m _  \u001b[92m _  \u001b[92m _  \u001b[92m _  \u001b[92m _  \u001b[92m _  \u001b[92m _  \u001b[92m _  \u001b[92m _  \u001b[92m _  \u001b[96m ~  \u001b[92m _  \u001b[92m _  \u001b[92m _  \u001b[92m _  \u001b[92m _  \u001b[92m _  \u001b[92m _  \u001b[96m ~  \n",
      "\u001b[96m ~  \u001b[96m ~  \u001b[92m _  \u001b[92m _  \u001b[92m _  \u001b[92m _  \u001b[91m M  \u001b[92m _  \u001b[92m _  \u001b[92m _  \u001b[92m _  \u001b[92m _  \u001b[92m _  \u001b[92m _  \u001b[92m _  \u001b[92m _  \u001b[92m _  \u001b[92m _  \u001b[92m _  \u001b[92m _  \u001b[92m _  \u001b[91m M  \u001b[92m _  \u001b[96m ~  \u001b[92m _  \u001b[92m _  \u001b[92m _  \u001b[91m M  \u001b[92m _  \u001b[92m _  \u001b[92m _  \u001b[92m _  \n",
      "\u001b[96m ~  \u001b[96m ~  \u001b[92m _  \u001b[92m _  \u001b[92m _  \u001b[91m M  \u001b[91m M  \u001b[91m M  \u001b[92m _  \u001b[92m _  \u001b[92m _  \u001b[92m _  \u001b[92m _  \u001b[92m _  \u001b[92m _  \u001b[92m _  \u001b[96m ~  \u001b[96m ~  \u001b[92m _  \u001b[92m _  \u001b[92m _  \u001b[92m _  \u001b[96m ~  \u001b[96m ~  \u001b[92m _  \u001b[92m _  \u001b[91m M  \u001b[92m _  \u001b[92m _  \u001b[92m _  \u001b[92m _  \u001b[96m ~  \n",
      "\u001b[96m ~  \u001b[92m _  \u001b[92m _  \u001b[92m _  \u001b[96m ~  \u001b[92m _  \u001b[92m _  \u001b[92m _  \u001b[92m _  \u001b[92m _  \u001b[92m _  \u001b[92m _  \u001b[92m _  \u001b[92m _  \u001b[92m _  \u001b[96m ~  \u001b[92m _  \u001b[96m ~  \u001b[92m _  \u001b[92m _  \u001b[96m ~  \u001b[92m _  \u001b[96m ~  \u001b[96m ~  \u001b[92m _  \u001b[92m _  \u001b[92m _  \u001b[92m _  \u001b[96m ~  \u001b[91m M  \u001b[92m _  \u001b[92m _  \n",
      "\u001b[96m ~  \u001b[96m ~  \u001b[96m ~  \u001b[96m ~  \u001b[96m ~  \u001b[92m _  \u001b[92m _  \u001b[96m ~  \u001b[96m ~  \u001b[96m ~  \u001b[96m ~  \u001b[92m _  \u001b[92m _  \u001b[92m _  \u001b[96m ~  \u001b[92m _  \u001b[92m _  \u001b[92m _  \u001b[96m ~  \u001b[96m ~  \u001b[92m _  \u001b[96m ~  \u001b[96m ~  \u001b[96m ~  \u001b[96m ~  \u001b[96m ~  \u001b[96m ~  \u001b[96m ~  \u001b[96m ~  \u001b[96m ~  \u001b[96m ~  \u001b[96m ~  \n"
     ]
    }
   ],
   "source": [
    "map_print(Map)"
   ]
  },
  {
   "attachments": {},
   "cell_type": "markdown",
   "metadata": {},
   "source": [
    "## Region Seeding"
   ]
  },
  {
   "cell_type": "code",
   "execution_count": 1156,
   "metadata": {},
   "outputs": [],
   "source": [
    "count = 1\n",
    "while(count <= number_of_region):\n",
    "    for coord_x, row in enumerate(Map):\n",
    "        for coord_y, terrain in enumerate(row):\n",
    "            chance = random.uniform(0,1)\n",
    "            if Map[coord_x][coord_y] == '_' and chance <= init_region_chance and count <= number_of_region:\n",
    "                Map[coord_x][coord_y] = count\n",
    "                count += 1"
   ]
  },
  {
   "cell_type": "code",
   "execution_count": 1157,
   "metadata": {},
   "outputs": [
    {
     "name": "stdout",
     "output_type": "stream",
     "text": [
      "\u001b[96m ~  \u001b[96m ~  \u001b[96m ~  \u001b[96m ~  \u001b[96m ~  \u001b[96m ~  \u001b[96m ~  \u001b[96m ~  \u001b[92m _  \u001b[96m ~  \u001b[96m ~  \u001b[92m _  \u001b[96m ~  \u001b[92m _  \u001b[96m ~  \u001b[96m ~  \u001b[96m ~  \u001b[96m ~  \u001b[96m ~  \u001b[96m ~  \u001b[96m ~  \u001b[96m ~  \u001b[96m ~  \u001b[96m ~  \u001b[96m ~  \u001b[96m ~  \u001b[96m ~  \u001b[96m ~  \u001b[96m ~  \u001b[96m ~  \u001b[96m ~  \u001b[96m ~  \n",
      "\u001b[96m ~  \u001b[96m ~  \u001b[92m _  \u001b[91m M  \u001b[92m _  \u001b[96m ~  \u001b[96m ~  \u001b[92m _  \u001b[92m _  \u001b[92m _  \u001b[92m _  \u001b[92m _  \u001b[92m _  \u001b[96m ~  \u001b[96m ~  \u001b[96m ~  \u001b[96m ~  \u001b[96m ~  \u001b[92m _  \u001b[92m _  \u001b[92m _  \u001b[92m _  \u001b[92m _  \u001b[96m ~  \u001b[96m ~  \u001b[92m _  \u001b[92m _  \u001b[96m ~  \u001b[91m M  \u001b[91m M  \u001b[96m ~  \u001b[96m ~  \n",
      "\u001b[96m ~  \u001b[96m ~  \u001b[96m ~  \u001b[92m _  \u001b[92m _  \u001b[92m _  \u001b[96m ~  \u001b[92m _  \u001b[92m _  \u001b[96m ~  \u001b[92m _  \u001b[92m _  \u001b[92m _  \u001b[92m _  \u001b[92m _  \u001b[96m ~  \u001b[92m _  \u001b[92m _  \u001b[92m _  \u001b[92m _  \u001b[92m _  \u001b[92m _  \u001b[92m _  \u001b[92m _  \u001b[92m _  \u001b[92m _  \u001b[92m _  \u001b[92m _  \u001b[91m M  \u001b[92m _  \u001b[91m M  \u001b[96m ~  \n",
      "\u001b[96m ~  \u001b[96m ~  \u001b[96m ~  \u001b[92m _  \u001b[92m _  \u001b[92m _  \u001b[92m _  \u001b[92m _  \u001b[92m _  \u001b[92m _  \u001b[92m _  \u001b[92m _  \u001b[92m _  \u001b[92m _  \u001b[92m _  \u001b[91m M  \u001b[92m _  \u001b[92m _  \u001b[92m _  \u001b[92m _  \u001b[92m _  \u001b[92m _  \u001b[92m _  \u001b[92m _  \u001b[92m _  \u001b[92m _  \u001b[92m _  \u001b[91m M  \u001b[92m _  \u001b[92m _  \u001b[96m ~  \u001b[96m ~  \n",
      "\u001b[96m ~  \u001b[96m ~  \u001b[92m _  \u001b[92m _  \u001b[92m _  \u001b[92m _  \u001b[92m _  \u001b[92m _  \u001b[96m ~  \u001b[92m _  \u001b[92m _  \u001b[92m _  \u001b[92m _  \u001b[92m _  \u001b[92m _  \u001b[92m _  \u001b[92m _  \u001b[92m _  \u001b[92m _  \u001b[92m _  \u001b[92m _  \u001b[92m _  \u001b[92m _  \u001b[92m _  \u001b[92m _  \u001b[92m _  \u001b[92m _  \u001b[92m _  \u001b[92m _  \u001b[91m M  \u001b[96m ~  \u001b[96m ~  \n",
      "\u001b[96m ~  \u001b[96m ~  \u001b[92m _  \u001b[92m _  \u001b[92m _  \u001b[91m M  \u001b[92m _  \u001b[92m _  \u001b[92m _  \u001b[96m ~  \u001b[96m ~  \u001b[92m _  \u001b[92m _  \u001b[92m _  \u001b[92m _  \u001b[92m _  \u001b[92m _  \u001b[92m _  \u001b[92m _  \u001b[96m ~  \u001b[92m _  \u001b[92m _  \u001b[92m _  \u001b[92m _  \u001b[92m _  \u001b[92m _  \u001b[92m _  \u001b[92m _  \u001b[91m M  \u001b[91m M  \u001b[92m _  \u001b[96m ~  \n",
      "\u001b[96m ~  \u001b[96m ~  \u001b[92m _  \u001b[92m _  \u001b[96m ~  \u001b[92m _  \u001b[92m _  \u001b[92m _  \u001b[91m M  \u001b[96m ~  \u001b[92m _  \u001b[92m _  \u001b[92m _  \u001b[92m _  \u001b[92m _  \u001b[91m M  \u001b[92m _  \u001b[92m _  \u001b[92m _  \u001b[92m _  \u001b[92m _  \u001b[92m _  \u001b[96m ~  \u001b[92m _  \u001b[92m _  \u001b[92m _  \u001b[92m _  \u001b[91m M  \u001b[92m _  \u001b[92m _  \u001b[92m _  \u001b[92m _  \n",
      "\u001b[96m ~  \u001b[92m _  \u001b[92m _  \u001b[96m ~  \u001b[96m ~  \u001b[96m ~  \u001b[92m _  \u001b[92m _  \u001b[96m ~  \u001b[92m _  \u001b[96m ~  \u001b[92m _  \u001b[92m _  \u001b[92m _  \u001b[91m M  \u001b[91m M  \u001b[92m _  \u001b[92m _  \u001b[92m _  \u001b[92m _  \u001b[92m _  \u001b[92m _  \u001b[96m ~  \u001b[96m ~  \u001b[96m ~  \u001b[92m _  \u001b[92m _  \u001b[92m _  \u001b[92m _  \u001b[92m _  \u001b[92m _  \u001b[92m _  \n",
      "\u001b[96m ~  \u001b[92m _  \u001b[92m _  \u001b[96m ~  \u001b[92m _  \u001b[96m ~  \u001b[96m ~  \u001b[92m _  \u001b[92m _  \u001b[92m _  \u001b[96m ~  \u001b[92m _  \u001b[92m _  \u001b[92m _  \u001b[92m _  \u001b[92m _  \u001b[91m M  \u001b[92m _  \u001b[92m _  \u001b[92m _  \u001b[92m _  \u001b[92m _  \u001b[92m _  \u001b[92m _  \u001b[92m _  \u001b[92m _  \u001b[92m _  \u001b[92m _  \u001b[91m M  \u001b[92m _  \u001b[92m _  \u001b[96m ~  \n",
      "\u001b[96m ~  \u001b[92m 8  \u001b[92m _  \u001b[92m _  \u001b[91m M  \u001b[92m _  \u001b[96m ~  \u001b[92m _  \u001b[92m _  \u001b[92m _  \u001b[92m _  \u001b[91m M  \u001b[92m _  \u001b[92m _  \u001b[92m _  \u001b[92m _  \u001b[92m _  \u001b[92m _  \u001b[92m _  \u001b[96m ~  \u001b[92m _  \u001b[92m _  \u001b[92m _  \u001b[92m _  \u001b[92m _  \u001b[92m _  \u001b[92m _  \u001b[92m _  \u001b[92m _  \u001b[92m _  \u001b[92m _  \u001b[96m ~  \n",
      "\u001b[96m ~  \u001b[96m ~  \u001b[92m _  \u001b[92m _  \u001b[92m _  \u001b[92m _  \u001b[92m _  \u001b[92m _  \u001b[92m _  \u001b[92m _  \u001b[92m _  \u001b[92m _  \u001b[96m ~  \u001b[92m _  \u001b[92m _  \u001b[92m _  \u001b[92m _  \u001b[92m _  \u001b[92m _  \u001b[91m M  \u001b[92m _  \u001b[92m _  \u001b[92m _  \u001b[91m M  \u001b[91m M  \u001b[92m _  \u001b[92m _  \u001b[92m _  \u001b[92m _  \u001b[92m _  \u001b[92m _  \u001b[92m _  \n",
      "\u001b[96m ~  \u001b[96m ~  \u001b[92m _  \u001b[92m _  \u001b[92m _  \u001b[91m M  \u001b[92m _  \u001b[92m _  \u001b[92m _  \u001b[92m _  \u001b[92m _  \u001b[92m _  \u001b[92m _  \u001b[92m _  \u001b[92m _  \u001b[92m _  \u001b[92m _  \u001b[92m _  \u001b[92m _  \u001b[92m _  \u001b[92m _  \u001b[92m _  \u001b[92m _  \u001b[92m _  \u001b[92m _  \u001b[92m _  \u001b[92m _  \u001b[92m _  \u001b[92m _  \u001b[92m _  \u001b[92m _  \u001b[92m _  \n",
      "\u001b[96m ~  \u001b[96m ~  \u001b[92m _  \u001b[92m _  \u001b[92m _  \u001b[91m M  \u001b[92m _  \u001b[92m _  \u001b[92m _  \u001b[92m _  \u001b[92m _  \u001b[92m _  \u001b[92m _  \u001b[92m _  \u001b[92m _  \u001b[92m _  \u001b[96m ~  \u001b[92m _  \u001b[92m _  \u001b[92m _  \u001b[96m ~  \u001b[92m _  \u001b[92m _  \u001b[92m _  \u001b[92m _  \u001b[92m _  \u001b[92m _  \u001b[92m _  \u001b[92m _  \u001b[92m _  \u001b[92m _  \u001b[92m _  \n",
      "\u001b[96m ~  \u001b[96m ~  \u001b[92m _  \u001b[92m _  \u001b[92m _  \u001b[92m _  \u001b[92m _  \u001b[92m _  \u001b[92m _  \u001b[92m _  \u001b[92m _  \u001b[92m 5  \u001b[92m _  \u001b[92m _  \u001b[92m _  \u001b[92m _  \u001b[96m ~  \u001b[96m ~  \u001b[92m _  \u001b[92m _  \u001b[92m _  \u001b[96m ~  \u001b[92m _  \u001b[92m _  \u001b[92m _  \u001b[92m _  \u001b[92m _  \u001b[92m _  \u001b[92m _  \u001b[92m _  \u001b[92m _  \u001b[96m ~  \n",
      "\u001b[96m ~  \u001b[96m ~  \u001b[92m _  \u001b[92m _  \u001b[92m _  \u001b[92m _  \u001b[92m _  \u001b[92m _  \u001b[92m _  \u001b[92m _  \u001b[92m _  \u001b[92m _  \u001b[92m _  \u001b[92m _  \u001b[92m _  \u001b[92m _  \u001b[92m _  \u001b[96m ~  \u001b[92m _  \u001b[92m _  \u001b[92m _  \u001b[92m _  \u001b[92m _  \u001b[91m M  \u001b[92m _  \u001b[92m _  \u001b[92m _  \u001b[92m _  \u001b[92m _  \u001b[92m _  \u001b[96m ~  \u001b[96m ~  \n",
      "\u001b[96m ~  \u001b[92m _  \u001b[92m _  \u001b[92m _  \u001b[92m _  \u001b[92m _  \u001b[92m _  \u001b[92m _  \u001b[92m _  \u001b[92m _  \u001b[92m _  \u001b[92m _  \u001b[92m _  \u001b[91m M  \u001b[92m _  \u001b[92m _  \u001b[92m _  \u001b[92m _  \u001b[92m _  \u001b[92m _  \u001b[92m _  \u001b[92m _  \u001b[91m M  \u001b[92m _  \u001b[92m _  \u001b[92m _  \u001b[91m M  \u001b[92m _  \u001b[91m M  \u001b[96m ~  \u001b[96m ~  \u001b[96m ~  \n",
      "\u001b[92m _  \u001b[92m _  \u001b[92m _  \u001b[92m _  \u001b[92m _  \u001b[92m _  \u001b[92m _  \u001b[92m _  \u001b[92m _  \u001b[92m _  \u001b[92m _  \u001b[92m _  \u001b[92m _  \u001b[91m M  \u001b[91m M  \u001b[92m _  \u001b[92m _  \u001b[92m _  \u001b[92m _  \u001b[92m _  \u001b[92m _  \u001b[92m _  \u001b[92m _  \u001b[92m _  \u001b[92m _  \u001b[91m M  \u001b[92m _  \u001b[92m _  \u001b[92m _  \u001b[92m _  \u001b[96m ~  \u001b[96m ~  \n",
      "\u001b[92m _  \u001b[92m _  \u001b[92m 6  \u001b[92m _  \u001b[92m _  \u001b[92m _  \u001b[92m _  \u001b[92m _  \u001b[92m _  \u001b[92m _  \u001b[92m _  \u001b[92m _  \u001b[92m _  \u001b[92m _  \u001b[92m _  \u001b[92m _  \u001b[92m _  \u001b[92m _  \u001b[92m _  \u001b[92m _  \u001b[92m _  \u001b[92m _  \u001b[92m _  \u001b[92m _  \u001b[92m _  \u001b[92m _  \u001b[92m _  \u001b[92m _  \u001b[92m _  \u001b[91m M  \u001b[92m _  \u001b[96m ~  \n",
      "\u001b[92m _  \u001b[92m _  \u001b[92m _  \u001b[92m _  \u001b[92m _  \u001b[92m _  \u001b[96m ~  \u001b[92m _  \u001b[92m _  \u001b[92m _  \u001b[92m _  \u001b[92m _  \u001b[92m _  \u001b[92m _  \u001b[92m _  \u001b[92m _  \u001b[92m _  \u001b[92m _  \u001b[92m _  \u001b[92m _  \u001b[92m _  \u001b[92m _  \u001b[92m _  \u001b[92m _  \u001b[92m _  \u001b[92m _  \u001b[92m _  \u001b[91m M  \u001b[92m _  \u001b[92m _  \u001b[92m _  \u001b[96m ~  \n",
      "\u001b[92m _  \u001b[92m _  \u001b[92m _  \u001b[92m _  \u001b[92m _  \u001b[92m _  \u001b[96m ~  \u001b[96m ~  \u001b[91m M  \u001b[92m _  \u001b[92m _  \u001b[92m _  \u001b[92m _  \u001b[92m _  \u001b[92m _  \u001b[92m _  \u001b[92m _  \u001b[92m _  \u001b[92m _  \u001b[92m _  \u001b[92m _  \u001b[92m _  \u001b[92m _  \u001b[92m _  \u001b[92m _  \u001b[92m _  \u001b[92m _  \u001b[92m _  \u001b[92m _  \u001b[92m _  \u001b[96m ~  \u001b[96m ~  \n",
      "\u001b[96m ~  \u001b[96m ~  \u001b[92m _  \u001b[92m _  \u001b[92m _  \u001b[96m ~  \u001b[92m _  \u001b[96m ~  \u001b[96m ~  \u001b[92m _  \u001b[92m _  \u001b[92m _  \u001b[96m ~  \u001b[92m _  \u001b[92m _  \u001b[92m _  \u001b[92m _  \u001b[92m _  \u001b[92m _  \u001b[92m _  \u001b[92m _  \u001b[92m _  \u001b[92m _  \u001b[92m _  \u001b[92m _  \u001b[92m _  \u001b[92m _  \u001b[92m _  \u001b[92m _  \u001b[92m _  \u001b[92m _  \u001b[96m ~  \n",
      "\u001b[96m ~  \u001b[96m ~  \u001b[92m _  \u001b[92m _  \u001b[92m _  \u001b[92m _  \u001b[92m _  \u001b[92m _  \u001b[92m _  \u001b[91m M  \u001b[92m _  \u001b[92m _  \u001b[92m _  \u001b[96m ~  \u001b[92m _  \u001b[92m _  \u001b[92m _  \u001b[92m _  \u001b[92m _  \u001b[92m _  \u001b[92m _  \u001b[91m M  \u001b[91m M  \u001b[91m M  \u001b[92m _  \u001b[92m _  \u001b[92m _  \u001b[92m _  \u001b[92m _  \u001b[92m _  \u001b[92m _  \u001b[96m ~  \n",
      "\u001b[96m ~  \u001b[92m _  \u001b[92m 2  \u001b[92m _  \u001b[96m ~  \u001b[92m _  \u001b[92m _  \u001b[92m _  \u001b[92m _  \u001b[92m _  \u001b[96m ~  \u001b[92m _  \u001b[92m _  \u001b[92m _  \u001b[92m _  \u001b[96m ~  \u001b[92m _  \u001b[92m _  \u001b[92m _  \u001b[92m _  \u001b[92m _  \u001b[91m M  \u001b[91m M  \u001b[91m M  \u001b[92m _  \u001b[91m M  \u001b[92m _  \u001b[92m _  \u001b[92m _  \u001b[92m _  \u001b[92m _  \u001b[96m ~  \n",
      "\u001b[96m ~  \u001b[92m _  \u001b[92m _  \u001b[92m _  \u001b[92m _  \u001b[92m _  \u001b[92m _  \u001b[92m _  \u001b[92m _  \u001b[92m 3  \u001b[96m ~  \u001b[92m _  \u001b[92m _  \u001b[92m _  \u001b[92m _  \u001b[96m ~  \u001b[92m _  \u001b[92m _  \u001b[92m _  \u001b[92m _  \u001b[92m _  \u001b[92m _  \u001b[91m M  \u001b[91m M  \u001b[91m M  \u001b[92m _  \u001b[92m _  \u001b[92m _  \u001b[92m _  \u001b[92m _  \u001b[92m _  \u001b[96m ~  \n",
      "\u001b[96m ~  \u001b[92m _  \u001b[92m _  \u001b[92m _  \u001b[92m _  \u001b[92m _  \u001b[92m _  \u001b[92m 4  \u001b[91m M  \u001b[96m ~  \u001b[96m ~  \u001b[92m _  \u001b[92m _  \u001b[92m _  \u001b[96m ~  \u001b[92m _  \u001b[92m _  \u001b[92m _  \u001b[92m _  \u001b[92m _  \u001b[92m _  \u001b[92m _  \u001b[92m _  \u001b[91m M  \u001b[92m _  \u001b[92m _  \u001b[92m _  \u001b[92m _  \u001b[92m _  \u001b[92m _  \u001b[91m M  \u001b[92m _  \n",
      "\u001b[96m ~  \u001b[92m _  \u001b[91m M  \u001b[92m _  \u001b[92m _  \u001b[92m _  \u001b[92m _  \u001b[92m _  \u001b[92m _  \u001b[92m _  \u001b[92m _  \u001b[96m ~  \u001b[92m _  \u001b[96m ~  \u001b[92m _  \u001b[92m _  \u001b[92m _  \u001b[92m _  \u001b[96m ~  \u001b[96m ~  \u001b[92m _  \u001b[92m _  \u001b[92m _  \u001b[92m _  \u001b[91m M  \u001b[92m _  \u001b[92m _  \u001b[92m _  \u001b[92m _  \u001b[92m _  \u001b[92m _  \u001b[96m ~  \n",
      "\u001b[96m ~  \u001b[92m _  \u001b[92m _  \u001b[92m _  \u001b[92m _  \u001b[92m _  \u001b[92m _  \u001b[92m _  \u001b[96m ~  \u001b[92m _  \u001b[92m _  \u001b[92m _  \u001b[92m _  \u001b[92m _  \u001b[92m _  \u001b[92m _  \u001b[92m _  \u001b[92m _  \u001b[96m ~  \u001b[96m ~  \u001b[92m 1  \u001b[92m _  \u001b[92m _  \u001b[92m _  \u001b[92m _  \u001b[92m _  \u001b[92m _  \u001b[92m _  \u001b[92m _  \u001b[92m _  \u001b[92m _  \u001b[92m _  \n",
      "\u001b[96m ~  \u001b[92m _  \u001b[92m _  \u001b[92m _  \u001b[92m _  \u001b[92m _  \u001b[92m _  \u001b[92m _  \u001b[96m ~  \u001b[92m _  \u001b[92m _  \u001b[91m M  \u001b[92m _  \u001b[92m _  \u001b[92m _  \u001b[92m _  \u001b[92m _  \u001b[92m _  \u001b[92m _  \u001b[92m _  \u001b[92m _  \u001b[92m 7  \u001b[92m _  \u001b[96m ~  \u001b[92m _  \u001b[92m _  \u001b[92m _  \u001b[92m _  \u001b[92m _  \u001b[92m _  \u001b[92m _  \u001b[96m ~  \n",
      "\u001b[96m ~  \u001b[96m ~  \u001b[92m _  \u001b[92m _  \u001b[92m _  \u001b[92m _  \u001b[91m M  \u001b[92m _  \u001b[92m _  \u001b[92m _  \u001b[92m _  \u001b[92m _  \u001b[92m _  \u001b[92m _  \u001b[92m _  \u001b[92m _  \u001b[92m _  \u001b[92m _  \u001b[92m _  \u001b[92m _  \u001b[92m _  \u001b[91m M  \u001b[92m _  \u001b[96m ~  \u001b[92m _  \u001b[92m _  \u001b[92m _  \u001b[91m M  \u001b[92m _  \u001b[92m _  \u001b[92m _  \u001b[92m _  \n",
      "\u001b[96m ~  \u001b[96m ~  \u001b[92m _  \u001b[92m _  \u001b[92m _  \u001b[91m M  \u001b[91m M  \u001b[91m M  \u001b[92m _  \u001b[92m _  \u001b[92m _  \u001b[92m _  \u001b[92m _  \u001b[92m _  \u001b[92m _  \u001b[92m _  \u001b[96m ~  \u001b[96m ~  \u001b[92m _  \u001b[92m _  \u001b[92m _  \u001b[92m _  \u001b[96m ~  \u001b[96m ~  \u001b[92m _  \u001b[92m _  \u001b[91m M  \u001b[92m _  \u001b[92m _  \u001b[92m _  \u001b[92m _  \u001b[96m ~  \n",
      "\u001b[96m ~  \u001b[92m _  \u001b[92m _  \u001b[92m _  \u001b[96m ~  \u001b[92m _  \u001b[92m _  \u001b[92m _  \u001b[92m _  \u001b[92m _  \u001b[92m _  \u001b[92m _  \u001b[92m _  \u001b[92m _  \u001b[92m _  \u001b[96m ~  \u001b[92m _  \u001b[96m ~  \u001b[92m _  \u001b[92m _  \u001b[96m ~  \u001b[92m _  \u001b[96m ~  \u001b[96m ~  \u001b[92m _  \u001b[92m _  \u001b[92m _  \u001b[92m _  \u001b[96m ~  \u001b[91m M  \u001b[92m _  \u001b[92m _  \n",
      "\u001b[96m ~  \u001b[96m ~  \u001b[96m ~  \u001b[96m ~  \u001b[96m ~  \u001b[92m _  \u001b[92m _  \u001b[96m ~  \u001b[96m ~  \u001b[96m ~  \u001b[96m ~  \u001b[92m _  \u001b[92m _  \u001b[92m _  \u001b[96m ~  \u001b[92m _  \u001b[92m _  \u001b[92m _  \u001b[96m ~  \u001b[96m ~  \u001b[92m _  \u001b[96m ~  \u001b[96m ~  \u001b[96m ~  \u001b[96m ~  \u001b[96m ~  \u001b[96m ~  \u001b[96m ~  \u001b[96m ~  \u001b[96m ~  \u001b[96m ~  \u001b[96m ~  \n"
     ]
    }
   ],
   "source": [
    "map_print(Map)"
   ]
  },
  {
   "attachments": {},
   "cell_type": "markdown",
   "metadata": {},
   "source": [
    "## Region Expanding"
   ]
  },
  {
   "cell_type": "code",
   "execution_count": 1158,
   "metadata": {},
   "outputs": [],
   "source": [
    "for i in range(0,(rows+cols) + 10):\n",
    "    for coord_x, row in enumerate(Map):\n",
    "        for coord_y, terrain in enumerate(row):     \n",
    "            if Map[coord_x][coord_y] == '_':\n",
    "                area = neighbors(Map, 1, coord_x, coord_y).copy()\n",
    "                Map[coord_x][coord_y] = get_neighbour_region(area)"
   ]
  },
  {
   "cell_type": "code",
   "execution_count": 1159,
   "metadata": {},
   "outputs": [
    {
     "name": "stdout",
     "output_type": "stream",
     "text": [
      "\u001b[96m ~  \u001b[96m ~  \u001b[96m ~  \u001b[96m ~  \u001b[96m ~  \u001b[96m ~  \u001b[96m ~  \u001b[96m ~  \u001b[92m 8  \u001b[96m ~  \u001b[96m ~  \u001b[92m 5  \u001b[96m ~  \u001b[92m 5  \u001b[96m ~  \u001b[96m ~  \u001b[96m ~  \u001b[96m ~  \u001b[96m ~  \u001b[96m ~  \u001b[96m ~  \u001b[96m ~  \u001b[96m ~  \u001b[96m ~  \u001b[96m ~  \u001b[96m ~  \u001b[96m ~  \u001b[96m ~  \u001b[96m ~  \u001b[96m ~  \u001b[96m ~  \u001b[96m ~  \n",
      "\u001b[96m ~  \u001b[96m ~  \u001b[92m 8  \u001b[91m M  \u001b[92m 8  \u001b[96m ~  \u001b[96m ~  \u001b[92m 8  \u001b[92m 8  \u001b[92m 8  \u001b[92m 8  \u001b[92m 5  \u001b[92m 5  \u001b[96m ~  \u001b[96m ~  \u001b[96m ~  \u001b[96m ~  \u001b[96m ~  \u001b[92m 5  \u001b[92m 5  \u001b[92m 5  \u001b[92m 5  \u001b[92m 5  \u001b[96m ~  \u001b[96m ~  \u001b[92m 5  \u001b[92m 5  \u001b[96m ~  \u001b[91m M  \u001b[91m M  \u001b[96m ~  \u001b[96m ~  \n",
      "\u001b[96m ~  \u001b[96m ~  \u001b[96m ~  \u001b[92m 8  \u001b[92m 8  \u001b[92m 8  \u001b[96m ~  \u001b[92m 8  \u001b[92m 8  \u001b[96m ~  \u001b[92m 8  \u001b[92m 8  \u001b[92m 5  \u001b[92m 5  \u001b[92m 5  \u001b[96m ~  \u001b[92m 5  \u001b[92m 5  \u001b[92m 5  \u001b[92m 5  \u001b[92m 5  \u001b[92m 5  \u001b[92m 5  \u001b[92m 5  \u001b[92m 5  \u001b[92m 5  \u001b[92m 5  \u001b[92m 5  \u001b[91m M  \u001b[92m 5  \u001b[91m M  \u001b[96m ~  \n",
      "\u001b[96m ~  \u001b[96m ~  \u001b[96m ~  \u001b[92m 8  \u001b[92m 8  \u001b[92m 8  \u001b[92m 8  \u001b[92m 8  \u001b[92m 8  \u001b[92m 8  \u001b[92m 8  \u001b[92m 8  \u001b[92m 8  \u001b[92m 5  \u001b[92m 5  \u001b[91m M  \u001b[92m 5  \u001b[92m 5  \u001b[92m 5  \u001b[92m 5  \u001b[92m 5  \u001b[92m 5  \u001b[92m 5  \u001b[92m 5  \u001b[92m 5  \u001b[92m 5  \u001b[92m 5  \u001b[91m M  \u001b[92m 5  \u001b[92m 5  \u001b[96m ~  \u001b[96m ~  \n",
      "\u001b[96m ~  \u001b[96m ~  \u001b[92m 8  \u001b[92m 8  \u001b[92m 8  \u001b[92m 8  \u001b[92m 8  \u001b[92m 8  \u001b[96m ~  \u001b[92m 8  \u001b[92m 8  \u001b[92m 8  \u001b[92m 5  \u001b[92m 5  \u001b[92m 5  \u001b[92m 5  \u001b[92m 5  \u001b[92m 5  \u001b[92m 5  \u001b[92m 5  \u001b[92m 5  \u001b[92m 5  \u001b[92m 5  \u001b[92m 5  \u001b[92m 5  \u001b[92m 5  \u001b[92m 5  \u001b[92m 5  \u001b[92m 5  \u001b[91m M  \u001b[96m ~  \u001b[96m ~  \n",
      "\u001b[96m ~  \u001b[96m ~  \u001b[92m 8  \u001b[92m 8  \u001b[92m 8  \u001b[91m M  \u001b[92m 8  \u001b[92m 8  \u001b[92m 8  \u001b[96m ~  \u001b[96m ~  \u001b[92m 5  \u001b[92m 5  \u001b[92m 5  \u001b[92m 5  \u001b[92m 5  \u001b[92m 5  \u001b[92m 5  \u001b[92m 5  \u001b[96m ~  \u001b[92m 5  \u001b[92m 5  \u001b[92m 5  \u001b[92m 5  \u001b[92m 5  \u001b[92m 5  \u001b[92m 5  \u001b[92m 5  \u001b[91m M  \u001b[91m M  \u001b[92m 5  \u001b[96m ~  \n",
      "\u001b[96m ~  \u001b[96m ~  \u001b[92m 8  \u001b[92m 8  \u001b[96m ~  \u001b[92m 8  \u001b[92m 8  \u001b[92m 8  \u001b[91m M  \u001b[96m ~  \u001b[92m 5  \u001b[92m 5  \u001b[92m 5  \u001b[92m 5  \u001b[92m 5  \u001b[91m M  \u001b[92m 5  \u001b[92m 5  \u001b[92m 5  \u001b[92m 5  \u001b[92m 5  \u001b[92m 5  \u001b[96m ~  \u001b[92m 5  \u001b[92m 5  \u001b[92m 5  \u001b[92m 5  \u001b[91m M  \u001b[92m 5  \u001b[92m 5  \u001b[92m 5  \u001b[92m 5  \n",
      "\u001b[96m ~  \u001b[92m 8  \u001b[92m 8  \u001b[96m ~  \u001b[96m ~  \u001b[96m ~  \u001b[92m 8  \u001b[92m 8  \u001b[96m ~  \u001b[92m 5  \u001b[96m ~  \u001b[92m 5  \u001b[92m 5  \u001b[92m 5  \u001b[91m M  \u001b[91m M  \u001b[92m 5  \u001b[92m 5  \u001b[92m 5  \u001b[92m 5  \u001b[92m 5  \u001b[92m 5  \u001b[96m ~  \u001b[96m ~  \u001b[96m ~  \u001b[92m 5  \u001b[92m 5  \u001b[92m 5  \u001b[92m 5  \u001b[92m 5  \u001b[92m 5  \u001b[92m 5  \n",
      "\u001b[96m ~  \u001b[92m 8  \u001b[92m 8  \u001b[96m ~  \u001b[92m 8  \u001b[96m ~  \u001b[96m ~  \u001b[92m 8  \u001b[92m 6  \u001b[92m 6  \u001b[96m ~  \u001b[92m 5  \u001b[92m 5  \u001b[92m 5  \u001b[92m 5  \u001b[92m 5  \u001b[91m M  \u001b[92m 5  \u001b[92m 5  \u001b[92m 5  \u001b[92m 5  \u001b[92m 5  \u001b[92m 5  \u001b[92m 5  \u001b[92m 5  \u001b[92m 5  \u001b[92m 5  \u001b[92m 5  \u001b[91m M  \u001b[92m 5  \u001b[92m 5  \u001b[96m ~  \n",
      "\u001b[96m ~  \u001b[92m 8  \u001b[92m 8  \u001b[92m 8  \u001b[91m M  \u001b[92m 8  \u001b[96m ~  \u001b[92m 6  \u001b[92m 6  \u001b[92m 5  \u001b[92m 5  \u001b[91m M  \u001b[92m 5  \u001b[92m 5  \u001b[92m 5  \u001b[92m 5  \u001b[92m 5  \u001b[92m 5  \u001b[92m 5  \u001b[96m ~  \u001b[92m 5  \u001b[92m 5  \u001b[92m 5  \u001b[92m 5  \u001b[92m 5  \u001b[92m 5  \u001b[92m 5  \u001b[92m 5  \u001b[92m 5  \u001b[92m 5  \u001b[92m 5  \u001b[96m ~  \n",
      "\u001b[96m ~  \u001b[96m ~  \u001b[92m 8  \u001b[92m 8  \u001b[92m 8  \u001b[92m 8  \u001b[92m 6  \u001b[92m 6  \u001b[92m 6  \u001b[92m 5  \u001b[92m 5  \u001b[92m 5  \u001b[96m ~  \u001b[92m 5  \u001b[92m 5  \u001b[92m 5  \u001b[92m 5  \u001b[92m 5  \u001b[92m 5  \u001b[91m M  \u001b[92m 5  \u001b[92m 5  \u001b[92m 5  \u001b[91m M  \u001b[91m M  \u001b[92m 5  \u001b[92m 5  \u001b[92m 5  \u001b[92m 5  \u001b[92m 5  \u001b[92m 5  \u001b[92m 5  \n",
      "\u001b[96m ~  \u001b[96m ~  \u001b[92m 8  \u001b[92m 8  \u001b[92m 8  \u001b[91m M  \u001b[92m 8  \u001b[92m 6  \u001b[92m 6  \u001b[92m 5  \u001b[92m 5  \u001b[92m 5  \u001b[92m 5  \u001b[92m 5  \u001b[92m 5  \u001b[92m 5  \u001b[92m 5  \u001b[92m 5  \u001b[92m 5  \u001b[92m 5  \u001b[92m 5  \u001b[92m 5  \u001b[92m 5  \u001b[92m 5  \u001b[92m 5  \u001b[92m 5  \u001b[92m 5  \u001b[92m 5  \u001b[92m 5  \u001b[92m 5  \u001b[92m 5  \u001b[92m 5  \n",
      "\u001b[96m ~  \u001b[96m ~  \u001b[92m 8  \u001b[92m 8  \u001b[92m 8  \u001b[91m M  \u001b[92m 6  \u001b[92m 6  \u001b[92m 5  \u001b[92m 5  \u001b[92m 5  \u001b[92m 5  \u001b[92m 5  \u001b[92m 5  \u001b[92m 5  \u001b[92m 5  \u001b[96m ~  \u001b[92m 5  \u001b[92m 5  \u001b[92m 5  \u001b[96m ~  \u001b[92m 5  \u001b[92m 5  \u001b[92m 5  \u001b[92m 5  \u001b[92m 5  \u001b[92m 5  \u001b[92m 5  \u001b[92m 5  \u001b[92m 5  \u001b[92m 5  \u001b[92m 5  \n",
      "\u001b[96m ~  \u001b[96m ~  \u001b[92m 8  \u001b[92m 8  \u001b[92m 8  \u001b[92m 8  \u001b[92m 6  \u001b[92m 6  \u001b[92m 5  \u001b[92m 5  \u001b[92m 5  \u001b[92m 5  \u001b[92m 5  \u001b[92m 5  \u001b[92m 5  \u001b[92m 5  \u001b[96m ~  \u001b[96m ~  \u001b[92m 5  \u001b[92m 5  \u001b[92m 5  \u001b[96m ~  \u001b[92m 5  \u001b[92m 5  \u001b[92m 5  \u001b[92m 5  \u001b[92m 5  \u001b[92m 5  \u001b[92m 5  \u001b[92m 5  \u001b[92m 5  \u001b[96m ~  \n",
      "\u001b[96m ~  \u001b[96m ~  \u001b[92m 8  \u001b[92m 8  \u001b[92m 8  \u001b[92m 6  \u001b[92m 8  \u001b[92m 6  \u001b[92m 5  \u001b[92m 5  \u001b[92m 5  \u001b[92m 5  \u001b[92m 5  \u001b[92m 5  \u001b[92m 5  \u001b[92m 5  \u001b[92m 5  \u001b[96m ~  \u001b[92m 5  \u001b[92m 5  \u001b[92m 5  \u001b[92m 5  \u001b[92m 5  \u001b[91m M  \u001b[92m 5  \u001b[92m 1  \u001b[92m 5  \u001b[92m 5  \u001b[92m 5  \u001b[92m 5  \u001b[96m ~  \u001b[96m ~  \n",
      "\u001b[96m ~  \u001b[92m 6  \u001b[92m 6  \u001b[92m 6  \u001b[92m 6  \u001b[92m 6  \u001b[92m 6  \u001b[92m 6  \u001b[92m 5  \u001b[92m 5  \u001b[92m 5  \u001b[92m 5  \u001b[92m 5  \u001b[91m M  \u001b[92m 5  \u001b[92m 5  \u001b[92m 5  \u001b[92m 5  \u001b[92m 5  \u001b[92m 5  \u001b[92m 5  \u001b[92m 5  \u001b[91m M  \u001b[92m 5  \u001b[92m 1  \u001b[92m 5  \u001b[91m M  \u001b[92m 5  \u001b[91m M  \u001b[96m ~  \u001b[96m ~  \u001b[96m ~  \n",
      "\u001b[92m 6  \u001b[92m 6  \u001b[92m 6  \u001b[92m 6  \u001b[92m 6  \u001b[92m 6  \u001b[92m 6  \u001b[92m 6  \u001b[92m 6  \u001b[92m 5  \u001b[92m 5  \u001b[92m 5  \u001b[92m 5  \u001b[91m M  \u001b[91m M  \u001b[92m 5  \u001b[92m 5  \u001b[92m 5  \u001b[92m 5  \u001b[92m 5  \u001b[92m 5  \u001b[92m 5  \u001b[92m 1  \u001b[92m 1  \u001b[92m 1  \u001b[91m M  \u001b[92m 1  \u001b[92m 1  \u001b[92m 1  \u001b[92m 1  \u001b[96m ~  \u001b[96m ~  \n",
      "\u001b[92m 6  \u001b[92m 6  \u001b[92m 6  \u001b[92m 6  \u001b[92m 6  \u001b[92m 6  \u001b[92m 6  \u001b[92m 6  \u001b[92m 5  \u001b[92m 5  \u001b[92m 5  \u001b[92m 5  \u001b[92m 5  \u001b[92m 5  \u001b[92m 5  \u001b[92m 5  \u001b[92m 5  \u001b[92m 5  \u001b[92m 5  \u001b[92m 5  \u001b[92m 5  \u001b[92m 1  \u001b[92m 1  \u001b[92m 1  \u001b[92m 1  \u001b[92m 1  \u001b[92m 1  \u001b[92m 1  \u001b[92m 1  \u001b[91m M  \u001b[92m 1  \u001b[96m ~  \n",
      "\u001b[92m 6  \u001b[92m 6  \u001b[92m 6  \u001b[92m 6  \u001b[92m 6  \u001b[92m 6  \u001b[96m ~  \u001b[92m 6  \u001b[92m 6  \u001b[92m 6  \u001b[92m 5  \u001b[92m 5  \u001b[92m 5  \u001b[92m 5  \u001b[92m 5  \u001b[92m 5  \u001b[92m 1  \u001b[92m 1  \u001b[92m 1  \u001b[92m 1  \u001b[92m 1  \u001b[92m 1  \u001b[92m 1  \u001b[92m 1  \u001b[92m 1  \u001b[92m 1  \u001b[92m 1  \u001b[91m M  \u001b[92m 1  \u001b[92m 1  \u001b[92m 1  \u001b[96m ~  \n",
      "\u001b[92m 6  \u001b[92m 6  \u001b[92m 6  \u001b[92m 6  \u001b[92m 6  \u001b[92m 6  \u001b[96m ~  \u001b[96m ~  \u001b[91m M  \u001b[92m 6  \u001b[92m 5  \u001b[92m 5  \u001b[92m 5  \u001b[92m 5  \u001b[92m 5  \u001b[92m 5  \u001b[92m 1  \u001b[92m 1  \u001b[92m 1  \u001b[92m 1  \u001b[92m 1  \u001b[92m 1  \u001b[92m 1  \u001b[92m 1  \u001b[92m 1  \u001b[92m 1  \u001b[92m 1  \u001b[92m 1  \u001b[92m 1  \u001b[92m 1  \u001b[96m ~  \u001b[96m ~  \n",
      "\u001b[96m ~  \u001b[96m ~  \u001b[92m 2  \u001b[92m 2  \u001b[92m 2  \u001b[96m ~  \u001b[92m 3  \u001b[96m ~  \u001b[96m ~  \u001b[92m 5  \u001b[92m 5  \u001b[92m 5  \u001b[96m ~  \u001b[92m 5  \u001b[92m 5  \u001b[92m 1  \u001b[92m 1  \u001b[92m 1  \u001b[92m 1  \u001b[92m 1  \u001b[92m 1  \u001b[92m 1  \u001b[92m 1  \u001b[92m 1  \u001b[92m 1  \u001b[92m 1  \u001b[92m 1  \u001b[92m 1  \u001b[92m 1  \u001b[92m 1  \u001b[92m 1  \u001b[96m ~  \n",
      "\u001b[96m ~  \u001b[96m ~  \u001b[92m 2  \u001b[92m 2  \u001b[92m 2  \u001b[92m 2  \u001b[92m 3  \u001b[92m 3  \u001b[92m 3  \u001b[91m M  \u001b[92m 3  \u001b[92m 5  \u001b[92m 3  \u001b[96m ~  \u001b[92m 1  \u001b[92m 1  \u001b[92m 1  \u001b[92m 1  \u001b[92m 1  \u001b[92m 1  \u001b[92m 1  \u001b[91m M  \u001b[91m M  \u001b[91m M  \u001b[92m 1  \u001b[92m 1  \u001b[92m 1  \u001b[92m 1  \u001b[92m 1  \u001b[92m 1  \u001b[92m 1  \u001b[96m ~  \n",
      "\u001b[96m ~  \u001b[92m 2  \u001b[92m 2  \u001b[92m 2  \u001b[96m ~  \u001b[92m 4  \u001b[92m 4  \u001b[92m 4  \u001b[92m 3  \u001b[92m 3  \u001b[96m ~  \u001b[92m 3  \u001b[92m 3  \u001b[92m 3  \u001b[92m 3  \u001b[96m ~  \u001b[92m 1  \u001b[92m 1  \u001b[92m 1  \u001b[92m 1  \u001b[92m 1  \u001b[91m M  \u001b[91m M  \u001b[91m M  \u001b[92m 1  \u001b[91m M  \u001b[92m 1  \u001b[92m 1  \u001b[92m 1  \u001b[92m 1  \u001b[92m 1  \u001b[96m ~  \n",
      "\u001b[96m ~  \u001b[92m 2  \u001b[92m 2  \u001b[92m 2  \u001b[92m 2  \u001b[92m 4  \u001b[92m 4  \u001b[92m 4  \u001b[92m 4  \u001b[92m 3  \u001b[96m ~  \u001b[92m 3  \u001b[92m 3  \u001b[92m 3  \u001b[92m 3  \u001b[96m ~  \u001b[92m 1  \u001b[92m 1  \u001b[92m 1  \u001b[92m 1  \u001b[92m 1  \u001b[92m 1  \u001b[91m M  \u001b[91m M  \u001b[91m M  \u001b[92m 1  \u001b[92m 1  \u001b[92m 1  \u001b[92m 1  \u001b[92m 1  \u001b[92m 1  \u001b[96m ~  \n",
      "\u001b[96m ~  \u001b[92m 2  \u001b[92m 2  \u001b[92m 2  \u001b[92m 2  \u001b[92m 4  \u001b[92m 4  \u001b[92m 4  \u001b[91m M  \u001b[96m ~  \u001b[96m ~  \u001b[92m 3  \u001b[92m 3  \u001b[92m 3  \u001b[96m ~  \u001b[92m 1  \u001b[92m 3  \u001b[92m 1  \u001b[92m 1  \u001b[92m 1  \u001b[92m 1  \u001b[92m 1  \u001b[92m 1  \u001b[91m M  \u001b[92m 1  \u001b[92m 1  \u001b[92m 1  \u001b[92m 1  \u001b[92m 1  \u001b[92m 1  \u001b[91m M  \u001b[92m 1  \n",
      "\u001b[96m ~  \u001b[92m 2  \u001b[91m M  \u001b[92m 2  \u001b[92m 4  \u001b[92m 4  \u001b[92m 4  \u001b[92m 4  \u001b[92m 4  \u001b[92m 3  \u001b[92m 3  \u001b[96m ~  \u001b[92m 3  \u001b[96m ~  \u001b[92m 3  \u001b[92m 3  \u001b[92m 3  \u001b[92m 1  \u001b[96m ~  \u001b[96m ~  \u001b[92m 1  \u001b[92m 1  \u001b[92m 1  \u001b[92m 1  \u001b[91m M  \u001b[92m 1  \u001b[92m 1  \u001b[92m 1  \u001b[92m 1  \u001b[92m 1  \u001b[92m 1  \u001b[96m ~  \n",
      "\u001b[96m ~  \u001b[92m 2  \u001b[92m 2  \u001b[92m 2  \u001b[92m 2  \u001b[92m 2  \u001b[92m 2  \u001b[92m 2  \u001b[96m ~  \u001b[92m 4  \u001b[92m 4  \u001b[92m 4  \u001b[92m 3  \u001b[92m 3  \u001b[92m 3  \u001b[92m 3  \u001b[92m 1  \u001b[92m 1  \u001b[96m ~  \u001b[96m ~  \u001b[92m 1  \u001b[92m 1  \u001b[92m 1  \u001b[92m 1  \u001b[92m 1  \u001b[92m 1  \u001b[92m 1  \u001b[92m 1  \u001b[92m 1  \u001b[92m 1  \u001b[92m 1  \u001b[92m 1  \n",
      "\u001b[96m ~  \u001b[92m 2  \u001b[92m 2  \u001b[92m 2  \u001b[92m 2  \u001b[92m 2  \u001b[92m 2  \u001b[92m 2  \u001b[96m ~  \u001b[92m 4  \u001b[92m 4  \u001b[91m M  \u001b[92m 3  \u001b[92m 3  \u001b[92m 3  \u001b[92m 3  \u001b[92m 1  \u001b[92m 1  \u001b[92m 1  \u001b[92m 1  \u001b[92m 7  \u001b[92m 7  \u001b[92m 1  \u001b[96m ~  \u001b[92m 1  \u001b[92m 1  \u001b[92m 1  \u001b[92m 1  \u001b[92m 1  \u001b[92m 1  \u001b[92m 1  \u001b[96m ~  \n",
      "\u001b[96m ~  \u001b[96m ~  \u001b[92m 2  \u001b[92m 2  \u001b[92m 2  \u001b[92m 2  \u001b[91m M  \u001b[92m 2  \u001b[92m 2  \u001b[92m 4  \u001b[92m 4  \u001b[92m 4  \u001b[92m 3  \u001b[92m 3  \u001b[92m 3  \u001b[92m 1  \u001b[92m 1  \u001b[92m 1  \u001b[92m 1  \u001b[92m 1  \u001b[92m 7  \u001b[91m M  \u001b[92m 7  \u001b[96m ~  \u001b[92m 1  \u001b[92m 1  \u001b[92m 1  \u001b[91m M  \u001b[92m 1  \u001b[92m 1  \u001b[92m 1  \u001b[92m 1  \n",
      "\u001b[96m ~  \u001b[96m ~  \u001b[92m 2  \u001b[92m 2  \u001b[92m 2  \u001b[91m M  \u001b[91m M  \u001b[91m M  \u001b[92m 2  \u001b[92m 2  \u001b[92m 4  \u001b[92m 4  \u001b[92m 4  \u001b[92m 4  \u001b[92m 1  \u001b[92m 1  \u001b[96m ~  \u001b[96m ~  \u001b[92m 1  \u001b[92m 7  \u001b[92m 7  \u001b[92m 7  \u001b[96m ~  \u001b[96m ~  \u001b[92m 1  \u001b[92m 1  \u001b[91m M  \u001b[92m 1  \u001b[92m 1  \u001b[92m 1  \u001b[92m 1  \u001b[96m ~  \n",
      "\u001b[96m ~  \u001b[92m 2  \u001b[92m 2  \u001b[92m 2  \u001b[96m ~  \u001b[92m 2  \u001b[92m 2  \u001b[92m 2  \u001b[92m 2  \u001b[92m 2  \u001b[92m 4  \u001b[92m 1  \u001b[92m 1  \u001b[92m 1  \u001b[92m 1  \u001b[96m ~  \u001b[92m 1  \u001b[96m ~  \u001b[92m 7  \u001b[92m 7  \u001b[96m ~  \u001b[92m 7  \u001b[96m ~  \u001b[96m ~  \u001b[92m 1  \u001b[92m 1  \u001b[92m 1  \u001b[92m 1  \u001b[96m ~  \u001b[91m M  \u001b[92m 1  \u001b[92m 1  \n",
      "\u001b[96m ~  \u001b[96m ~  \u001b[96m ~  \u001b[96m ~  \u001b[96m ~  \u001b[92m 2  \u001b[92m 2  \u001b[96m ~  \u001b[96m ~  \u001b[96m ~  \u001b[96m ~  \u001b[92m 1  \u001b[92m 1  \u001b[92m 1  \u001b[96m ~  \u001b[92m 7  \u001b[92m 7  \u001b[92m 7  \u001b[96m ~  \u001b[96m ~  \u001b[92m 7  \u001b[96m ~  \u001b[96m ~  \u001b[96m ~  \u001b[96m ~  \u001b[96m ~  \u001b[96m ~  \u001b[96m ~  \u001b[96m ~  \u001b[96m ~  \u001b[96m ~  \u001b[96m ~  \n"
     ]
    }
   ],
   "source": [
    "map_print(Map)"
   ]
  }
 ],
 "metadata": {
  "kernelspec": {
   "display_name": "base",
   "language": "python",
   "name": "python3"
  },
  "language_info": {
   "codemirror_mode": {
    "name": "ipython",
    "version": 3
   },
   "file_extension": ".py",
   "mimetype": "text/x-python",
   "name": "python",
   "nbconvert_exporter": "python",
   "pygments_lexer": "ipython3",
   "version": "3.9.13"
  },
  "orig_nbformat": 4,
  "vscode": {
   "interpreter": {
    "hash": "49cb93f377a7abe7414b7b0f21fb3017538004a126cf690fb524202736b7fb92"
   }
  }
 },
 "nbformat": 4,
 "nbformat_minor": 2
}

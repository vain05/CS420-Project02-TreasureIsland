{
  "cells": [
    {
      "cell_type": "markdown",
      "metadata": {
        "id": "6MEWzrKwSGMl"
      },
      "source": [
        "# Shortest Path Finding"
      ]
    },
    {
      "cell_type": "code",
      "execution_count": 1,
      "metadata": {},
      "outputs": [
        {
          "data": {
            "text/plain": [
              "True"
            ]
          },
          "execution_count": 1,
          "metadata": {},
          "output_type": "execute_result"
        }
      ],
      "source": [
        "(1, 1) == (1, 1)"
      ]
    },
    {
      "cell_type": "code",
      "execution_count": 3,
      "metadata": {
        "colab": {
          "base_uri": "https://localhost:8080/"
        },
        "id": "6jB3UNPUSBJw",
        "outputId": "4ec34c91-85c3-4340-d567-ec06ee22c28c"
      },
      "outputs": [
        {
          "name": "stdout",
          "output_type": "stream",
          "text": [
            "Shortest Path is [('right', 5), ('down', 7)]\n",
            "Number of step is:  12\n"
          ]
        }
      ],
      "source": [
        "from collections import deque\n",
        "ROW = 9\n",
        "COL = 10\n",
        " \n",
        "\n",
        "class Point:\n",
        "    def __init__(self,x: int, y: int):\n",
        "        self.x = x\n",
        "        self.y = y\n",
        " \n",
        "\n",
        "class Node:\n",
        "    def __init__(self,pt: Point, step: int):\n",
        "        self.pt = pt\n",
        "        self.step = step\n",
        "\n",
        "\n",
        "def shortest_path(board, source, dest):\n",
        "    def isValid(row: int, col: int):\n",
        "        return (row >= 0) and (row < ROW) and (col >= 0) and (col < COL)\n",
        "    \n",
        "    def BFS(board, src: Point, dest: Point):\n",
        "        rowDir = [-1, 0, 0, 1]\n",
        "        colDir = [0, -1, 1, 0]\n",
        "\n",
        "        if type(board[src.x][src.y]) is not int or type(board[dest.x][dest.y]) is not int:\n",
        "            return [], -1\n",
        "        \n",
        "        visited = {}\n",
        "        \n",
        "        visited[(src.x, src.y)] = (-1, -1)\n",
        "        \n",
        "        q = deque()\n",
        "        \n",
        "        s = Node(src,0)\n",
        "        q.append(s)\n",
        "\n",
        "        while q:\n",
        "            front = q.popleft()\n",
        "            \n",
        "            pt = front.pt\n",
        "            if pt.x == dest.x and pt.y == dest.y:\n",
        "                path = []\n",
        "                while pt.x != -1:\n",
        "                    path.append((pt.x, pt.y))\n",
        "                    pt.x, pt.y = visited[(pt.x, pt.y)]\n",
        "                path.reverse()\n",
        "                return path, front.step\n",
        "            \n",
        "            for i in range(4):\n",
        "                row = pt.x + rowDir[i]\n",
        "                col = pt.y + colDir[i]\n",
        "                \n",
        "                if (isValid(row,col) and type(board[row][col]) is int and not (row, col) in visited):\n",
        "                    visited[(row, col)] = (pt.x, pt.y)\n",
        "                    neighbor = Node(Point(row,col), front.step+1)\n",
        "                    q.append(neighbor)\n",
        "        \n",
        "        return [], -1\n",
        "\n",
        "    def decode(path):\n",
        "        tmp = []\n",
        "        direction = {\n",
        "            (-1, 0): 'up',\n",
        "            (0, 1): 'right',\n",
        "            (0, -1): 'left',\n",
        "            (1, 0): 'down'\n",
        "        }\n",
        "        n = len(path)\n",
        "        for i in range(1, n):\n",
        "            tmp_x, tmp_y = path[i][0] - path[i-1][0], path[i][1] - path[i-1][1]\n",
        "            tmp.append(direction[(tmp_x, tmp_y)])\n",
        "\n",
        "        dirArray = []\n",
        "        countArray = []\n",
        "        count = 1\n",
        "        for j in range(len(tmp)-1):\n",
        "            if tmp[j] != tmp[j + 1]:\n",
        "                dirArray.append(tmp[j])\n",
        "                countArray.append(count)\n",
        "                count = 1\n",
        "        \n",
        "            else:\n",
        "                count += 1\n",
        "        \n",
        "        dirArray.append(tmp[-1])\n",
        "        countArray.append(count)\n",
        "\n",
        "        res = []\n",
        "        for x, y in zip(dirArray, countArray):\n",
        "            res.append((x, y))\n",
        "\n",
        "        return res\n",
        "    \n",
        "\n",
        "     \n",
        "    path, step = BFS(board,source,dest)\n",
        "     \n",
        "    if step!=-1:\n",
        "        print(\"Shortest Path is\", decode(path))\n",
        "        print(\"Number of step is: \", step)\n",
        "    else:\n",
        "        print(\"Shortest Path doesn't exist\")\n",
        "\n",
        "\n",
        "# board = [\n",
        "#             [ 1, 0, 1, 1, 1, 1, 0, 1, 1, 1 ],\n",
        "#             [ 1, 0, 1, 0, 1, 1, 1, 0, 1, 1 ],\n",
        "#             [ 1, 1, 1, 0, 1, 1, 0, 1, 0, 1 ],\n",
        "#             [ 0, 0, 0, 0, 1, 0, 0, 0, 0, 1 ],\n",
        "#             [ 1, 1, 1, 0, 1, 1, 1, 0, 1, 0 ],\n",
        "#             [ 1, 0, 1, 1, 1, 1, 0, 1, 0, 0 ],\n",
        "#             [ 1, 0, 0, 0, 0, 0, 0, 0, 0, 1 ],\n",
        "#             [ 1, 0, 1, 1, 1, 1, 0, 1, 1, 1 ],\n",
        "#             [ 1, 1, 0, 0, 0, 0, 1, 0, 0, 1 ]\n",
        "#         ]\n",
        "# source = Point(0, 0)\n",
        "# dest = Point(3, 4)\n",
        "\n",
        "board = [\n",
        "            [1, 1, 1, 1, 1, 0, 0, 1, 1, 1],\n",
        "            [0, 1, 1, 1, 1, 1, 0, 1, 0, 1],\n",
        "            [0, 0, 1, 0, 1, 1, 1, 0, 0, 1],\n",
        "            [1, 0, 1, 1, 1, 0, 1, 1, 0, 1],\n",
        "            [0, 0, 0, 1, 0, 0, 0, 1, 0, 1],\n",
        "            [1, 0, 1, 1, 1, 0, 0, 1, 1, 0],\n",
        "            [0, 0, 0, 0, 1, 0, 0, 1, 0, 1],\n",
        "            [0, 1, 1, 1, 1, 1, 1, 1, 0, 0],\n",
        "            [1, 1, 1, 1, 1, 0, 0, 1, 1, 1],\n",
        "            [0, 0, 1, 0, 0, 1, 1, 0, 0, 1]\n",
        "        ]\n",
        "\n",
        "source = Point(0,0)\n",
        "dest = Point(7,5)\n",
        "\n",
        "shortest_path(board, source, dest)"
      ]
    }
  ],
  "metadata": {
    "colab": {
      "provenance": []
    },
    "kernelspec": {
      "display_name": "Python 3.10.6 ('DS')",
      "language": "python",
      "name": "python3"
    },
    "language_info": {
      "codemirror_mode": {
        "name": "ipython",
        "version": 3
      },
      "file_extension": ".py",
      "mimetype": "text/x-python",
      "name": "python",
      "nbconvert_exporter": "python",
      "pygments_lexer": "ipython3",
      "version": "3.10.6"
    },
    "vscode": {
      "interpreter": {
        "hash": "1c5122af82361268f066867ad644eaf1c53f4d666331cce3687bbe30c75299c2"
      }
    }
  },
  "nbformat": 4,
  "nbformat_minor": 0
}

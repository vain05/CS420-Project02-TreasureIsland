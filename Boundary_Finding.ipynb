{
 "cells": [
  {
   "cell_type": "code",
   "execution_count": 6,
   "metadata": {},
   "outputs": [],
   "source": [
    "class Point:\n",
    "    def __init__(self,x: int, y: int):\n",
    "        self.x = x\n",
    "        self.y = y\n",
    "\n",
    "def cell(x, y):\n",
    "    if (y < 0 or y >= H or x < 0 or x >= W):\n",
    "        return -1\n",
    "    return board[y][x]\n",
    "\n",
    "def boundary_path(x, y, c):\n",
    "    direction = \"s\"\n",
    "    x0 = x\n",
    "    y0 = y\n",
    "    y += 1\n",
    "    path = []\n",
    "    while True:\n",
    "        checked = False\n",
    "        \n",
    "        if (cell(x, y) == c):\n",
    "            if (cell(x, y-1) not in [-1,c]):\n",
    "                checked=True\n",
    "                res[y-1][x] = 1\n",
    "\n",
    "            if (cell(x, y+1) not in [-1,c]):\n",
    "                checked=True\n",
    "                res[y+1][x] = 1\n",
    "\n",
    "            if (cell(x-1, y) not in [-1,c]):\n",
    "                checked=True\n",
    "                res[y][x-1] = 1\n",
    "\n",
    "            if (cell(x+1, y) not in [-1,c]):\n",
    "                checked=True\n",
    "                res[y][x+1] = 1\n",
    "\n",
    "            if (checked is True):\n",
    "                res[y][x] = 1\n",
    "\n",
    "        print((x,y,direction))\n",
    "\n",
    "        if (x==x0 and y==y0):\n",
    "            break\n",
    "        \n",
    "        match direction:\n",
    "            case \"n\":\n",
    "                l = 1 if (cell(x+1, y-1) == c) else 0\n",
    "                r = 2 if (cell(x, y-1) == c) else 0\n",
    "                direction = [\"w\", \"n\", \"e\", \"e\"][l + r]\n",
    "            case \"e\":\n",
    "                l = 1 if (cell(x, y-1) == c) else 0\n",
    "                r = 2 if (cell(x, y) == c) else 0\n",
    "                direction = [\"n\", \"e\", \"s\", \"s\"][l + r]\n",
    "            case \"s\":\n",
    "                l = 1 if (cell(x, y) == c) else 0\n",
    "                r = 2 if (cell(x-1, y) == c) else 0\n",
    "                direction = [\"e\", \"s\", \"w\", \"w\"][l + r]\n",
    "            case \"w\":\n",
    "                l = 1 if (cell(x-1, y) == c) else 0\n",
    "                r = 2 if (cell(x-1, y-1) == c) else 0\n",
    "                direction = [\"s\", \"w\", \"n\", \"n\"][l + r]\n",
    "        \n",
    "        match direction:\n",
    "            case \"n\":\n",
    "                if y > 0:\n",
    "                    y -= 1\n",
    "                else:\n",
    "                    x -= 1\n",
    "                    direction = \"w\"\n",
    "            case \"e\":\n",
    "                if x < W-1:\n",
    "                    x += 1\n",
    "                else: \n",
    "                    y -= 1\n",
    "                    direction = \"n\"\n",
    "            case \"s\":\n",
    "                if y < H-1:\n",
    "                    y += 1\n",
    "                else:\n",
    "                    x += 1\n",
    "                    direction = \"e\"\n",
    "            case \"w\":\n",
    "                if x > 0:\n",
    "                    x -= 1\n",
    "                else:\n",
    "                    y += 1\n",
    "                    direction = \"s\""
   ]
  },
  {
   "cell_type": "code",
   "execution_count": 7,
   "metadata": {},
   "outputs": [
    {
     "name": "stdout",
     "output_type": "stream",
     "text": [
      "(0, 1, 's')\n",
      "(0, 2, 's')\n",
      "(0, 3, 's')\n",
      "(1, 3, 'e')\n",
      "(2, 3, 'e')\n",
      "(2, 2, 'n')\n",
      "(1, 2, 'w')\n",
      "(1, 1, 'n')\n",
      "(2, 1, 'e')\n",
      "(2, 0, 'n')\n",
      "(1, 0, 'w')\n",
      "(0, 0, 'w')\n"
     ]
    }
   ],
   "source": [
    "res = [[0]*W for _ in range(H)]\n",
    "def boundary_finding():\n",
    "    done = []\n",
    "    for x in range(W):\n",
    "        for y in range(H):\n",
    "            c = board[y][x]\n",
    "            if (c not in done and c == 0):\n",
    "                done.append(c)\n",
    "                boundary_path(x,y,c)\n",
    "\n",
    "boundary_finding()"
   ]
  },
  {
   "cell_type": "code",
   "execution_count": 35,
   "metadata": {},
   "outputs": [],
   "source": [
    "global W, H\n",
    "W = 6\n",
    "H = 4\n",
    "global board, res\n",
    "\n",
    "board = [\n",
    "    [0, 0, 1, 1, 2, 2],\n",
    "    [0, 0, 1, 2, 2, 2],\n",
    "    [0, 0, 2, 2, 3, 2],\n",
    "    [0, 0, 0, 0, 0, 0]\n",
    "]"
   ]
  },
  {
   "cell_type": "code",
   "execution_count": 2,
   "metadata": {},
   "outputs": [],
   "source": [
    "def cell(x, y):\n",
    "    if (y < 0 or y >= H or x < 0 or x >= W):\n",
    "        return -1\n",
    "    return board[y][x]\n",
    "\n",
    "def boundary_finding(region):\n",
    "    done = []\n",
    "    for x in range(W):\n",
    "        for y in range(H):\n",
    "            m = cell(x,y)\n",
    "            t = cell(x,y-1)\n",
    "            r = cell(x+1,y)\n",
    "            l = cell(x-1, y)\n",
    "            b = cell(x, y+1)\n",
    "            tmp = {-1, t, r, l, b, m}\n",
    "            if len(tmp) <= 2:\n",
    "                continue\n",
    "            if (m in region):\n",
    "                res[y][x] = 1"
   ]
  },
  {
   "cell_type": "code",
   "execution_count": 2,
   "metadata": {},
   "outputs": [],
   "source": [
    "def print_sol(sol):\n",
    "    for row in sol:\n",
    "        print(row)"
   ]
  },
  {
   "cell_type": "code",
   "execution_count": 20,
   "metadata": {},
   "outputs": [
    {
     "data": {
      "text/plain": [
       "array([[1, 1, 1],\n",
       "       [0, 0, 0],\n",
       "       [0, 0, 0]])"
      ]
     },
     "execution_count": 20,
     "metadata": {},
     "output_type": "execute_result"
    }
   ],
   "source": [
    "import numpy as np\n",
    "\n",
    "x = np.zeros((3, 3), dtype=int)\n",
    "x[1,] = 1\n",
    "\n",
    "x = np.roll(x, 2, axis = 0)\n",
    "\n",
    "x"
   ]
  },
  {
   "cell_type": "code",
   "execution_count": 8,
   "metadata": {},
   "outputs": [
    {
     "name": "stdout",
     "output_type": "stream",
     "text": [
      "[0, 0, 1, 1, 2, 2]\n",
      "[0, 0, 1, 2, 2, 2]\n",
      "[0, 0, 2, 2, 3, 0]\n",
      "[0, 0, 0, 0, 0, 0]\n",
      "\n",
      "[0, 1, 0, 0, 0, 0]\n",
      "[0, 1, 0, 0, 0, 0]\n",
      "[0, 1, 0, 0, 0, 1]\n",
      "[0, 0, 1, 1, 1, 0]\n"
     ]
    }
   ],
   "source": [
    "res = [[0]*W for _ in range(H)]\n",
    "boundary_finding([0])\n",
    "\n",
    "print_sol(board)\n",
    "print()\n",
    "print_sol(res)"
   ]
  },
  {
   "cell_type": "code",
   "execution_count": 1,
   "metadata": {},
   "outputs": [
    {
     "name": "stderr",
     "output_type": "stream",
     "text": [
      "/var/folders/jz/wtln99xj6vv6wwcgzd39rq7h0000gn/T/ipykernel_5237/616775809.py:1: DeprecationWarning: Please use `binary_dilation` from the `scipy.ndimage` namespace, the `scipy.ndimage.morphology` namespace is deprecated.\n",
      "  from scipy.ndimage.morphology import binary_dilation\n"
     ]
    }
   ],
   "source": [
    "from scipy.ndimage.morphology import binary_dilation\n",
    "import numpy as np"
   ]
  },
  {
   "cell_type": "code",
   "execution_count": 11,
   "metadata": {},
   "outputs": [],
   "source": [
    "def get_boundary(region, region1, region2):\n",
    "    bound1 = np.isin(region, region1)\n",
    "    bound2 = np.isin(region, region2)\n",
    "\n",
    "    k = np.zeros((3,3),dtype=int); k[1] = 1; k[:,1] = 1 # for 8-connected\n",
    "    bound1 = binary_dilation(bound1==0, k) & bound1\n",
    "    bound2 = binary_dilation(bound2==0, k) & bound2\n",
    "\n",
    "    top = np.roll(bound2, -1, axis=0)\n",
    "    top[-1,] = 0\n",
    "\n",
    "    bottom = np.roll(bound2, 1, axis=0)\n",
    "    bottom[0,] = 0\n",
    "    \n",
    "    left = np.roll(bound2, -1, axis=1)\n",
    "    left[:,-1] = 0\n",
    "\n",
    "    right = np.roll(bound2, 1, axis=1)\n",
    "    right[:,0] = 0\n",
    "\n",
    "    bound1 = bound1 * top + bound1 * bottom + bound1 * left + bound1 * right\n",
    "    bound2 = np.roll(bound1 * top, 1, axis=0) + np.roll(bound1 * bottom, -1, axis=0) + np.roll(bound1 * left, 1, axis=1) + np.roll(bound1 * right, -1, axis=1)\n",
    "    res = bound1 + bound2\n",
    "\n",
    "    return res\n",
    "        "
   ]
  },
  {
   "cell_type": "code",
   "execution_count": 33,
   "metadata": {},
   "outputs": [],
   "source": [
    "def get_boundary_1(region):\n",
    "    no_tiles = np.random.randint(2, 3)\n",
    "\n",
    "    k = np.zeros((3,3),dtype=int); k[1] = 1; k[:,1] = 1 # for 8-connected\n",
    "    bound = np.isin(region, 0)\n",
    "    tmp = ~bound\n",
    "    \n",
    "    res = np.zeros((H, W), dtype=bool)\n",
    "    for _ in range(no_tiles):\n",
    "        top = np.roll(bound, -1, axis=0)\n",
    "        top[-1,] = 0\n",
    "\n",
    "        bottom = np.roll(bound, 1, axis=0)\n",
    "        bottom[0,] = 0\n",
    "        \n",
    "        left = np.roll(bound, -1, axis=1)\n",
    "        left[:,-1] = 0\n",
    "\n",
    "        right = np.roll(bound, 1, axis=1)\n",
    "        right[:,0] = 0\n",
    "\n",
    "        bound = top + bottom + left + right\n",
    "        res += bound\n",
    "    \n",
    "    return res * tmp"
   ]
  },
  {
   "cell_type": "code",
   "execution_count": 36,
   "metadata": {},
   "outputs": [
    {
     "name": "stdout",
     "output_type": "stream",
     "text": [
      "[0, 0, 1, 1, 2, 2]\n",
      "[0, 0, 1, 2, 2, 2]\n",
      "[0, 0, 2, 2, 3, 2]\n",
      "[0, 0, 0, 0, 0, 0]\n"
     ]
    },
    {
     "data": {
      "text/plain": [
       "array([[False, False,  True,  True, False, False],\n",
       "       [False, False,  True,  True,  True,  True],\n",
       "       [False, False,  True,  True,  True,  True],\n",
       "       [False, False, False, False, False, False]])"
      ]
     },
     "execution_count": 36,
     "metadata": {},
     "output_type": "execute_result"
    }
   ],
   "source": [
    "print_sol(board)\n",
    "\n",
    "get_boundary_1(board)"
   ]
  }
 ],
 "metadata": {
  "kernelspec": {
   "display_name": "Python 3.10.6 ('DS')",
   "language": "python",
   "name": "python3"
  },
  "language_info": {
   "codemirror_mode": {
    "name": "ipython",
    "version": 3
   },
   "file_extension": ".py",
   "mimetype": "text/x-python",
   "name": "python",
   "nbconvert_exporter": "python",
   "pygments_lexer": "ipython3",
   "version": "3.10.6"
  },
  "orig_nbformat": 4,
  "vscode": {
   "interpreter": {
    "hash": "1c5122af82361268f066867ad644eaf1c53f4d666331cce3687bbe30c75299c2"
   }
  }
 },
 "nbformat": 4,
 "nbformat_minor": 2
}

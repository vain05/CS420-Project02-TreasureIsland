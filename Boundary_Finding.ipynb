{
 "cells": [
  {
   "cell_type": "code",
   "execution_count": 1,
   "metadata": {},
   "outputs": [],
   "source": [
    "global W, H\n",
    "W = 6\n",
    "H = 4\n",
    "global board, res\n",
    "\n",
    "board = [\n",
    "    [0, 0, 1, 1, 2, 2],\n",
    "    [0, 1, 1, 2, 2, 2],\n",
    "    [0, 0, 1, 2, 3, 3],\n",
    "    [0, 0, 1, 2, 3, 3]\n",
    "]"
   ]
  },
  {
   "cell_type": "code",
   "execution_count": 74,
   "metadata": {},
   "outputs": [],
   "source": [
    "class Point:\n",
    "    def __init__(self,x: int, y: int):\n",
    "        self.x = x\n",
    "        self.y = y\n",
    "\n",
    "def cell(x, y):\n",
    "    if (y < 0 or y >= H or x < 0 or x >= W):\n",
    "        return -1\n",
    "    return board[y][x]\n",
    "\n",
    "def boundary_path(x, y, c):\n",
    "    direction = \"s\"\n",
    "    x0 = x\n",
    "    y0 = y\n",
    "    y+=1\n",
    "    path = []\n",
    "    while True:\n",
    "        checked = False\n",
    "        # if (cell(x, y) != -1):\n",
    "        #     if (cell(x, y-1) not in [-1,c]):\n",
    "        #         checked=True\n",
    "        #         res[y-1][x] = 1\n",
    "\n",
    "        #     if (cell(x, y+1) not in [-1,c]):\n",
    "        #         checked=True\n",
    "        #         res[y+1][x] = 1\n",
    "\n",
    "        #     if (cell(x-1, y) not in [-1,c]):\n",
    "        #         checked=True\n",
    "        #         res[y][x-1] = 1\n",
    "\n",
    "        #     if (cell(x+1, y) not in [-1,c]):\n",
    "        #         checked=True\n",
    "        #         res[y][x+1] = 1\n",
    "\n",
    "        #     if (checked is True and cell(x, y) == c):\n",
    "        #         path.append((x,y))\n",
    "        #         res[y][x] = 1\n",
    "        path.append((x,y))\n",
    "\n",
    "        if (cell(x,y) == c):\n",
    "            res[y][x] = 1\n",
    "\n",
    "        if (x==x0 and y==y0):\n",
    "            break\n",
    "\n",
    "        match direction:\n",
    "            case \"n\":\n",
    "                l = 1 if (cell(x-1, y-1) == c) else 0\n",
    "                r = 2 if (cell(x, y-1) == c) else 0\n",
    "                direction = [\"w\", \"n\", \"e\", \"e\"][l + r]\n",
    "            case \"e\":\n",
    "                l = 1 if (cell(x, y-1) == c) else 0\n",
    "                r = 2 if (cell(x, y) == c) else 0\n",
    "                direction = [\"n\", \"e\", \"s\", \"s\"][l + r]\n",
    "            case \"s\":\n",
    "                l = 1 if (cell(x, y) == c) else 0\n",
    "                r = 2 if (cell(x-1, y) == c) else 0\n",
    "                direction = [\"e\", \"s\", \"w\", \"w\"][l + r]\n",
    "            case \"w\":\n",
    "                l = 1 if (cell(x-1, y) == c) else 0\n",
    "                r = 2 if (cell(x-1, y-1) == c) else 0\n",
    "                direction = [\"s\", \"w\", \"n\", \"n\"][l + r]\n",
    "\n",
    "        match direction:\n",
    "            case \"n\":\n",
    "                y -= 1\n",
    "            case \"e\":\n",
    "                x += 1\n",
    "            case \"s\":\n",
    "                y += 1\n",
    "            case \"w\":\n",
    "                x -= 1\n",
    " \n",
    "    print(path)"
   ]
  },
  {
   "cell_type": "code",
   "execution_count": 80,
   "metadata": {},
   "outputs": [
    {
     "name": "stdout",
     "output_type": "stream",
     "text": [
      "[(0, 1), (0, 2), (0, 3), (0, 4), (1, 4), (2, 4), (2, 3), (2, 2), (1, 2), (1, 1), (2, 1), (2, 0), (1, 0), (0, 0)]\n"
     ]
    }
   ],
   "source": [
    "res = [[0]*W for _ in range(H)]\n",
    "def boundary_finding():\n",
    "    done = []\n",
    "    for x in range(W):\n",
    "        for y in range(H):\n",
    "            c = board[y][x]\n",
    "            if (c not in done and c == 0):\n",
    "                done.append(c)\n",
    "                boundary_path(x,y,c)\n",
    "\n",
    "boundary_finding()"
   ]
  },
  {
   "cell_type": "code",
   "execution_count": 4,
   "metadata": {},
   "outputs": [],
   "source": [
    "def print_sol(sol):\n",
    "    for row in sol:\n",
    "        print(row)"
   ]
  },
  {
   "cell_type": "code",
   "execution_count": 81,
   "metadata": {},
   "outputs": [
    {
     "name": "stdout",
     "output_type": "stream",
     "text": [
      "[0, 0, 1, 1, 2, 2]\n",
      "[0, 1, 1, 2, 2, 2]\n",
      "[0, 0, 1, 2, 3, 3]\n",
      "[0, 0, 1, 2, 3, 3]\n",
      "\n",
      "[1, 1, 0, 0, 0, 0]\n",
      "[1, 0, 0, 0, 0, 0]\n",
      "[1, 1, 0, 0, 0, 0]\n",
      "[1, 0, 0, 0, 0, 0]\n"
     ]
    }
   ],
   "source": [
    "print_sol(board)\n",
    "print()\n",
    "print_sol(res)"
   ]
  }
 ],
 "metadata": {
  "interpreter": {
   "hash": "a0820167192a0f8e5b5d75b09b4662218b53e0ef2bbcf14191e112b7c64612ca"
  },
  "kernelspec": {
   "display_name": "Python 3.10.8 64-bit",
   "language": "python",
   "name": "python3"
  },
  "language_info": {
   "codemirror_mode": {
    "name": "ipython",
    "version": 3
   },
   "file_extension": ".py",
   "mimetype": "text/x-python",
   "name": "python",
   "nbconvert_exporter": "python",
   "pygments_lexer": "ipython3",
   "version": "3.10.8"
  },
  "orig_nbformat": 4
 },
 "nbformat": 4,
 "nbformat_minor": 2
}

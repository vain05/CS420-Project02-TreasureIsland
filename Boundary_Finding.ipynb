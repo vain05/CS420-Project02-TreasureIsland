{
 "cells": [
  {
   "cell_type": "code",
   "execution_count": 6,
   "metadata": {},
   "outputs": [],
   "source": [
    "class Point:\n",
    "    def __init__(self,x: int, y: int):\n",
    "        self.x = x\n",
    "        self.y = y\n",
    "\n",
    "def cell(x, y):\n",
    "    if (y < 0 or y >= H or x < 0 or x >= W):\n",
    "        return -1\n",
    "    return board[y][x]\n",
    "\n",
    "def boundary_path(x, y, c):\n",
    "    direction = \"s\"\n",
    "    x0 = x\n",
    "    y0 = y\n",
    "    y += 1\n",
    "    path = []\n",
    "    while True:\n",
    "        checked = False\n",
    "        \n",
    "        if (cell(x, y) == c):\n",
    "            if (cell(x, y-1) not in [-1,c]):\n",
    "                checked=True\n",
    "                res[y-1][x] = 1\n",
    "\n",
    "            if (cell(x, y+1) not in [-1,c]):\n",
    "                checked=True\n",
    "                res[y+1][x] = 1\n",
    "\n",
    "            if (cell(x-1, y) not in [-1,c]):\n",
    "                checked=True\n",
    "                res[y][x-1] = 1\n",
    "\n",
    "            if (cell(x+1, y) not in [-1,c]):\n",
    "                checked=True\n",
    "                res[y][x+1] = 1\n",
    "\n",
    "            if (checked is True):\n",
    "                res[y][x] = 1\n",
    "\n",
    "        print((x,y,direction))\n",
    "\n",
    "        if (x==x0 and y==y0):\n",
    "            break\n",
    "        \n",
    "        match direction:\n",
    "            case \"n\":\n",
    "                l = 1 if (cell(x+1, y-1) == c) else 0\n",
    "                r = 2 if (cell(x, y-1) == c) else 0\n",
    "                direction = [\"w\", \"n\", \"e\", \"e\"][l + r]\n",
    "            case \"e\":\n",
    "                l = 1 if (cell(x, y-1) == c) else 0\n",
    "                r = 2 if (cell(x, y) == c) else 0\n",
    "                direction = [\"n\", \"e\", \"s\", \"s\"][l + r]\n",
    "            case \"s\":\n",
    "                l = 1 if (cell(x, y) == c) else 0\n",
    "                r = 2 if (cell(x-1, y) == c) else 0\n",
    "                direction = [\"e\", \"s\", \"w\", \"w\"][l + r]\n",
    "            case \"w\":\n",
    "                l = 1 if (cell(x-1, y) == c) else 0\n",
    "                r = 2 if (cell(x-1, y-1) == c) else 0\n",
    "                direction = [\"s\", \"w\", \"n\", \"n\"][l + r]\n",
    "        \n",
    "        match direction:\n",
    "            case \"n\":\n",
    "                if y > 0:\n",
    "                    y -= 1\n",
    "                else:\n",
    "                    x -= 1\n",
    "                    direction = \"w\"\n",
    "            case \"e\":\n",
    "                if x < W-1:\n",
    "                    x += 1\n",
    "                else: \n",
    "                    y -= 1\n",
    "                    direction = \"n\"\n",
    "            case \"s\":\n",
    "                if y < H-1:\n",
    "                    y += 1\n",
    "                else:\n",
    "                    x += 1\n",
    "                    direction = \"e\"\n",
    "            case \"w\":\n",
    "                if x > 0:\n",
    "                    x -= 1\n",
    "                else:\n",
    "                    y += 1\n",
    "                    direction = \"s\""
   ]
  },
  {
   "cell_type": "code",
   "execution_count": 7,
   "metadata": {},
   "outputs": [
    {
     "name": "stdout",
     "output_type": "stream",
     "text": [
      "(0, 1, 's')\n",
      "(0, 2, 's')\n",
      "(0, 3, 's')\n",
      "(1, 3, 'e')\n",
      "(2, 3, 'e')\n",
      "(2, 2, 'n')\n",
      "(1, 2, 'w')\n",
      "(1, 1, 'n')\n",
      "(2, 1, 'e')\n",
      "(2, 0, 'n')\n",
      "(1, 0, 'w')\n",
      "(0, 0, 'w')\n"
     ]
    }
   ],
   "source": [
    "res = [[0]*W for _ in range(H)]\n",
    "def boundary_finding():\n",
    "    done = []\n",
    "    for x in range(W):\n",
    "        for y in range(H):\n",
    "            c = board[y][x]\n",
    "            if (c not in done and c == 0):\n",
    "                done.append(c)\n",
    "                boundary_path(x,y,c)\n",
    "\n",
    "boundary_finding()"
   ]
  },
  {
   "cell_type": "code",
   "execution_count": 15,
   "metadata": {},
   "outputs": [],
   "source": [
    "global W, H\n",
    "W = 6\n",
    "H = 4\n",
    "global board, res\n",
    "\n",
    "board = [\n",
    "    [0, 0, 1, 1, 2, 2],\n",
    "    [0, 0, 1, 2, 2, 2],\n",
    "    [0, 0, 2, 2, 3, 0],\n",
    "    [0, 0, 0, 0, 0, 0]\n",
    "]"
   ]
  },
  {
   "cell_type": "code",
   "execution_count": 12,
   "metadata": {},
   "outputs": [],
   "source": [
    "def cell(x, y):\n",
    "    if (y < 0 or y >= H or x < 0 or x >= W):\n",
    "        return -1\n",
    "    return board[y][x]\n",
    "\n",
    "def boundary_finding():\n",
    "    done = []\n",
    "    for x in range(W):\n",
    "        for y in range(H):\n",
    "            m = cell(x,y)\n",
    "            t = cell(x,y-1)\n",
    "            r = cell(x+1,y)\n",
    "            l = cell(x-1, y)\n",
    "            b = cell(x, y+1)\n",
    "            tmp = {-1, t, r, l, b, m}\n",
    "            if len(tmp) <= 2:\n",
    "                continue\n",
    "            res[y][x] = 1"
   ]
  },
  {
   "cell_type": "code",
   "execution_count": 13,
   "metadata": {},
   "outputs": [],
   "source": [
    "def print_sol(sol):\n",
    "    for row in sol:\n",
    "        print(row)"
   ]
  },
  {
   "cell_type": "code",
   "execution_count": 16,
   "metadata": {},
   "outputs": [
    {
     "name": "stdout",
     "output_type": "stream",
     "text": [
      "[0, 0, 1, 1, 2, 2]\n",
      "[0, 0, 1, 2, 2, 2]\n",
      "[0, 0, 2, 2, 3, 0]\n",
      "[0, 0, 0, 0, 0, 0]\n",
      "\n",
      "[0, 1, 1, 1, 1, 0]\n",
      "[0, 1, 1, 1, 1, 1]\n",
      "[0, 1, 1, 1, 1, 1]\n",
      "[0, 0, 1, 1, 1, 0]\n"
     ]
    }
   ],
   "source": [
    "res = [[0]*W for _ in range(H)]\n",
    "boundary_finding()\n",
    "\n",
    "print_sol(board)\n",
    "print()\n",
    "print_sol(res)"
   ]
  }
 ],
 "metadata": {
  "interpreter": {
   "hash": "a0820167192a0f8e5b5d75b09b4662218b53e0ef2bbcf14191e112b7c64612ca"
  },
  "kernelspec": {
   "display_name": "Python 3.10.8 64-bit",
   "language": "python",
   "name": "python3"
  },
  "language_info": {
   "codemirror_mode": {
    "name": "ipython",
    "version": 3
   },
   "file_extension": ".py",
   "mimetype": "text/x-python",
   "name": "python",
   "nbconvert_exporter": "python",
   "pygments_lexer": "ipython3",
   "version": "3.10.8"
  },
  "orig_nbformat": 4
 },
 "nbformat": 4,
 "nbformat_minor": 2
}
